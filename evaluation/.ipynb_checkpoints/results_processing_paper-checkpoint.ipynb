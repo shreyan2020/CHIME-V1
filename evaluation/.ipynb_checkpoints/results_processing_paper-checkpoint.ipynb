{
 "cells": [
  {
   "cell_type": "code",
   "execution_count": 11,
   "id": "impressive-craps",
   "metadata": {},
   "outputs": [],
   "source": [
    "import pandas as pd\n",
    "import glob\n",
    "import seaborn as sns\n",
    "sns.set_style(\"whitegrid\")"
   ]
  },
  {
   "cell_type": "code",
   "execution_count": 2,
   "id": "stuffed-seattle",
   "metadata": {},
   "outputs": [],
   "source": [
    "df = pd.read_csv('inception_utensil_color_bias_TEA_SPOON_effect.csv')"
   ]
  },
  {
   "cell_type": "code",
   "execution_count": 18,
   "id": "selective-apartment",
   "metadata": {},
   "outputs": [
    {
     "name": "stdout",
     "output_type": "stream",
     "text": [
      "teaspoon(0.6177138886673219),color_yellow(0.5036288530627595),color_green(0.4122740147294264),spoon(0.3925251404717638),color_bronze(0.2038094815218653)\n"
     ]
    }
   ],
   "source": [
    "df = df.head()\n",
    "df['treatment'] = df['treatment'].replace('primary_concept_','',regex=True)\n",
    "df['t'] = df['treatment']+'('+df['score'].astype(str)+')'\n",
    "t = df['t'][:5].values\n",
    "print(','.join(t))"
   ]
  },
  {
   "cell_type": "code",
   "execution_count": 10,
   "id": "signed-onion",
   "metadata": {},
   "outputs": [
    {
     "data": {
      "text/html": [
       "<div>\n",
       "<style scoped>\n",
       "    .dataframe tbody tr th:only-of-type {\n",
       "        vertical-align: middle;\n",
       "    }\n",
       "\n",
       "    .dataframe tbody tr th {\n",
       "        vertical-align: top;\n",
       "    }\n",
       "\n",
       "    .dataframe thead th {\n",
       "        text-align: right;\n",
       "    }\n",
       "</style>\n",
       "<table border=\"1\" class=\"dataframe\">\n",
       "  <thead>\n",
       "    <tr style=\"text-align: right;\">\n",
       "      <th></th>\n",
       "      <th>treatment</th>\n",
       "      <th>score</th>\n",
       "    </tr>\n",
       "  </thead>\n",
       "  <tbody>\n",
       "    <tr>\n",
       "      <th>0</th>\n",
       "      <td>teaspoon</td>\n",
       "      <td>0.617714</td>\n",
       "    </tr>\n",
       "    <tr>\n",
       "      <th>1</th>\n",
       "      <td>color_yellow</td>\n",
       "      <td>0.503629</td>\n",
       "    </tr>\n",
       "    <tr>\n",
       "      <th>2</th>\n",
       "      <td>color_green</td>\n",
       "      <td>0.412274</td>\n",
       "    </tr>\n",
       "    <tr>\n",
       "      <th>3</th>\n",
       "      <td>spoon</td>\n",
       "      <td>0.392525</td>\n",
       "    </tr>\n",
       "    <tr>\n",
       "      <th>4</th>\n",
       "      <td>color_bronze</td>\n",
       "      <td>0.203809</td>\n",
       "    </tr>\n",
       "  </tbody>\n",
       "</table>\n",
       "</div>"
      ],
      "text/plain": [
       "      treatment     score\n",
       "0      teaspoon  0.617714\n",
       "1  color_yellow  0.503629\n",
       "2   color_green  0.412274\n",
       "3         spoon  0.392525\n",
       "4  color_bronze  0.203809"
      ]
     },
     "execution_count": 10,
     "metadata": {},
     "output_type": "execute_result"
    }
   ],
   "source": [
    "df.head()"
   ]
  },
  {
   "cell_type": "code",
   "execution_count": 2,
   "id": "animated-flavor",
   "metadata": {},
   "outputs": [],
   "source": [
    "graph_types = [\n",
    "    'bk_obj_color',\n",
    "    'bk_obj_color_shape',\n",
    "    'bk_part_obj_color',\n",
    "    'bk_part_obj_color_shape',\n",
    "    'cds_obj_color',\n",
    "    'cds_obj_color_shape',\n",
    "    'cds_part_obj_color',\n",
    "    'cds_part_obj_color_shape',\n",
    "]\n",
    "modelnames = [\n",
    "    'inception_imageneta_bias',\n",
    "    'squeezenet_imageneta_bias',\n",
    "    'inception_utensil_color_bias',\n",
    "    'inception_utensil_shape_bias',\n",
    "    'inception_utensil_both_bias',\n",
    "    'squeezenet_utensil_both_bias',\n",
    "    'squeezenet_utensil_color_bias',\n",
    "    'squeezenet_utensil_shape_bias'\n",
    "    \n",
    "]\n",
    "imagenet_classes = [\n",
    "    'ants',\n",
    "    'mantis',\n",
    "    'bees'\n",
    "]\n",
    "utensil_classes = [\n",
    "    'TEA_SPOON',\n",
    "    'FISH_SLICE',\n",
    "    'DINNER_CUTLERY'\n",
    "]"
   ]
  },
  {
   "cell_type": "code",
   "execution_count": 546,
   "id": "configured-sigma",
   "metadata": {},
   "outputs": [],
   "source": [
    "final_results = []"
   ]
  },
  {
   "cell_type": "code",
   "execution_count": 547,
   "id": "similar-europe",
   "metadata": {},
   "outputs": [],
   "source": [
    "for gt in graph_types:\n",
    "#     Path(+gt).mkdir(parents=True, exist_ok=True)\n",
    "    for modelname in modelnames:\n",
    "        if 'imagenet' in modelname:\n",
    "                classnames = imagenet_classes\n",
    "        else:\n",
    "            classnames = utensil_classes\n",
    "        for classname in classnames:\n",
    "            filename = modelname+'_'+classname+'.csv'\n",
    "            df = pd.read_csv(gt+'/effects/'+filename)\n",
    "            top = df.sort_values(by='score', ascending=False)[:5]\n",
    "            top = top.round(2)\n",
    "            top = top.replace('primary_concept_','',regex=True)\n",
    "            top['t'] = top['treatment']+'('+top['score'].astype(str)+')'\n",
    "            t = top['t'][:5].values\n",
    "            outp = ','.join(t)\n",
    "            res = {}\n",
    "            \n",
    "            res['gt'] = gt\n",
    "            res['modelname'] = modelname\n",
    "            res['classname'] = classname\n",
    "            res['outs'] = outp\n",
    "            final_results.append(res)\n",
    "            "
   ]
  },
  {
   "cell_type": "code",
   "execution_count": null,
   "id": "conservative-tribute",
   "metadata": {},
   "outputs": [],
   "source": [
    "final_results"
   ]
  },
  {
   "cell_type": "code",
   "execution_count": 549,
   "id": "exotic-keyboard",
   "metadata": {},
   "outputs": [],
   "source": [
    "fd = pd.DataFrame(final_results)"
   ]
  },
  {
   "cell_type": "code",
   "execution_count": 550,
   "id": "advised-olive",
   "metadata": {},
   "outputs": [
    {
     "data": {
      "text/html": [
       "<div>\n",
       "<style scoped>\n",
       "    .dataframe tbody tr th:only-of-type {\n",
       "        vertical-align: middle;\n",
       "    }\n",
       "\n",
       "    .dataframe tbody tr th {\n",
       "        vertical-align: top;\n",
       "    }\n",
       "\n",
       "    .dataframe thead th {\n",
       "        text-align: right;\n",
       "    }\n",
       "</style>\n",
       "<table border=\"1\" class=\"dataframe\">\n",
       "  <thead>\n",
       "    <tr style=\"text-align: right;\">\n",
       "      <th></th>\n",
       "      <th>gt</th>\n",
       "      <th>modelname</th>\n",
       "      <th>classname</th>\n",
       "      <th>outs</th>\n",
       "    </tr>\n",
       "  </thead>\n",
       "  <tbody>\n",
       "    <tr>\n",
       "      <th>0</th>\n",
       "      <td>bk_obj_color</td>\n",
       "      <td>inception_imageneta_bias</td>\n",
       "      <td>ants</td>\n",
       "      <td>plastic_box(0.68),notebook(0.68),leaf(0.64),wh...</td>\n",
       "    </tr>\n",
       "    <tr>\n",
       "      <th>1</th>\n",
       "      <td>bk_obj_color</td>\n",
       "      <td>inception_imageneta_bias</td>\n",
       "      <td>mantis</td>\n",
       "      <td>dog(1.31),tree(0.65),mantis(0.61),storage_box(...</td>\n",
       "    </tr>\n",
       "    <tr>\n",
       "      <th>2</th>\n",
       "      <td>bk_obj_color</td>\n",
       "      <td>inception_imageneta_bias</td>\n",
       "      <td>bees</td>\n",
       "      <td>color_beige(0.76),camera(0.7),bicycle(0.67),be...</td>\n",
       "    </tr>\n",
       "    <tr>\n",
       "      <th>3</th>\n",
       "      <td>bk_obj_color</td>\n",
       "      <td>squeezenet_imageneta_bias</td>\n",
       "      <td>ants</td>\n",
       "      <td>keyboard(1.0),grass(0.93),petri_dish(0.91),inf...</td>\n",
       "    </tr>\n",
       "    <tr>\n",
       "      <th>4</th>\n",
       "      <td>bk_obj_color</td>\n",
       "      <td>squeezenet_imageneta_bias</td>\n",
       "      <td>mantis</td>\n",
       "      <td>basket(0.97),photo(0.74),color_skin(0.73),hous...</td>\n",
       "    </tr>\n",
       "  </tbody>\n",
       "</table>\n",
       "</div>"
      ],
      "text/plain": [
       "             gt                  modelname classname  \\\n",
       "0  bk_obj_color   inception_imageneta_bias      ants   \n",
       "1  bk_obj_color   inception_imageneta_bias    mantis   \n",
       "2  bk_obj_color   inception_imageneta_bias      bees   \n",
       "3  bk_obj_color  squeezenet_imageneta_bias      ants   \n",
       "4  bk_obj_color  squeezenet_imageneta_bias    mantis   \n",
       "\n",
       "                                                outs  \n",
       "0  plastic_box(0.68),notebook(0.68),leaf(0.64),wh...  \n",
       "1  dog(1.31),tree(0.65),mantis(0.61),storage_box(...  \n",
       "2  color_beige(0.76),camera(0.7),bicycle(0.67),be...  \n",
       "3  keyboard(1.0),grass(0.93),petri_dish(0.91),inf...  \n",
       "4  basket(0.97),photo(0.74),color_skin(0.73),hous...  "
      ]
     },
     "execution_count": 550,
     "metadata": {},
     "output_type": "execute_result"
    }
   ],
   "source": [
    "fd.head()"
   ]
  },
  {
   "cell_type": "code",
   "execution_count": 551,
   "id": "worldwide-alabama",
   "metadata": {},
   "outputs": [],
   "source": [
    "fd.to_csv('final_results_for_paper.csv',index=False)"
   ]
  },
  {
   "cell_type": "code",
   "execution_count": 35,
   "id": "subject-difference",
   "metadata": {},
   "outputs": [],
   "source": [
    "li = []"
   ]
  },
  {
   "cell_type": "markdown",
   "id": "adult-petite",
   "metadata": {},
   "source": [
    "import pandas as pd\n",
    "import glob\n",
    "import os"
   ]
  },
  {
   "cell_type": "code",
   "execution_count": 39,
   "id": "muslim-insider",
   "metadata": {},
   "outputs": [
    {
     "data": {
      "text/plain": [
       "'/*.csv'"
      ]
     },
     "execution_count": 39,
     "metadata": {},
     "output_type": "execute_result"
    }
   ],
   "source": [
    "os.path.join('cv/'+gt, \"/*.csv\")"
   ]
  },
  {
   "cell_type": "code",
   "execution_count": 12,
   "id": "about-extra",
   "metadata": {},
   "outputs": [],
   "source": [
    "df = pd.read_csv('cv/cds_obj_color/squeezenet_imageneta_bias_mantis.csv')"
   ]
  },
  {
   "cell_type": "code",
   "execution_count": 13,
   "id": "assured-advance",
   "metadata": {},
   "outputs": [
    {
     "data": {
      "text/html": [
       "<div>\n",
       "<style scoped>\n",
       "    .dataframe tbody tr th:only-of-type {\n",
       "        vertical-align: middle;\n",
       "    }\n",
       "\n",
       "    .dataframe tbody tr th {\n",
       "        vertical-align: top;\n",
       "    }\n",
       "\n",
       "    .dataframe thead th {\n",
       "        text-align: right;\n",
       "    }\n",
       "</style>\n",
       "<table border=\"1\" class=\"dataframe\">\n",
       "  <thead>\n",
       "    <tr style=\"text-align: right;\">\n",
       "      <th></th>\n",
       "      <th>Unnamed: 0</th>\n",
       "      <th>gt</th>\n",
       "      <th>classname</th>\n",
       "      <th>modelname</th>\n",
       "      <th>correct</th>\n",
       "      <th>total</th>\n",
       "      <th>accuracy</th>\n",
       "    </tr>\n",
       "  </thead>\n",
       "  <tbody>\n",
       "    <tr>\n",
       "      <th>0</th>\n",
       "      <td>0</td>\n",
       "      <td>cds_obj_color</td>\n",
       "      <td>mantis</td>\n",
       "      <td>squeezenet_imageneta_bias</td>\n",
       "      <td>16</td>\n",
       "      <td>18</td>\n",
       "      <td>0.888889</td>\n",
       "    </tr>\n",
       "  </tbody>\n",
       "</table>\n",
       "</div>"
      ],
      "text/plain": [
       "   Unnamed: 0             gt classname                  modelname  correct  \\\n",
       "0           0  cds_obj_color    mantis  squeezenet_imageneta_bias       16   \n",
       "\n",
       "   total  accuracy  \n",
       "0     18  0.888889  "
      ]
     },
     "execution_count": 13,
     "metadata": {},
     "output_type": "execute_result"
    }
   ],
   "source": [
    "df.head()"
   ]
  },
  {
   "cell_type": "code",
   "execution_count": 49,
   "id": "double-advocate",
   "metadata": {},
   "outputs": [],
   "source": [
    "df_neg = pd.read_csv('cv/bk_part_obj_color/negative/negative_inception_imageneta_bias_ants.csv')"
   ]
  },
  {
   "cell_type": "code",
   "execution_count": 19,
   "id": "exciting-anaheim",
   "metadata": {},
   "outputs": [
    {
     "data": {
      "text/html": [
       "<div>\n",
       "<style scoped>\n",
       "    .dataframe tbody tr th:only-of-type {\n",
       "        vertical-align: middle;\n",
       "    }\n",
       "\n",
       "    .dataframe tbody tr th {\n",
       "        vertical-align: top;\n",
       "    }\n",
       "\n",
       "    .dataframe thead th {\n",
       "        text-align: right;\n",
       "    }\n",
       "</style>\n",
       "<table border=\"1\" class=\"dataframe\">\n",
       "  <thead>\n",
       "    <tr style=\"text-align: right;\">\n",
       "      <th></th>\n",
       "      <th>Unnamed: 0</th>\n",
       "      <th>gt</th>\n",
       "      <th>classname</th>\n",
       "      <th>modelname</th>\n",
       "      <th>correct</th>\n",
       "      <th>total</th>\n",
       "      <th>accuracy</th>\n",
       "    </tr>\n",
       "  </thead>\n",
       "  <tbody>\n",
       "    <tr>\n",
       "      <th>0</th>\n",
       "      <td>0</td>\n",
       "      <td>cds_obj_color</td>\n",
       "      <td>mantis</td>\n",
       "      <td>squeezenet_imageneta_bias</td>\n",
       "      <td>11</td>\n",
       "      <td>18</td>\n",
       "      <td>0.611111</td>\n",
       "    </tr>\n",
       "  </tbody>\n",
       "</table>\n",
       "</div>"
      ],
      "text/plain": [
       "   Unnamed: 0             gt classname                  modelname  correct  \\\n",
       "0           0  cds_obj_color    mantis  squeezenet_imageneta_bias       11   \n",
       "\n",
       "   total  accuracy  \n",
       "0     18  0.611111  "
      ]
     },
     "execution_count": 19,
     "metadata": {},
     "output_type": "execute_result"
    }
   ],
   "source": [
    "df_neg.head()"
   ]
  },
  {
   "cell_type": "code",
   "execution_count": 54,
   "id": "together-walter",
   "metadata": {},
   "outputs": [
    {
     "data": {
      "text/html": [
       "<div>\n",
       "<style scoped>\n",
       "    .dataframe tbody tr th:only-of-type {\n",
       "        vertical-align: middle;\n",
       "    }\n",
       "\n",
       "    .dataframe tbody tr th {\n",
       "        vertical-align: top;\n",
       "    }\n",
       "\n",
       "    .dataframe thead th {\n",
       "        text-align: right;\n",
       "    }\n",
       "</style>\n",
       "<table border=\"1\" class=\"dataframe\">\n",
       "  <thead>\n",
       "    <tr style=\"text-align: right;\">\n",
       "      <th></th>\n",
       "      <th>gt</th>\n",
       "      <th>classname</th>\n",
       "      <th>modelname</th>\n",
       "      <th>correct_pos</th>\n",
       "      <th>total_pos</th>\n",
       "      <th>accuracy_pos</th>\n",
       "      <th>accuracy_neg</th>\n",
       "      <th>correct_neg</th>\n",
       "      <th>total_neg</th>\n",
       "      <th>accuracy</th>\n",
       "    </tr>\n",
       "  </thead>\n",
       "  <tbody>\n",
       "    <tr>\n",
       "      <th>0</th>\n",
       "      <td>cds_obj_color</td>\n",
       "      <td>ants</td>\n",
       "      <td>squeezenet_imageneta_bias</td>\n",
       "      <td>6</td>\n",
       "      <td>12</td>\n",
       "      <td>0.5</td>\n",
       "      <td>0.888889</td>\n",
       "      <td>8</td>\n",
       "      <td>9</td>\n",
       "      <td>0.888889</td>\n",
       "    </tr>\n",
       "  </tbody>\n",
       "</table>\n",
       "</div>"
      ],
      "text/plain": [
       "              gt classname                  modelname  correct_pos  total_pos  \\\n",
       "0  cds_obj_color      ants  squeezenet_imageneta_bias            6         12   \n",
       "\n",
       "   accuracy_pos  accuracy_neg  correct_neg  total_neg  accuracy  \n",
       "0           0.5      0.888889            8          9  0.888889  "
      ]
     },
     "execution_count": 54,
     "metadata": {},
     "output_type": "execute_result"
    }
   ],
   "source": [
    "pd.merge(df, df_neg[[\"correct\",\"total\",\"classname\",\"accuracy\"]], on=\"classname\", how=\"left\", suffixes=[\"_pos\",\"_neg\"])"
   ]
  },
  {
   "cell_type": "markdown",
   "id": "gentle-turtle",
   "metadata": {},
   "source": [
    "## calculate top 1 accuracy positive"
   ]
  },
  {
   "cell_type": "code",
   "execution_count": 60,
   "id": "parental-detective",
   "metadata": {},
   "outputs": [],
   "source": [
    "df_test = pd.read_csv('cv_final/bk_part_obj_color/squeezenet_utensil_color_bias_FISH_SLICE.csv')"
   ]
  },
  {
   "cell_type": "code",
   "execution_count": 62,
   "id": "biblical-reporter",
   "metadata": {},
   "outputs": [],
   "source": [
    "df_test.drop(columns=['Unnamed: 0'],inplace=True)"
   ]
  },
  {
   "cell_type": "code",
   "execution_count": 63,
   "id": "specific-slovenia",
   "metadata": {},
   "outputs": [
    {
     "data": {
      "text/html": [
       "<div>\n",
       "<style scoped>\n",
       "    .dataframe tbody tr th:only-of-type {\n",
       "        vertical-align: middle;\n",
       "    }\n",
       "\n",
       "    .dataframe tbody tr th {\n",
       "        vertical-align: top;\n",
       "    }\n",
       "\n",
       "    .dataframe thead th {\n",
       "        text-align: right;\n",
       "    }\n",
       "</style>\n",
       "<table border=\"1\" class=\"dataframe\">\n",
       "  <thead>\n",
       "    <tr style=\"text-align: right;\">\n",
       "      <th></th>\n",
       "      <th>predicted_class_1</th>\n",
       "      <th>predicted_class_2</th>\n",
       "      <th>gt</th>\n",
       "      <th>classname</th>\n",
       "      <th>modelname</th>\n",
       "      <th>kw</th>\n",
       "      <th>correct</th>\n",
       "      <th>correct_2</th>\n",
       "      <th>total</th>\n",
       "      <th>accuracy</th>\n",
       "      <th>accuracy_2</th>\n",
       "    </tr>\n",
       "  </thead>\n",
       "  <tbody>\n",
       "    <tr>\n",
       "      <th>0</th>\n",
       "      <td>FISH_SLICE</td>\n",
       "      <td>TEA_SPOON</td>\n",
       "      <td>bk_part_obj_color</td>\n",
       "      <td>FISH_SLICE</td>\n",
       "      <td>squeezenet_utensil_color_bias</td>\n",
       "      <td>light_reflections_of_fork</td>\n",
       "      <td>7</td>\n",
       "      <td>7</td>\n",
       "      <td>7</td>\n",
       "      <td>1.000000</td>\n",
       "      <td>1.000000</td>\n",
       "    </tr>\n",
       "    <tr>\n",
       "      <th>1</th>\n",
       "      <td>DINNER_CUTLERY</td>\n",
       "      <td>FISH_SLICE</td>\n",
       "      <td>bk_part_obj_color</td>\n",
       "      <td>FISH_SLICE</td>\n",
       "      <td>squeezenet_utensil_color_bias</td>\n",
       "      <td>bottom_of_scraper</td>\n",
       "      <td>4</td>\n",
       "      <td>6</td>\n",
       "      <td>7</td>\n",
       "      <td>0.571429</td>\n",
       "      <td>0.857143</td>\n",
       "    </tr>\n",
       "    <tr>\n",
       "      <th>2</th>\n",
       "      <td>FISH_SLICE</td>\n",
       "      <td>TEA_SPOON</td>\n",
       "      <td>bk_part_obj_color</td>\n",
       "      <td>FISH_SLICE</td>\n",
       "      <td>squeezenet_utensil_color_bias</td>\n",
       "      <td>background_color_color_red</td>\n",
       "      <td>2</td>\n",
       "      <td>5</td>\n",
       "      <td>5</td>\n",
       "      <td>0.400000</td>\n",
       "      <td>1.000000</td>\n",
       "    </tr>\n",
       "    <tr>\n",
       "      <th>3</th>\n",
       "      <td>FISH_SLICE</td>\n",
       "      <td>DINNER_CUTLERY</td>\n",
       "      <td>bk_part_obj_color</td>\n",
       "      <td>FISH_SLICE</td>\n",
       "      <td>squeezenet_utensil_color_bias</td>\n",
       "      <td>background_color_color_green</td>\n",
       "      <td>5</td>\n",
       "      <td>6</td>\n",
       "      <td>6</td>\n",
       "      <td>0.833333</td>\n",
       "      <td>1.000000</td>\n",
       "    </tr>\n",
       "    <tr>\n",
       "      <th>4</th>\n",
       "      <td>FISH_SLICE</td>\n",
       "      <td>DINNER_CUTLERY</td>\n",
       "      <td>bk_part_obj_color</td>\n",
       "      <td>FISH_SLICE</td>\n",
       "      <td>squeezenet_utensil_color_bias</td>\n",
       "      <td>metal_drainer/spatula</td>\n",
       "      <td>8</td>\n",
       "      <td>8</td>\n",
       "      <td>8</td>\n",
       "      <td>1.000000</td>\n",
       "      <td>1.000000</td>\n",
       "    </tr>\n",
       "  </tbody>\n",
       "</table>\n",
       "</div>"
      ],
      "text/plain": [
       "  predicted_class_1 predicted_class_2                 gt   classname  \\\n",
       "0        FISH_SLICE         TEA_SPOON  bk_part_obj_color  FISH_SLICE   \n",
       "1    DINNER_CUTLERY        FISH_SLICE  bk_part_obj_color  FISH_SLICE   \n",
       "2        FISH_SLICE         TEA_SPOON  bk_part_obj_color  FISH_SLICE   \n",
       "3        FISH_SLICE    DINNER_CUTLERY  bk_part_obj_color  FISH_SLICE   \n",
       "4        FISH_SLICE    DINNER_CUTLERY  bk_part_obj_color  FISH_SLICE   \n",
       "\n",
       "                       modelname                            kw  correct  \\\n",
       "0  squeezenet_utensil_color_bias     light_reflections_of_fork        7   \n",
       "1  squeezenet_utensil_color_bias             bottom_of_scraper        4   \n",
       "2  squeezenet_utensil_color_bias    background_color_color_red        2   \n",
       "3  squeezenet_utensil_color_bias  background_color_color_green        5   \n",
       "4  squeezenet_utensil_color_bias         metal_drainer/spatula        8   \n",
       "\n",
       "   correct_2  total  accuracy  accuracy_2  \n",
       "0          7      7  1.000000    1.000000  \n",
       "1          6      7  0.571429    0.857143  \n",
       "2          5      5  0.400000    1.000000  \n",
       "3          6      6  0.833333    1.000000  \n",
       "4          8      8  1.000000    1.000000  "
      ]
     },
     "execution_count": 63,
     "metadata": {},
     "output_type": "execute_result"
    }
   ],
   "source": [
    "df_test.head()"
   ]
  },
  {
   "cell_type": "code",
   "execution_count": 81,
   "id": "wrapped-faith",
   "metadata": {},
   "outputs": [
    {
     "data": {
      "text/html": [
       "<div>\n",
       "<style scoped>\n",
       "    .dataframe tbody tr th:only-of-type {\n",
       "        vertical-align: middle;\n",
       "    }\n",
       "\n",
       "    .dataframe tbody tr th {\n",
       "        vertical-align: top;\n",
       "    }\n",
       "\n",
       "    .dataframe thead th {\n",
       "        text-align: right;\n",
       "    }\n",
       "</style>\n",
       "<table border=\"1\" class=\"dataframe\">\n",
       "  <thead>\n",
       "    <tr style=\"text-align: right;\">\n",
       "      <th></th>\n",
       "      <th></th>\n",
       "      <th></th>\n",
       "      <th>accuracy</th>\n",
       "      <th>accuracy_2</th>\n",
       "    </tr>\n",
       "    <tr>\n",
       "      <th>gt</th>\n",
       "      <th>modelname</th>\n",
       "      <th>predicted_class_2</th>\n",
       "      <th></th>\n",
       "      <th></th>\n",
       "    </tr>\n",
       "  </thead>\n",
       "  <tbody>\n",
       "    <tr>\n",
       "      <th rowspan=\"3\" valign=\"top\">bk_part_obj_color</th>\n",
       "      <th rowspan=\"3\" valign=\"top\">squeezenet_utensil_color_bias</th>\n",
       "      <th>DINNER_CUTLERY</th>\n",
       "      <td>0.916667</td>\n",
       "      <td>1.000000</td>\n",
       "    </tr>\n",
       "    <tr>\n",
       "      <th>FISH_SLICE</th>\n",
       "      <td>0.571429</td>\n",
       "      <td>0.857143</td>\n",
       "    </tr>\n",
       "    <tr>\n",
       "      <th>TEA_SPOON</th>\n",
       "      <td>0.700000</td>\n",
       "      <td>1.000000</td>\n",
       "    </tr>\n",
       "  </tbody>\n",
       "</table>\n",
       "</div>"
      ],
      "text/plain": [
       "                                                                   accuracy  \\\n",
       "gt                modelname                     predicted_class_2             \n",
       "bk_part_obj_color squeezenet_utensil_color_bias DINNER_CUTLERY     0.916667   \n",
       "                                                FISH_SLICE         0.571429   \n",
       "                                                TEA_SPOON          0.700000   \n",
       "\n",
       "                                                                   accuracy_2  \n",
       "gt                modelname                     predicted_class_2              \n",
       "bk_part_obj_color squeezenet_utensil_color_bias DINNER_CUTLERY       1.000000  \n",
       "                                                FISH_SLICE           0.857143  \n",
       "                                                TEA_SPOON            1.000000  "
      ]
     },
     "execution_count": 81,
     "metadata": {},
     "output_type": "execute_result"
    }
   ],
   "source": [
    "df_test[['gt','modelname','predicted_class_2','accuracy','accuracy_2']].groupby(by = ['gt','modelname','predicted_class_2']).mean()"
   ]
  },
  {
   "cell_type": "code",
   "execution_count": 84,
   "id": "confused-pottery",
   "metadata": {},
   "outputs": [
    {
     "data": {
      "text/html": [
       "<div>\n",
       "<style scoped>\n",
       "    .dataframe tbody tr th:only-of-type {\n",
       "        vertical-align: middle;\n",
       "    }\n",
       "\n",
       "    .dataframe tbody tr th {\n",
       "        vertical-align: top;\n",
       "    }\n",
       "\n",
       "    .dataframe thead th {\n",
       "        text-align: right;\n",
       "    }\n",
       "</style>\n",
       "<table border=\"1\" class=\"dataframe\">\n",
       "  <thead>\n",
       "    <tr style=\"text-align: right;\">\n",
       "      <th></th>\n",
       "      <th>gt</th>\n",
       "      <th>classname</th>\n",
       "      <th>modelname</th>\n",
       "      <th>correct</th>\n",
       "      <th>total</th>\n",
       "      <th>accuracy</th>\n",
       "    </tr>\n",
       "  </thead>\n",
       "  <tbody>\n",
       "    <tr>\n",
       "      <th>0</th>\n",
       "      <td>bk_part_obj_color</td>\n",
       "      <td>ants</td>\n",
       "      <td>inception_imageneta_bias</td>\n",
       "      <td>3</td>\n",
       "      <td>10</td>\n",
       "      <td>0.3</td>\n",
       "    </tr>\n",
       "  </tbody>\n",
       "</table>\n",
       "</div>"
      ],
      "text/plain": [
       "                  gt classname                 modelname  correct  total  \\\n",
       "0  bk_part_obj_color      ants  inception_imageneta_bias        3     10   \n",
       "\n",
       "   accuracy  \n",
       "0       0.3  "
      ]
     },
     "execution_count": 84,
     "metadata": {},
     "output_type": "execute_result"
    }
   ],
   "source": [
    "df_pos.head()"
   ]
  },
  {
   "cell_type": "code",
   "execution_count": 526,
   "id": "worldwide-taiwan",
   "metadata": {},
   "outputs": [],
   "source": [
    "li = []\n",
    "for gt in graph_types:\n",
    "    all_files = glob.glob('cv_with_shapes/'+gt+'/*.csv')\n",
    "    for filename in all_files:\n",
    "#         print(filename)\n",
    "        pos_file = filename\n",
    "#         neg_file = str('cv/'+gt+'/negative/negative_'+os.path.basename(filename))\n",
    "#         df_neg = pd.read_csv(neg_file)\n",
    "#         df_neg.drop(columns=['Unnamed: 0'],inplace=True)\n",
    "        df_pos = pd.read_csv(filename)\n",
    "        df_pos.drop(columns=['Unnamed: 0'],inplace=True)\n",
    "        df_pos = df_pos[['gt','modelname','classname','accuracy','accuracy_2']]\n",
    "#         df = pd.merge(df_pos, df_neg[[\"correct\",\"total\",\"classname\",\"accuracy\"]], on=\"classname\", how=\"left\", suffixes=[\"_pos\",\"_neg\"])\n",
    "        li.append(df_pos)"
   ]
  },
  {
   "cell_type": "code",
   "execution_count": 527,
   "id": "seventh-interval",
   "metadata": {},
   "outputs": [],
   "source": [
    "frame = pd.concat(li, axis=0, ignore_index=True)"
   ]
  },
  {
   "cell_type": "code",
   "execution_count": 532,
   "id": "interim-knowing",
   "metadata": {},
   "outputs": [
    {
     "data": {
      "text/html": [
       "<div>\n",
       "<style scoped>\n",
       "    .dataframe tbody tr th:only-of-type {\n",
       "        vertical-align: middle;\n",
       "    }\n",
       "\n",
       "    .dataframe tbody tr th {\n",
       "        vertical-align: top;\n",
       "    }\n",
       "\n",
       "    .dataframe thead th {\n",
       "        text-align: right;\n",
       "    }\n",
       "</style>\n",
       "<table border=\"1\" class=\"dataframe\">\n",
       "  <thead>\n",
       "    <tr style=\"text-align: right;\">\n",
       "      <th></th>\n",
       "      <th>gt</th>\n",
       "      <th>modelname</th>\n",
       "      <th>classname</th>\n",
       "      <th>accuracy</th>\n",
       "      <th>accuracy_2</th>\n",
       "    </tr>\n",
       "  </thead>\n",
       "  <tbody>\n",
       "    <tr>\n",
       "      <th>0</th>\n",
       "      <td>bk_obj_color</td>\n",
       "      <td>inception_utensil_shape_bias</td>\n",
       "      <td>TEA_SPOON</td>\n",
       "      <td>0.0</td>\n",
       "      <td>0.000</td>\n",
       "    </tr>\n",
       "    <tr>\n",
       "      <th>1</th>\n",
       "      <td>bk_obj_color</td>\n",
       "      <td>inception_utensil_shape_bias</td>\n",
       "      <td>TEA_SPOON</td>\n",
       "      <td>0.0</td>\n",
       "      <td>0.500</td>\n",
       "    </tr>\n",
       "    <tr>\n",
       "      <th>2</th>\n",
       "      <td>bk_obj_color</td>\n",
       "      <td>inception_utensil_shape_bias</td>\n",
       "      <td>TEA_SPOON</td>\n",
       "      <td>0.0</td>\n",
       "      <td>0.375</td>\n",
       "    </tr>\n",
       "    <tr>\n",
       "      <th>3</th>\n",
       "      <td>bk_obj_color</td>\n",
       "      <td>inception_utensil_shape_bias</td>\n",
       "      <td>TEA_SPOON</td>\n",
       "      <td>0.0</td>\n",
       "      <td>1.000</td>\n",
       "    </tr>\n",
       "    <tr>\n",
       "      <th>4</th>\n",
       "      <td>bk_obj_color</td>\n",
       "      <td>inception_utensil_shape_bias</td>\n",
       "      <td>TEA_SPOON</td>\n",
       "      <td>0.5</td>\n",
       "      <td>1.000</td>\n",
       "    </tr>\n",
       "  </tbody>\n",
       "</table>\n",
       "</div>"
      ],
      "text/plain": [
       "             gt                     modelname  classname  accuracy  accuracy_2\n",
       "0  bk_obj_color  inception_utensil_shape_bias  TEA_SPOON       0.0       0.000\n",
       "1  bk_obj_color  inception_utensil_shape_bias  TEA_SPOON       0.0       0.500\n",
       "2  bk_obj_color  inception_utensil_shape_bias  TEA_SPOON       0.0       0.375\n",
       "3  bk_obj_color  inception_utensil_shape_bias  TEA_SPOON       0.0       1.000\n",
       "4  bk_obj_color  inception_utensil_shape_bias  TEA_SPOON       0.5       1.000"
      ]
     },
     "execution_count": 532,
     "metadata": {},
     "output_type": "execute_result"
    }
   ],
   "source": [
    "frame.head()"
   ]
  },
  {
   "cell_type": "code",
   "execution_count": 533,
   "id": "enhanced-feeling",
   "metadata": {},
   "outputs": [],
   "source": [
    "acc = frame[['gt','modelname','accuracy','accuracy_2']].groupby(by = ['gt','modelname']).agg(['mean','sem'])"
   ]
  },
  {
   "cell_type": "code",
   "execution_count": 534,
   "id": "ultimate-judges",
   "metadata": {},
   "outputs": [],
   "source": [
    "acc = acc.round(2)"
   ]
  },
  {
   "cell_type": "code",
   "execution_count": 536,
   "id": "moving-initial",
   "metadata": {},
   "outputs": [],
   "source": [
    "acc.to_csv('accuracy_final_shape.csv')"
   ]
  },
  {
   "cell_type": "markdown",
   "id": "bearing-architect",
   "metadata": {},
   "source": [
    "## calculate top 1 accuracy negative"
   ]
  },
  {
   "cell_type": "code",
   "execution_count": 494,
   "id": "republican-invitation",
   "metadata": {},
   "outputs": [],
   "source": [
    "df = pd.read_csv('accuracy_final_shape.csv')"
   ]
  },
  {
   "cell_type": "code",
   "execution_count": 495,
   "id": "organic-russell",
   "metadata": {},
   "outputs": [
    {
     "data": {
      "text/html": [
       "<div>\n",
       "<style scoped>\n",
       "    .dataframe tbody tr th:only-of-type {\n",
       "        vertical-align: middle;\n",
       "    }\n",
       "\n",
       "    .dataframe tbody tr th {\n",
       "        vertical-align: top;\n",
       "    }\n",
       "\n",
       "    .dataframe thead th {\n",
       "        text-align: right;\n",
       "    }\n",
       "</style>\n",
       "<table border=\"1\" class=\"dataframe\">\n",
       "  <thead>\n",
       "    <tr style=\"text-align: right;\">\n",
       "      <th></th>\n",
       "      <th>gt</th>\n",
       "      <th>modelname</th>\n",
       "      <th>classname</th>\n",
       "      <th>accuracy</th>\n",
       "      <th>accuracy2</th>\n",
       "      <th>accuracy_neg</th>\n",
       "      <th>accuracy2_neg</th>\n",
       "    </tr>\n",
       "  </thead>\n",
       "  <tbody>\n",
       "    <tr>\n",
       "      <th>0</th>\n",
       "      <td>bk_obj_color</td>\n",
       "      <td>inception_utensil_shape_bias</td>\n",
       "      <td>TEA_SPOON</td>\n",
       "      <td>0.0</td>\n",
       "      <td>0.000</td>\n",
       "      <td>0.000000</td>\n",
       "      <td>0.000000</td>\n",
       "    </tr>\n",
       "    <tr>\n",
       "      <th>1</th>\n",
       "      <td>bk_obj_color</td>\n",
       "      <td>inception_utensil_shape_bias</td>\n",
       "      <td>TEA_SPOON</td>\n",
       "      <td>0.0</td>\n",
       "      <td>0.500</td>\n",
       "      <td>0.000000</td>\n",
       "      <td>0.250000</td>\n",
       "    </tr>\n",
       "    <tr>\n",
       "      <th>2</th>\n",
       "      <td>bk_obj_color</td>\n",
       "      <td>inception_utensil_shape_bias</td>\n",
       "      <td>TEA_SPOON</td>\n",
       "      <td>0.0</td>\n",
       "      <td>0.375</td>\n",
       "      <td>0.000000</td>\n",
       "      <td>0.000000</td>\n",
       "    </tr>\n",
       "    <tr>\n",
       "      <th>3</th>\n",
       "      <td>bk_obj_color</td>\n",
       "      <td>inception_utensil_shape_bias</td>\n",
       "      <td>TEA_SPOON</td>\n",
       "      <td>0.0</td>\n",
       "      <td>1.000</td>\n",
       "      <td>0.111111</td>\n",
       "      <td>0.666667</td>\n",
       "    </tr>\n",
       "    <tr>\n",
       "      <th>4</th>\n",
       "      <td>bk_obj_color</td>\n",
       "      <td>inception_utensil_shape_bias</td>\n",
       "      <td>TEA_SPOON</td>\n",
       "      <td>0.5</td>\n",
       "      <td>1.000</td>\n",
       "      <td>0.000000</td>\n",
       "      <td>0.200000</td>\n",
       "    </tr>\n",
       "  </tbody>\n",
       "</table>\n",
       "</div>"
      ],
      "text/plain": [
       "             gt                     modelname  classname  accuracy  accuracy2  \\\n",
       "0  bk_obj_color  inception_utensil_shape_bias  TEA_SPOON       0.0      0.000   \n",
       "1  bk_obj_color  inception_utensil_shape_bias  TEA_SPOON       0.0      0.500   \n",
       "2  bk_obj_color  inception_utensil_shape_bias  TEA_SPOON       0.0      0.375   \n",
       "3  bk_obj_color  inception_utensil_shape_bias  TEA_SPOON       0.0      1.000   \n",
       "4  bk_obj_color  inception_utensil_shape_bias  TEA_SPOON       0.5      1.000   \n",
       "\n",
       "   accuracy_neg  accuracy2_neg  \n",
       "0      0.000000       0.000000  \n",
       "1      0.000000       0.250000  \n",
       "2      0.000000       0.000000  \n",
       "3      0.111111       0.666667  \n",
       "4      0.000000       0.200000  "
      ]
     },
     "execution_count": 495,
     "metadata": {},
     "output_type": "execute_result"
    }
   ],
   "source": [
    "df.head()"
   ]
  },
  {
   "cell_type": "code",
   "execution_count": 485,
   "id": "hearing-adoption",
   "metadata": {},
   "outputs": [],
   "source": [
    "li = []\n",
    "for gt in graph_types:\n",
    "    all_files = glob.glob('cv_with_shapes_negative/'+gt+'/*.csv')\n",
    "    for filename in all_files:\n",
    "#         print(filename)\n",
    "        pos_file = filename\n",
    "#         neg_file = str('cv/'+gt+'/negative/negative_'+os.path.basename(filename))\n",
    "#         df_neg = pd.read_csv(neg_file)\n",
    "#         df_neg.drop(columns=['Unnamed: 0'],inplace=True)\n",
    "        df_neg = pd.read_csv(filename)\n",
    "        df_neg.drop(columns=['Unnamed: 0'],inplace=True)\n",
    "        df_neg = df_neg[['gt','modelname','classname','accuracy','accuracy_2']]\n",
    "#         df = pd.merge(df_pos, df_neg[[\"correct\",\"total\",\"classname\",\"accuracy\"]], on=\"classname\", how=\"left\", suffixes=[\"_pos\",\"_neg\"])\n",
    "        li.append(df_neg)"
   ]
  },
  {
   "cell_type": "code",
   "execution_count": 486,
   "id": "everyday-young",
   "metadata": {},
   "outputs": [],
   "source": [
    "frame_neg = pd.concat(li, axis=0, ignore_index=True)"
   ]
  },
  {
   "cell_type": "code",
   "execution_count": 491,
   "id": "thrown-tracy",
   "metadata": {},
   "outputs": [
    {
     "data": {
      "text/html": [
       "<div>\n",
       "<style scoped>\n",
       "    .dataframe tbody tr th:only-of-type {\n",
       "        vertical-align: middle;\n",
       "    }\n",
       "\n",
       "    .dataframe tbody tr th {\n",
       "        vertical-align: top;\n",
       "    }\n",
       "\n",
       "    .dataframe thead th {\n",
       "        text-align: right;\n",
       "    }\n",
       "</style>\n",
       "<table border=\"1\" class=\"dataframe\">\n",
       "  <thead>\n",
       "    <tr style=\"text-align: right;\">\n",
       "      <th></th>\n",
       "      <th>gt</th>\n",
       "      <th>modelname</th>\n",
       "      <th>classname</th>\n",
       "      <th>accuracy_x</th>\n",
       "      <th>accuracy_2_x</th>\n",
       "      <th>accuracy_y</th>\n",
       "      <th>accuracy_2_y</th>\n",
       "    </tr>\n",
       "  </thead>\n",
       "  <tbody>\n",
       "    <tr>\n",
       "      <th>0</th>\n",
       "      <td>bk_obj_color</td>\n",
       "      <td>inception_utensil_shape_bias</td>\n",
       "      <td>TEA_SPOON</td>\n",
       "      <td>0.000000</td>\n",
       "      <td>0.000000</td>\n",
       "      <td>0.000000</td>\n",
       "      <td>0.000000</td>\n",
       "    </tr>\n",
       "    <tr>\n",
       "      <th>1</th>\n",
       "      <td>bk_obj_color</td>\n",
       "      <td>inception_utensil_shape_bias</td>\n",
       "      <td>TEA_SPOON</td>\n",
       "      <td>0.000000</td>\n",
       "      <td>0.000000</td>\n",
       "      <td>0.000000</td>\n",
       "      <td>0.250000</td>\n",
       "    </tr>\n",
       "    <tr>\n",
       "      <th>2</th>\n",
       "      <td>bk_obj_color</td>\n",
       "      <td>inception_utensil_shape_bias</td>\n",
       "      <td>TEA_SPOON</td>\n",
       "      <td>0.000000</td>\n",
       "      <td>0.000000</td>\n",
       "      <td>0.000000</td>\n",
       "      <td>0.000000</td>\n",
       "    </tr>\n",
       "    <tr>\n",
       "      <th>3</th>\n",
       "      <td>bk_obj_color</td>\n",
       "      <td>inception_utensil_shape_bias</td>\n",
       "      <td>TEA_SPOON</td>\n",
       "      <td>0.000000</td>\n",
       "      <td>0.000000</td>\n",
       "      <td>0.111111</td>\n",
       "      <td>0.666667</td>\n",
       "    </tr>\n",
       "    <tr>\n",
       "      <th>4</th>\n",
       "      <td>bk_obj_color</td>\n",
       "      <td>inception_utensil_shape_bias</td>\n",
       "      <td>TEA_SPOON</td>\n",
       "      <td>0.000000</td>\n",
       "      <td>0.000000</td>\n",
       "      <td>0.000000</td>\n",
       "      <td>0.200000</td>\n",
       "    </tr>\n",
       "    <tr>\n",
       "      <th>...</th>\n",
       "      <td>...</td>\n",
       "      <td>...</td>\n",
       "      <td>...</td>\n",
       "      <td>...</td>\n",
       "      <td>...</td>\n",
       "      <td>...</td>\n",
       "      <td>...</td>\n",
       "    </tr>\n",
       "    <tr>\n",
       "      <th>4795</th>\n",
       "      <td>cds_part_obj_color_shape</td>\n",
       "      <td>squeezenet_utensil_shape_bias</td>\n",
       "      <td>TEA_SPOON</td>\n",
       "      <td>0.142857</td>\n",
       "      <td>0.714286</td>\n",
       "      <td>0.000000</td>\n",
       "      <td>0.500000</td>\n",
       "    </tr>\n",
       "    <tr>\n",
       "      <th>4796</th>\n",
       "      <td>cds_part_obj_color_shape</td>\n",
       "      <td>squeezenet_utensil_shape_bias</td>\n",
       "      <td>TEA_SPOON</td>\n",
       "      <td>0.142857</td>\n",
       "      <td>0.714286</td>\n",
       "      <td>0.000000</td>\n",
       "      <td>0.000000</td>\n",
       "    </tr>\n",
       "    <tr>\n",
       "      <th>4797</th>\n",
       "      <td>cds_part_obj_color_shape</td>\n",
       "      <td>squeezenet_utensil_shape_bias</td>\n",
       "      <td>TEA_SPOON</td>\n",
       "      <td>0.142857</td>\n",
       "      <td>0.714286</td>\n",
       "      <td>0.000000</td>\n",
       "      <td>0.200000</td>\n",
       "    </tr>\n",
       "    <tr>\n",
       "      <th>4798</th>\n",
       "      <td>cds_part_obj_color_shape</td>\n",
       "      <td>squeezenet_utensil_shape_bias</td>\n",
       "      <td>TEA_SPOON</td>\n",
       "      <td>0.142857</td>\n",
       "      <td>0.714286</td>\n",
       "      <td>0.333333</td>\n",
       "      <td>0.666667</td>\n",
       "    </tr>\n",
       "    <tr>\n",
       "      <th>4799</th>\n",
       "      <td>cds_part_obj_color_shape</td>\n",
       "      <td>squeezenet_utensil_shape_bias</td>\n",
       "      <td>TEA_SPOON</td>\n",
       "      <td>0.142857</td>\n",
       "      <td>0.714286</td>\n",
       "      <td>0.000000</td>\n",
       "      <td>0.000000</td>\n",
       "    </tr>\n",
       "  </tbody>\n",
       "</table>\n",
       "<p>4800 rows × 7 columns</p>\n",
       "</div>"
      ],
      "text/plain": [
       "                            gt                      modelname  classname  \\\n",
       "0                 bk_obj_color   inception_utensil_shape_bias  TEA_SPOON   \n",
       "1                 bk_obj_color   inception_utensil_shape_bias  TEA_SPOON   \n",
       "2                 bk_obj_color   inception_utensil_shape_bias  TEA_SPOON   \n",
       "3                 bk_obj_color   inception_utensil_shape_bias  TEA_SPOON   \n",
       "4                 bk_obj_color   inception_utensil_shape_bias  TEA_SPOON   \n",
       "...                        ...                            ...        ...   \n",
       "4795  cds_part_obj_color_shape  squeezenet_utensil_shape_bias  TEA_SPOON   \n",
       "4796  cds_part_obj_color_shape  squeezenet_utensil_shape_bias  TEA_SPOON   \n",
       "4797  cds_part_obj_color_shape  squeezenet_utensil_shape_bias  TEA_SPOON   \n",
       "4798  cds_part_obj_color_shape  squeezenet_utensil_shape_bias  TEA_SPOON   \n",
       "4799  cds_part_obj_color_shape  squeezenet_utensil_shape_bias  TEA_SPOON   \n",
       "\n",
       "      accuracy_x  accuracy_2_x  accuracy_y  accuracy_2_y  \n",
       "0       0.000000      0.000000    0.000000      0.000000  \n",
       "1       0.000000      0.000000    0.000000      0.250000  \n",
       "2       0.000000      0.000000    0.000000      0.000000  \n",
       "3       0.000000      0.000000    0.111111      0.666667  \n",
       "4       0.000000      0.000000    0.000000      0.200000  \n",
       "...          ...           ...         ...           ...  \n",
       "4795    0.142857      0.714286    0.000000      0.500000  \n",
       "4796    0.142857      0.714286    0.000000      0.000000  \n",
       "4797    0.142857      0.714286    0.000000      0.200000  \n",
       "4798    0.142857      0.714286    0.333333      0.666667  \n",
       "4799    0.142857      0.714286    0.000000      0.000000  \n",
       "\n",
       "[4800 rows x 7 columns]"
      ]
     },
     "execution_count": 491,
     "metadata": {},
     "output_type": "execute_result"
    }
   ],
   "source": [
    "frame.merge(frame_neg, on=['gt','modelname','classname'], how='inner')"
   ]
  },
  {
   "cell_type": "code",
   "execution_count": 483,
   "id": "synthetic-agenda",
   "metadata": {},
   "outputs": [],
   "source": [
    "acc = frame[['gt','modelname','accuracy','accuracy_2']].groupby(by = ['gt','modelname']).agg(['mean','sem'])"
   ]
  },
  {
   "cell_type": "code",
   "execution_count": 484,
   "id": "falling-brass",
   "metadata": {},
   "outputs": [],
   "source": [
    "acc = acc.round(2)"
   ]
  },
  {
   "cell_type": "code",
   "execution_count": 342,
   "id": "presidential-expense",
   "metadata": {},
   "outputs": [],
   "source": [
    "acc.to_csv('accuracy_final_shape_negative.csv', index=False)"
   ]
  },
  {
   "cell_type": "markdown",
   "id": "opening-enzyme",
   "metadata": {},
   "source": [
    "## merge positive and negative"
   ]
  },
  {
   "cell_type": "code",
   "execution_count": 496,
   "id": "superb-crash",
   "metadata": {},
   "outputs": [
    {
     "data": {
      "text/html": [
       "<div>\n",
       "<style scoped>\n",
       "    .dataframe tbody tr th:only-of-type {\n",
       "        vertical-align: middle;\n",
       "    }\n",
       "\n",
       "    .dataframe tbody tr th {\n",
       "        vertical-align: top;\n",
       "    }\n",
       "\n",
       "    .dataframe thead th {\n",
       "        text-align: right;\n",
       "    }\n",
       "</style>\n",
       "<table border=\"1\" class=\"dataframe\">\n",
       "  <thead>\n",
       "    <tr style=\"text-align: right;\">\n",
       "      <th></th>\n",
       "      <th>gt</th>\n",
       "      <th>modelname</th>\n",
       "      <th>classname</th>\n",
       "      <th>accuracy</th>\n",
       "      <th>accuracy2</th>\n",
       "      <th>accuracy_neg</th>\n",
       "      <th>accuracy2_neg</th>\n",
       "    </tr>\n",
       "  </thead>\n",
       "  <tbody>\n",
       "    <tr>\n",
       "      <th>0</th>\n",
       "      <td>bk_obj_color</td>\n",
       "      <td>inception_utensil_shape_bias</td>\n",
       "      <td>TEA_SPOON</td>\n",
       "      <td>0.0</td>\n",
       "      <td>0.000</td>\n",
       "      <td>0.000000</td>\n",
       "      <td>0.000000</td>\n",
       "    </tr>\n",
       "    <tr>\n",
       "      <th>1</th>\n",
       "      <td>bk_obj_color</td>\n",
       "      <td>inception_utensil_shape_bias</td>\n",
       "      <td>TEA_SPOON</td>\n",
       "      <td>0.0</td>\n",
       "      <td>0.500</td>\n",
       "      <td>0.000000</td>\n",
       "      <td>0.250000</td>\n",
       "    </tr>\n",
       "    <tr>\n",
       "      <th>2</th>\n",
       "      <td>bk_obj_color</td>\n",
       "      <td>inception_utensil_shape_bias</td>\n",
       "      <td>TEA_SPOON</td>\n",
       "      <td>0.0</td>\n",
       "      <td>0.375</td>\n",
       "      <td>0.000000</td>\n",
       "      <td>0.000000</td>\n",
       "    </tr>\n",
       "    <tr>\n",
       "      <th>3</th>\n",
       "      <td>bk_obj_color</td>\n",
       "      <td>inception_utensil_shape_bias</td>\n",
       "      <td>TEA_SPOON</td>\n",
       "      <td>0.0</td>\n",
       "      <td>1.000</td>\n",
       "      <td>0.111111</td>\n",
       "      <td>0.666667</td>\n",
       "    </tr>\n",
       "    <tr>\n",
       "      <th>4</th>\n",
       "      <td>bk_obj_color</td>\n",
       "      <td>inception_utensil_shape_bias</td>\n",
       "      <td>TEA_SPOON</td>\n",
       "      <td>0.5</td>\n",
       "      <td>1.000</td>\n",
       "      <td>0.000000</td>\n",
       "      <td>0.200000</td>\n",
       "    </tr>\n",
       "  </tbody>\n",
       "</table>\n",
       "</div>"
      ],
      "text/plain": [
       "             gt                     modelname  classname  accuracy  accuracy2  \\\n",
       "0  bk_obj_color  inception_utensil_shape_bias  TEA_SPOON       0.0      0.000   \n",
       "1  bk_obj_color  inception_utensil_shape_bias  TEA_SPOON       0.0      0.500   \n",
       "2  bk_obj_color  inception_utensil_shape_bias  TEA_SPOON       0.0      0.375   \n",
       "3  bk_obj_color  inception_utensil_shape_bias  TEA_SPOON       0.0      1.000   \n",
       "4  bk_obj_color  inception_utensil_shape_bias  TEA_SPOON       0.5      1.000   \n",
       "\n",
       "   accuracy_neg  accuracy2_neg  \n",
       "0      0.000000       0.000000  \n",
       "1      0.000000       0.250000  \n",
       "2      0.000000       0.000000  \n",
       "3      0.111111       0.666667  \n",
       "4      0.000000       0.200000  "
      ]
     },
     "execution_count": 496,
     "metadata": {},
     "output_type": "execute_result"
    }
   ],
   "source": [
    "df.head()"
   ]
  },
  {
   "cell_type": "code",
   "execution_count": null,
   "id": "transparent-witness",
   "metadata": {},
   "outputs": [],
   "source": [
    "frame_neg[(new_df['gt'] == 'bk_obj_color') & (frame_neg['modelname'] == 'inception_utensil_shape_bias')]"
   ]
  },
  {
   "cell_type": "code",
   "execution_count": 498,
   "id": "worse-litigation",
   "metadata": {},
   "outputs": [
    {
     "data": {
      "text/plain": [
       "gt               15\n",
       "modelname        15\n",
       "classname        15\n",
       "accuracy         15\n",
       "accuracy2        14\n",
       "accuracy_neg     15\n",
       "accuracy2_neg    15\n",
       "dtype: int64"
      ]
     },
     "execution_count": 498,
     "metadata": {},
     "output_type": "execute_result"
    }
   ],
   "source": [
    "df[(df['gt']=='bk_obj_color_shape') & (df.modelname=='inception_utensil_color_bias')].count()"
   ]
  },
  {
   "cell_type": "code",
   "execution_count": 505,
   "id": "geographic-dispatch",
   "metadata": {},
   "outputs": [],
   "source": [
    "df_acc0 = df[~(df.accuracy==0) & ~(df.accuracy_neg==0)]"
   ]
  },
  {
   "cell_type": "code",
   "execution_count": 506,
   "id": "electrical-boards",
   "metadata": {},
   "outputs": [
    {
     "data": {
      "text/html": [
       "<div>\n",
       "<style scoped>\n",
       "    .dataframe tbody tr th:only-of-type {\n",
       "        vertical-align: middle;\n",
       "    }\n",
       "\n",
       "    .dataframe tbody tr th {\n",
       "        vertical-align: top;\n",
       "    }\n",
       "\n",
       "    .dataframe thead th {\n",
       "        text-align: right;\n",
       "    }\n",
       "</style>\n",
       "<table border=\"1\" class=\"dataframe\">\n",
       "  <thead>\n",
       "    <tr style=\"text-align: right;\">\n",
       "      <th></th>\n",
       "      <th>gt</th>\n",
       "      <th>modelname</th>\n",
       "      <th>classname</th>\n",
       "      <th>accuracy</th>\n",
       "      <th>accuracy2</th>\n",
       "      <th>accuracy_neg</th>\n",
       "      <th>accuracy2_neg</th>\n",
       "    </tr>\n",
       "  </thead>\n",
       "  <tbody>\n",
       "    <tr>\n",
       "      <th>5</th>\n",
       "      <td>bk_obj_color</td>\n",
       "      <td>inception_imageneta_bias</td>\n",
       "      <td>ants</td>\n",
       "      <td>0.428571</td>\n",
       "      <td>0.571429</td>\n",
       "      <td>0.750000</td>\n",
       "      <td>0.875000</td>\n",
       "    </tr>\n",
       "    <tr>\n",
       "      <th>6</th>\n",
       "      <td>bk_obj_color</td>\n",
       "      <td>inception_imageneta_bias</td>\n",
       "      <td>ants</td>\n",
       "      <td>0.400000</td>\n",
       "      <td>0.900000</td>\n",
       "      <td>0.111111</td>\n",
       "      <td>0.444444</td>\n",
       "    </tr>\n",
       "    <tr>\n",
       "      <th>9</th>\n",
       "      <td>bk_obj_color</td>\n",
       "      <td>inception_imageneta_bias</td>\n",
       "      <td>ants</td>\n",
       "      <td>0.857143</td>\n",
       "      <td>1.000000</td>\n",
       "      <td>0.444444</td>\n",
       "      <td>0.777778</td>\n",
       "    </tr>\n",
       "    <tr>\n",
       "      <th>12</th>\n",
       "      <td>bk_obj_color</td>\n",
       "      <td>inception_imageneta_bias</td>\n",
       "      <td>bees</td>\n",
       "      <td>0.875000</td>\n",
       "      <td>1.000000</td>\n",
       "      <td>0.111111</td>\n",
       "      <td>0.444444</td>\n",
       "    </tr>\n",
       "    <tr>\n",
       "      <th>13</th>\n",
       "      <td>bk_obj_color</td>\n",
       "      <td>inception_imageneta_bias</td>\n",
       "      <td>bees</td>\n",
       "      <td>0.888889</td>\n",
       "      <td>0.888889</td>\n",
       "      <td>0.100000</td>\n",
       "      <td>0.400000</td>\n",
       "    </tr>\n",
       "  </tbody>\n",
       "</table>\n",
       "</div>"
      ],
      "text/plain": [
       "              gt                 modelname classname  accuracy  accuracy2  \\\n",
       "5   bk_obj_color  inception_imageneta_bias      ants  0.428571   0.571429   \n",
       "6   bk_obj_color  inception_imageneta_bias      ants  0.400000   0.900000   \n",
       "9   bk_obj_color  inception_imageneta_bias      ants  0.857143   1.000000   \n",
       "12  bk_obj_color  inception_imageneta_bias      bees  0.875000   1.000000   \n",
       "13  bk_obj_color  inception_imageneta_bias      bees  0.888889   0.888889   \n",
       "\n",
       "    accuracy_neg  accuracy2_neg  \n",
       "5       0.750000       0.875000  \n",
       "6       0.111111       0.444444  \n",
       "9       0.444444       0.777778  \n",
       "12      0.111111       0.444444  \n",
       "13      0.100000       0.400000  "
      ]
     },
     "execution_count": 506,
     "metadata": {},
     "output_type": "execute_result"
    }
   ],
   "source": [
    "df_acc0.head()"
   ]
  },
  {
   "cell_type": "code",
   "execution_count": 507,
   "id": "trained-novel",
   "metadata": {},
   "outputs": [],
   "source": [
    "df_acc2 = df[~(df.accuracy2==0) & ~(df.accuracy2_neg==0)]"
   ]
  },
  {
   "cell_type": "code",
   "execution_count": 508,
   "id": "valid-petroleum",
   "metadata": {},
   "outputs": [
    {
     "data": {
      "text/html": [
       "<div>\n",
       "<style scoped>\n",
       "    .dataframe tbody tr th:only-of-type {\n",
       "        vertical-align: middle;\n",
       "    }\n",
       "\n",
       "    .dataframe tbody tr th {\n",
       "        vertical-align: top;\n",
       "    }\n",
       "\n",
       "    .dataframe thead th {\n",
       "        text-align: right;\n",
       "    }\n",
       "</style>\n",
       "<table border=\"1\" class=\"dataframe\">\n",
       "  <thead>\n",
       "    <tr style=\"text-align: right;\">\n",
       "      <th></th>\n",
       "      <th>gt</th>\n",
       "      <th>modelname</th>\n",
       "      <th>classname</th>\n",
       "      <th>accuracy</th>\n",
       "      <th>accuracy2</th>\n",
       "      <th>accuracy_neg</th>\n",
       "      <th>accuracy2_neg</th>\n",
       "    </tr>\n",
       "  </thead>\n",
       "  <tbody>\n",
       "    <tr>\n",
       "      <th>1</th>\n",
       "      <td>bk_obj_color</td>\n",
       "      <td>inception_utensil_shape_bias</td>\n",
       "      <td>TEA_SPOON</td>\n",
       "      <td>0.000000</td>\n",
       "      <td>0.500000</td>\n",
       "      <td>0.000000</td>\n",
       "      <td>0.250000</td>\n",
       "    </tr>\n",
       "    <tr>\n",
       "      <th>3</th>\n",
       "      <td>bk_obj_color</td>\n",
       "      <td>inception_utensil_shape_bias</td>\n",
       "      <td>TEA_SPOON</td>\n",
       "      <td>0.000000</td>\n",
       "      <td>1.000000</td>\n",
       "      <td>0.111111</td>\n",
       "      <td>0.666667</td>\n",
       "    </tr>\n",
       "    <tr>\n",
       "      <th>4</th>\n",
       "      <td>bk_obj_color</td>\n",
       "      <td>inception_utensil_shape_bias</td>\n",
       "      <td>TEA_SPOON</td>\n",
       "      <td>0.500000</td>\n",
       "      <td>1.000000</td>\n",
       "      <td>0.000000</td>\n",
       "      <td>0.200000</td>\n",
       "    </tr>\n",
       "    <tr>\n",
       "      <th>5</th>\n",
       "      <td>bk_obj_color</td>\n",
       "      <td>inception_imageneta_bias</td>\n",
       "      <td>ants</td>\n",
       "      <td>0.428571</td>\n",
       "      <td>0.571429</td>\n",
       "      <td>0.750000</td>\n",
       "      <td>0.875000</td>\n",
       "    </tr>\n",
       "    <tr>\n",
       "      <th>6</th>\n",
       "      <td>bk_obj_color</td>\n",
       "      <td>inception_imageneta_bias</td>\n",
       "      <td>ants</td>\n",
       "      <td>0.400000</td>\n",
       "      <td>0.900000</td>\n",
       "      <td>0.111111</td>\n",
       "      <td>0.444444</td>\n",
       "    </tr>\n",
       "  </tbody>\n",
       "</table>\n",
       "</div>"
      ],
      "text/plain": [
       "             gt                     modelname  classname  accuracy  accuracy2  \\\n",
       "1  bk_obj_color  inception_utensil_shape_bias  TEA_SPOON  0.000000   0.500000   \n",
       "3  bk_obj_color  inception_utensil_shape_bias  TEA_SPOON  0.000000   1.000000   \n",
       "4  bk_obj_color  inception_utensil_shape_bias  TEA_SPOON  0.500000   1.000000   \n",
       "5  bk_obj_color      inception_imageneta_bias       ants  0.428571   0.571429   \n",
       "6  bk_obj_color      inception_imageneta_bias       ants  0.400000   0.900000   \n",
       "\n",
       "   accuracy_neg  accuracy2_neg  \n",
       "1      0.000000       0.250000  \n",
       "3      0.111111       0.666667  \n",
       "4      0.000000       0.200000  \n",
       "5      0.750000       0.875000  \n",
       "6      0.111111       0.444444  "
      ]
     },
     "execution_count": 508,
     "metadata": {},
     "output_type": "execute_result"
    }
   ],
   "source": [
    "df_acc2.head()"
   ]
  },
  {
   "cell_type": "code",
   "execution_count": 509,
   "id": "consistent-model",
   "metadata": {},
   "outputs": [
    {
     "data": {
      "text/plain": [
       "gt               5\n",
       "modelname        5\n",
       "classname        5\n",
       "accuracy         5\n",
       "accuracy2        5\n",
       "accuracy_neg     5\n",
       "accuracy2_neg    5\n",
       "dtype: int64"
      ]
     },
     "execution_count": 509,
     "metadata": {},
     "output_type": "execute_result"
    }
   ],
   "source": [
    "df[(df['accuracy'] > df['accuracy_neg']) & (df['gt']=='bk_obj_color') & (df.modelname=='inception_utensil_shape_bias')].count()"
   ]
  },
  {
   "cell_type": "code",
   "execution_count": 424,
   "id": "focal-alloy",
   "metadata": {},
   "outputs": [
    {
     "data": {
      "text/plain": [
       "gt              0.0\n",
       "modelname       0.0\n",
       "classname       0.0\n",
       "accuracy_pos    0.0\n",
       "accuracy_neg    0.0\n",
       "dtype: float64"
      ]
     },
     "execution_count": 424,
     "metadata": {},
     "output_type": "execute_result"
    }
   ],
   "source": [
    "df1[(df1['accuracy_pos'] > df1['accuracy_neg']) & (df1['gt']=='bk_obj_color_shape') & (df1.modelname=='inception_utensil_color_bias')].count()/df1[(df1['gt']=='bk_obj_color') & (df1.modelname=='inception_utensil_both_bias')].count()"
   ]
  },
  {
   "cell_type": "code",
   "execution_count": 403,
   "id": "incorporated-charge",
   "metadata": {},
   "outputs": [
    {
     "data": {
      "text/plain": [
       "0.7066666666666667"
      ]
     },
     "execution_count": 403,
     "metadata": {},
     "output_type": "execute_result"
    }
   ],
   "source": [
    "53/75"
   ]
  },
  {
   "cell_type": "code",
   "execution_count": 432,
   "id": "velvet-anchor",
   "metadata": {},
   "outputs": [],
   "source": [
    "df1 = df[['gt','modelname','classname','accuracy_2_pos','accuracy_2_neg']]"
   ]
  },
  {
   "cell_type": "code",
   "execution_count": 512,
   "id": "developed-imagination",
   "metadata": {},
   "outputs": [],
   "source": [
    "t = df_acc0[df_acc0['accuracy'] > df_acc0['accuracy_neg']].groupby(['gt','modelname']).count()/df_acc0.groupby(['gt','modelname']).count()"
   ]
  },
  {
   "cell_type": "code",
   "execution_count": 521,
   "id": "active-climb",
   "metadata": {},
   "outputs": [],
   "source": [
    "t = df_acc2[df_acc2['accuracy2'] > df_acc2['accuracy2_neg']].groupby(['gt','modelname']).count()/df_acc2.groupby(['gt','modelname']).count()"
   ]
  },
  {
   "cell_type": "code",
   "execution_count": 522,
   "id": "conceptual-textbook",
   "metadata": {},
   "outputs": [],
   "source": [
    "t['classname'] = t['classname'].round(2)*100"
   ]
  },
  {
   "cell_type": "code",
   "execution_count": 523,
   "id": "micro-bumper",
   "metadata": {},
   "outputs": [],
   "source": [
    "t = t[['classname']]"
   ]
  },
  {
   "cell_type": "code",
   "execution_count": 524,
   "id": "amino-thesaurus",
   "metadata": {},
   "outputs": [
    {
     "data": {
      "text/html": [
       "<div>\n",
       "<style scoped>\n",
       "    .dataframe tbody tr th:only-of-type {\n",
       "        vertical-align: middle;\n",
       "    }\n",
       "\n",
       "    .dataframe tbody tr th {\n",
       "        vertical-align: top;\n",
       "    }\n",
       "\n",
       "    .dataframe thead th {\n",
       "        text-align: right;\n",
       "    }\n",
       "</style>\n",
       "<table border=\"1\" class=\"dataframe\">\n",
       "  <thead>\n",
       "    <tr style=\"text-align: right;\">\n",
       "      <th></th>\n",
       "      <th></th>\n",
       "      <th>classname</th>\n",
       "    </tr>\n",
       "    <tr>\n",
       "      <th>gt</th>\n",
       "      <th>modelname</th>\n",
       "      <th></th>\n",
       "    </tr>\n",
       "  </thead>\n",
       "  <tbody>\n",
       "    <tr>\n",
       "      <th rowspan=\"5\" valign=\"top\">bk_obj_color</th>\n",
       "      <th>inception_imageneta_bias</th>\n",
       "      <td>53.0</td>\n",
       "    </tr>\n",
       "    <tr>\n",
       "      <th>inception_utensil_both_bias</th>\n",
       "      <td>10.0</td>\n",
       "    </tr>\n",
       "    <tr>\n",
       "      <th>inception_utensil_color_bias</th>\n",
       "      <td>36.0</td>\n",
       "    </tr>\n",
       "    <tr>\n",
       "      <th>inception_utensil_shape_bias</th>\n",
       "      <td>33.0</td>\n",
       "    </tr>\n",
       "    <tr>\n",
       "      <th>squeezenet_imageneta_bias</th>\n",
       "      <td>54.0</td>\n",
       "    </tr>\n",
       "  </tbody>\n",
       "</table>\n",
       "</div>"
      ],
      "text/plain": [
       "                                           classname\n",
       "gt           modelname                              \n",
       "bk_obj_color inception_imageneta_bias           53.0\n",
       "             inception_utensil_both_bias        10.0\n",
       "             inception_utensil_color_bias       36.0\n",
       "             inception_utensil_shape_bias       33.0\n",
       "             squeezenet_imageneta_bias          54.0"
      ]
     },
     "execution_count": 524,
     "metadata": {},
     "output_type": "execute_result"
    }
   ],
   "source": [
    "t.head()"
   ]
  },
  {
   "cell_type": "code",
   "execution_count": 525,
   "id": "compact-journalist",
   "metadata": {},
   "outputs": [],
   "source": [
    "t.to_csv('t2.csv')"
   ]
  },
  {
   "cell_type": "code",
   "execution_count": 364,
   "id": "living-hardwood",
   "metadata": {},
   "outputs": [],
   "source": [
    "tmp = df[['gt','modelname','accuracy_pos','accuracy_neg']].groupby(by = ['gt','modelname']).agg(['mean','sem'])"
   ]
  },
  {
   "cell_type": "code",
   "execution_count": 378,
   "id": "metric-franklin",
   "metadata": {},
   "outputs": [],
   "source": [
    "tmp = tmp.reset_index()"
   ]
  },
  {
   "cell_type": "code",
   "execution_count": 379,
   "id": "certified-preparation",
   "metadata": {},
   "outputs": [
    {
     "data": {
      "text/html": [
       "<div>\n",
       "<style scoped>\n",
       "    .dataframe tbody tr th:only-of-type {\n",
       "        vertical-align: middle;\n",
       "    }\n",
       "\n",
       "    .dataframe tbody tr th {\n",
       "        vertical-align: top;\n",
       "    }\n",
       "\n",
       "    .dataframe thead tr th {\n",
       "        text-align: left;\n",
       "    }\n",
       "</style>\n",
       "<table border=\"1\" class=\"dataframe\">\n",
       "  <thead>\n",
       "    <tr>\n",
       "      <th></th>\n",
       "      <th>gt</th>\n",
       "      <th>modelname</th>\n",
       "      <th colspan=\"2\" halign=\"left\">accuracy_pos</th>\n",
       "      <th colspan=\"2\" halign=\"left\">accuracy_neg</th>\n",
       "    </tr>\n",
       "    <tr>\n",
       "      <th></th>\n",
       "      <th></th>\n",
       "      <th></th>\n",
       "      <th>mean</th>\n",
       "      <th>sem</th>\n",
       "      <th>mean</th>\n",
       "      <th>sem</th>\n",
       "    </tr>\n",
       "  </thead>\n",
       "  <tbody>\n",
       "    <tr>\n",
       "      <th>0</th>\n",
       "      <td>bk_obj_color</td>\n",
       "      <td>inception_imageneta_bias</td>\n",
       "      <td>0.570291</td>\n",
       "      <td>0.039516</td>\n",
       "      <td>0.316481</td>\n",
       "      <td>0.032521</td>\n",
       "    </tr>\n",
       "    <tr>\n",
       "      <th>1</th>\n",
       "      <td>bk_obj_color</td>\n",
       "      <td>inception_utensil_both_bias</td>\n",
       "      <td>0.395952</td>\n",
       "      <td>0.045911</td>\n",
       "      <td>0.304630</td>\n",
       "      <td>0.044261</td>\n",
       "    </tr>\n",
       "    <tr>\n",
       "      <th>2</th>\n",
       "      <td>bk_obj_color</td>\n",
       "      <td>inception_utensil_color_bias</td>\n",
       "      <td>0.333333</td>\n",
       "      <td>0.054800</td>\n",
       "      <td>0.325926</td>\n",
       "      <td>0.051568</td>\n",
       "    </tr>\n",
       "    <tr>\n",
       "      <th>3</th>\n",
       "      <td>bk_obj_color</td>\n",
       "      <td>inception_utensil_shape_bias</td>\n",
       "      <td>0.355926</td>\n",
       "      <td>0.046227</td>\n",
       "      <td>0.313519</td>\n",
       "      <td>0.046986</td>\n",
       "    </tr>\n",
       "    <tr>\n",
       "      <th>4</th>\n",
       "      <td>bk_obj_color</td>\n",
       "      <td>squeezenet_imageneta_bias</td>\n",
       "      <td>0.419550</td>\n",
       "      <td>0.035507</td>\n",
       "      <td>0.308889</td>\n",
       "      <td>0.035352</td>\n",
       "    </tr>\n",
       "  </tbody>\n",
       "</table>\n",
       "</div>"
      ],
      "text/plain": [
       "             gt                     modelname accuracy_pos            \\\n",
       "                                                      mean       sem   \n",
       "0  bk_obj_color      inception_imageneta_bias     0.570291  0.039516   \n",
       "1  bk_obj_color   inception_utensil_both_bias     0.395952  0.045911   \n",
       "2  bk_obj_color  inception_utensil_color_bias     0.333333  0.054800   \n",
       "3  bk_obj_color  inception_utensil_shape_bias     0.355926  0.046227   \n",
       "4  bk_obj_color     squeezenet_imageneta_bias     0.419550  0.035507   \n",
       "\n",
       "  accuracy_neg            \n",
       "          mean       sem  \n",
       "0     0.316481  0.032521  \n",
       "1     0.304630  0.044261  \n",
       "2     0.325926  0.051568  \n",
       "3     0.313519  0.046986  \n",
       "4     0.308889  0.035352  "
      ]
     },
     "execution_count": 379,
     "metadata": {},
     "output_type": "execute_result"
    }
   ],
   "source": [
    "tmp.head()"
   ]
  },
  {
   "cell_type": "code",
   "execution_count": null,
   "id": "minus-duplicate",
   "metadata": {},
   "outputs": [],
   "source": []
  },
  {
   "cell_type": "code",
   "execution_count": null,
   "id": "integrated-yugoslavia",
   "metadata": {},
   "outputs": [],
   "source": []
  },
  {
   "cell_type": "code",
   "execution_count": null,
   "id": "nominated-sudan",
   "metadata": {},
   "outputs": [],
   "source": []
  },
  {
   "cell_type": "code",
   "execution_count": 376,
   "id": "muslim-beverage",
   "metadata": {},
   "outputs": [
    {
     "data": {
      "text/html": [
       "<div>\n",
       "<style scoped>\n",
       "    .dataframe tbody tr th:only-of-type {\n",
       "        vertical-align: middle;\n",
       "    }\n",
       "\n",
       "    .dataframe tbody tr th {\n",
       "        vertical-align: top;\n",
       "    }\n",
       "\n",
       "    .dataframe thead tr th {\n",
       "        text-align: left;\n",
       "    }\n",
       "\n",
       "    .dataframe thead tr:last-of-type th {\n",
       "        text-align: right;\n",
       "    }\n",
       "</style>\n",
       "<table border=\"1\" class=\"dataframe\">\n",
       "  <thead>\n",
       "    <tr>\n",
       "      <th></th>\n",
       "      <th></th>\n",
       "      <th colspan=\"2\" halign=\"left\">accuracy_pos</th>\n",
       "      <th colspan=\"2\" halign=\"left\">accuracy_neg</th>\n",
       "    </tr>\n",
       "    <tr>\n",
       "      <th></th>\n",
       "      <th></th>\n",
       "      <th>mean</th>\n",
       "      <th>sem</th>\n",
       "      <th>mean</th>\n",
       "      <th>sem</th>\n",
       "    </tr>\n",
       "    <tr>\n",
       "      <th>gt</th>\n",
       "      <th>modelname</th>\n",
       "      <th></th>\n",
       "      <th></th>\n",
       "      <th></th>\n",
       "      <th></th>\n",
       "    </tr>\n",
       "  </thead>\n",
       "  <tbody>\n",
       "    <tr>\n",
       "      <th rowspan=\"8\" valign=\"top\">bk_obj_color</th>\n",
       "      <th>inception_imageneta_bias</th>\n",
       "      <td>0.570291</td>\n",
       "      <td>0.039516</td>\n",
       "      <td>0.316481</td>\n",
       "      <td>0.032521</td>\n",
       "    </tr>\n",
       "    <tr>\n",
       "      <th>inception_utensil_both_bias</th>\n",
       "      <td>0.395952</td>\n",
       "      <td>0.045911</td>\n",
       "      <td>0.304630</td>\n",
       "      <td>0.044261</td>\n",
       "    </tr>\n",
       "    <tr>\n",
       "      <th>inception_utensil_color_bias</th>\n",
       "      <td>0.333333</td>\n",
       "      <td>0.054800</td>\n",
       "      <td>0.325926</td>\n",
       "      <td>0.051568</td>\n",
       "    </tr>\n",
       "    <tr>\n",
       "      <th>inception_utensil_shape_bias</th>\n",
       "      <td>0.355926</td>\n",
       "      <td>0.046227</td>\n",
       "      <td>0.313519</td>\n",
       "      <td>0.046986</td>\n",
       "    </tr>\n",
       "    <tr>\n",
       "      <th>squeezenet_imageneta_bias</th>\n",
       "      <td>0.419550</td>\n",
       "      <td>0.035507</td>\n",
       "      <td>0.308889</td>\n",
       "      <td>0.035352</td>\n",
       "    </tr>\n",
       "    <tr>\n",
       "      <th>squeezenet_utensil_both_bias</th>\n",
       "      <td>0.418175</td>\n",
       "      <td>0.040006</td>\n",
       "      <td>0.240000</td>\n",
       "      <td>0.035795</td>\n",
       "    </tr>\n",
       "    <tr>\n",
       "      <th>squeezenet_utensil_color_bias</th>\n",
       "      <td>0.320926</td>\n",
       "      <td>0.043010</td>\n",
       "      <td>0.360556</td>\n",
       "      <td>0.045833</td>\n",
       "    </tr>\n",
       "    <tr>\n",
       "      <th>squeezenet_utensil_shape_bias</th>\n",
       "      <td>0.470741</td>\n",
       "      <td>0.043398</td>\n",
       "      <td>0.218148</td>\n",
       "      <td>0.027629</td>\n",
       "    </tr>\n",
       "  </tbody>\n",
       "</table>\n",
       "</div>"
      ],
      "text/plain": [
       "                                           accuracy_pos            \\\n",
       "                                                   mean       sem   \n",
       "gt           modelname                                              \n",
       "bk_obj_color inception_imageneta_bias          0.570291  0.039516   \n",
       "             inception_utensil_both_bias       0.395952  0.045911   \n",
       "             inception_utensil_color_bias      0.333333  0.054800   \n",
       "             inception_utensil_shape_bias      0.355926  0.046227   \n",
       "             squeezenet_imageneta_bias         0.419550  0.035507   \n",
       "             squeezenet_utensil_both_bias      0.418175  0.040006   \n",
       "             squeezenet_utensil_color_bias     0.320926  0.043010   \n",
       "             squeezenet_utensil_shape_bias     0.470741  0.043398   \n",
       "\n",
       "                                           accuracy_neg            \n",
       "                                                   mean       sem  \n",
       "gt           modelname                                             \n",
       "bk_obj_color inception_imageneta_bias          0.316481  0.032521  \n",
       "             inception_utensil_both_bias       0.304630  0.044261  \n",
       "             inception_utensil_color_bias      0.325926  0.051568  \n",
       "             inception_utensil_shape_bias      0.313519  0.046986  \n",
       "             squeezenet_imageneta_bias         0.308889  0.035352  \n",
       "             squeezenet_utensil_both_bias      0.240000  0.035795  \n",
       "             squeezenet_utensil_color_bias     0.360556  0.045833  \n",
       "             squeezenet_utensil_shape_bias     0.218148  0.027629  "
      ]
     },
     "execution_count": 376,
     "metadata": {},
     "output_type": "execute_result"
    }
   ],
   "source": [
    "tmp.iloc[(tmp.index.get_level_values('gt') =='bk_obj_color') &  ]"
   ]
  },
  {
   "cell_type": "code",
   "execution_count": 344,
   "id": "provincial-friend",
   "metadata": {},
   "outputs": [
    {
     "data": {
      "text/html": [
       "<div>\n",
       "<style scoped>\n",
       "    .dataframe tbody tr th:only-of-type {\n",
       "        vertical-align: middle;\n",
       "    }\n",
       "\n",
       "    .dataframe tbody tr th {\n",
       "        vertical-align: top;\n",
       "    }\n",
       "\n",
       "    .dataframe thead th {\n",
       "        text-align: right;\n",
       "    }\n",
       "</style>\n",
       "<table border=\"1\" class=\"dataframe\">\n",
       "  <thead>\n",
       "    <tr style=\"text-align: right;\">\n",
       "      <th></th>\n",
       "      <th>accuracy</th>\n",
       "      <th>accuracy.1</th>\n",
       "      <th>accuracy_2</th>\n",
       "      <th>accuracy_2.1</th>\n",
       "    </tr>\n",
       "  </thead>\n",
       "  <tbody>\n",
       "    <tr>\n",
       "      <th>0</th>\n",
       "      <td>mean</td>\n",
       "      <td>sem</td>\n",
       "      <td>mean</td>\n",
       "      <td>sem</td>\n",
       "    </tr>\n",
       "    <tr>\n",
       "      <th>1</th>\n",
       "      <td>0.57</td>\n",
       "      <td>0.09</td>\n",
       "      <td>0.81</td>\n",
       "      <td>0.06</td>\n",
       "    </tr>\n",
       "    <tr>\n",
       "      <th>2</th>\n",
       "      <td>0.4</td>\n",
       "      <td>0.11</td>\n",
       "      <td>0.67</td>\n",
       "      <td>0.12</td>\n",
       "    </tr>\n",
       "    <tr>\n",
       "      <th>3</th>\n",
       "      <td>0.33</td>\n",
       "      <td>0.13</td>\n",
       "      <td>0.72</td>\n",
       "      <td>0.09</td>\n",
       "    </tr>\n",
       "    <tr>\n",
       "      <th>4</th>\n",
       "      <td>0.36</td>\n",
       "      <td>0.11</td>\n",
       "      <td>0.76</td>\n",
       "      <td>0.09</td>\n",
       "    </tr>\n",
       "  </tbody>\n",
       "</table>\n",
       "</div>"
      ],
      "text/plain": [
       "  accuracy accuracy.1 accuracy_2 accuracy_2.1\n",
       "0     mean        sem       mean          sem\n",
       "1     0.57       0.09       0.81         0.06\n",
       "2      0.4       0.11       0.67         0.12\n",
       "3     0.33       0.13       0.72         0.09\n",
       "4     0.36       0.11       0.76         0.09"
      ]
     },
     "execution_count": 344,
     "metadata": {},
     "output_type": "execute_result"
    }
   ],
   "source": [
    "df[df.accuracy_pos]"
   ]
  },
  {
   "cell_type": "code",
   "execution_count": null,
   "id": "political-iceland",
   "metadata": {},
   "outputs": [],
   "source": [
    "df = pd.merge(df_pos, df_neg[[\"correct\",\"total\",\"classname\",\"accuracy\"]], on=\"classname\", how=\"left\", suffixes=[\"_pos\",\"_neg\"])"
   ]
  },
  {
   "cell_type": "code",
   "execution_count": 55,
   "id": "white-mapping",
   "metadata": {},
   "outputs": [],
   "source": [
    "li = []\n",
    "for gt in graph_types:\n",
    "    all_files = glob.glob('cv/'+gt+'/*.csv')\n",
    "    for filename in all_files:\n",
    "#         print(filename)\n",
    "        pos_file = filename\n",
    "        neg_file = str('cv/'+gt+'/negative/'+os.path.basename(filename))\n",
    "        df_neg = pd.read_csv(neg_file)\n",
    "        df_neg.drop(columns=['Unnamed: 0'],inplace=True)\n",
    "        df_pos = pd.read_csv(filename)\n",
    "        df_pos.drop(columns=['Unnamed: 0'],inplace=True)\n",
    "            \n",
    "        df = pd.merge(df_pos, df_neg[[\"correct\",\"total\",\"classname\",\"accuracy\"]], on=\"classname\", how=\"left\", suffixes=[\"_pos\",\"_neg\"])\n",
    "        li.append(df)"
   ]
  },
  {
   "cell_type": "code",
   "execution_count": 56,
   "id": "optimum-spirit",
   "metadata": {},
   "outputs": [],
   "source": [
    "frame = pd.concat(li, axis=0, ignore_index=True)"
   ]
  },
  {
   "cell_type": "code",
   "execution_count": 57,
   "id": "dedicated-remainder",
   "metadata": {},
   "outputs": [
    {
     "data": {
      "text/html": [
       "<div>\n",
       "<style scoped>\n",
       "    .dataframe tbody tr th:only-of-type {\n",
       "        vertical-align: middle;\n",
       "    }\n",
       "\n",
       "    .dataframe tbody tr th {\n",
       "        vertical-align: top;\n",
       "    }\n",
       "\n",
       "    .dataframe thead th {\n",
       "        text-align: right;\n",
       "    }\n",
       "</style>\n",
       "<table border=\"1\" class=\"dataframe\">\n",
       "  <thead>\n",
       "    <tr style=\"text-align: right;\">\n",
       "      <th></th>\n",
       "      <th>gt</th>\n",
       "      <th>classname</th>\n",
       "      <th>modelname</th>\n",
       "      <th>correct_pos</th>\n",
       "      <th>total_pos</th>\n",
       "      <th>accuracy_pos</th>\n",
       "      <th>correct_neg</th>\n",
       "      <th>total_neg</th>\n",
       "      <th>accuracy_neg</th>\n",
       "    </tr>\n",
       "  </thead>\n",
       "  <tbody>\n",
       "    <tr>\n",
       "      <th>0</th>\n",
       "      <td>bk_part_obj_color</td>\n",
       "      <td>ants</td>\n",
       "      <td>inception_imageneta_bias</td>\n",
       "      <td>3</td>\n",
       "      <td>10</td>\n",
       "      <td>0.300000</td>\n",
       "      <td>4</td>\n",
       "      <td>16</td>\n",
       "      <td>0.250000</td>\n",
       "    </tr>\n",
       "    <tr>\n",
       "      <th>1</th>\n",
       "      <td>bk_part_obj_color</td>\n",
       "      <td>bees</td>\n",
       "      <td>inception_imageneta_bias</td>\n",
       "      <td>2</td>\n",
       "      <td>20</td>\n",
       "      <td>0.100000</td>\n",
       "      <td>4</td>\n",
       "      <td>19</td>\n",
       "      <td>0.210526</td>\n",
       "    </tr>\n",
       "    <tr>\n",
       "      <th>2</th>\n",
       "      <td>bk_part_obj_color</td>\n",
       "      <td>mantis</td>\n",
       "      <td>inception_imageneta_bias</td>\n",
       "      <td>14</td>\n",
       "      <td>17</td>\n",
       "      <td>0.823529</td>\n",
       "      <td>5</td>\n",
       "      <td>13</td>\n",
       "      <td>0.384615</td>\n",
       "    </tr>\n",
       "    <tr>\n",
       "      <th>3</th>\n",
       "      <td>bk_part_obj_color</td>\n",
       "      <td>DINNER_CUTLERY</td>\n",
       "      <td>inception_utensil_both_bias</td>\n",
       "      <td>4</td>\n",
       "      <td>18</td>\n",
       "      <td>0.222222</td>\n",
       "      <td>7</td>\n",
       "      <td>15</td>\n",
       "      <td>0.466667</td>\n",
       "    </tr>\n",
       "    <tr>\n",
       "      <th>4</th>\n",
       "      <td>bk_part_obj_color</td>\n",
       "      <td>FISH_SLICE</td>\n",
       "      <td>inception_utensil_both_bias</td>\n",
       "      <td>18</td>\n",
       "      <td>19</td>\n",
       "      <td>0.947368</td>\n",
       "      <td>8</td>\n",
       "      <td>20</td>\n",
       "      <td>0.400000</td>\n",
       "    </tr>\n",
       "  </tbody>\n",
       "</table>\n",
       "</div>"
      ],
      "text/plain": [
       "                  gt       classname                    modelname  \\\n",
       "0  bk_part_obj_color            ants     inception_imageneta_bias   \n",
       "1  bk_part_obj_color            bees     inception_imageneta_bias   \n",
       "2  bk_part_obj_color          mantis     inception_imageneta_bias   \n",
       "3  bk_part_obj_color  DINNER_CUTLERY  inception_utensil_both_bias   \n",
       "4  bk_part_obj_color      FISH_SLICE  inception_utensil_both_bias   \n",
       "\n",
       "   correct_pos  total_pos  accuracy_pos  correct_neg  total_neg  accuracy_neg  \n",
       "0            3         10      0.300000            4         16      0.250000  \n",
       "1            2         20      0.100000            4         19      0.210526  \n",
       "2           14         17      0.823529            5         13      0.384615  \n",
       "3            4         18      0.222222            7         15      0.466667  \n",
       "4           18         19      0.947368            8         20      0.400000  "
      ]
     },
     "execution_count": 57,
     "metadata": {},
     "output_type": "execute_result"
    }
   ],
   "source": [
    "frame.head()"
   ]
  },
  {
   "cell_type": "code",
   "execution_count": 58,
   "id": "clear-angel",
   "metadata": {},
   "outputs": [],
   "source": [
    "frame.to_csv('causality_verification_agg_paper_with_negative.csv')"
   ]
  },
  {
   "cell_type": "markdown",
   "id": "collective-current",
   "metadata": {},
   "source": [
    "## coherence"
   ]
  },
  {
   "cell_type": "code",
   "execution_count": 281,
   "id": "proof-russian",
   "metadata": {},
   "outputs": [
    {
     "data": {
      "text/plain": [
       "['bk_obj_color',\n",
       " 'bk_obj_color_shape',\n",
       " 'bk_part_obj_color',\n",
       " 'bk_part_obj_color_shape',\n",
       " 'cds_obj_color',\n",
       " 'cds_obj_color_shape',\n",
       " 'cds_part_obj_color',\n",
       " 'cds_part_obj_color_shape']"
      ]
     },
     "execution_count": 281,
     "metadata": {},
     "output_type": "execute_result"
    }
   ],
   "source": [
    "graph_types"
   ]
  },
  {
   "cell_type": "code",
   "execution_count": 83,
   "id": "together-mechanics",
   "metadata": {},
   "outputs": [],
   "source": [
    "li = []\n",
    "for gt in graph_types:\n",
    "    all_files = glob.glob('ch_including_shape/'+gt+'/*.csv')\n",
    "    for filename in all_files:\n",
    "        df = pd.read_csv(filename)\n",
    "        df['gt'] = gt\n",
    "        df.drop(columns=['Unnamed: 0'],inplace=True)\n",
    "        li.append(df)"
   ]
  },
  {
   "cell_type": "code",
   "execution_count": 6,
   "id": "located-break",
   "metadata": {},
   "outputs": [],
   "source": [
    "frame = pd.concat(li, axis=0, ignore_index=True)\n",
    "frame = frame.dropna()"
   ]
  },
  {
   "cell_type": "code",
   "execution_count": 7,
   "id": "interstate-clark",
   "metadata": {},
   "outputs": [],
   "source": [
    "frame = frame.dropna()"
   ]
  },
  {
   "cell_type": "code",
   "execution_count": 8,
   "id": "celtic-indianapolis",
   "metadata": {},
   "outputs": [
    {
     "data": {
      "text/plain": [
       "7.143279508125572"
      ]
     },
     "execution_count": 8,
     "metadata": {},
     "output_type": "execute_result"
    }
   ],
   "source": [
    "frame['diff'].max()"
   ]
  },
  {
   "cell_type": "code",
   "execution_count": 9,
   "id": "coastal-profession",
   "metadata": {},
   "outputs": [
    {
     "data": {
      "text/plain": [
       "7.143279508125572"
      ]
     },
     "execution_count": 9,
     "metadata": {},
     "output_type": "execute_result"
    }
   ],
   "source": [
    "frame['diff'].max()"
   ]
  },
  {
   "cell_type": "code",
   "execution_count": 557,
   "id": "foreign-batch",
   "metadata": {},
   "outputs": [
    {
     "data": {
      "text/plain": [
       "cds_obj_color_shape         240\n",
       "cds_part_obj_color          240\n",
       "bk_part_obj_color_shape     240\n",
       "bk_part_obj_color           240\n",
       "bk_obj_color_shape          240\n",
       "bk_obj_color                240\n",
       "cds_part_obj_color_shape    240\n",
       "cds_obj_color               240\n",
       "Name: gt, dtype: int64"
      ]
     },
     "execution_count": 557,
     "metadata": {},
     "output_type": "execute_result"
    }
   ],
   "source": [
    "frame['gt'].value_counts()"
   ]
  },
  {
   "cell_type": "code",
   "execution_count": 558,
   "id": "given-psychiatry",
   "metadata": {},
   "outputs": [
    {
     "data": {
      "text/html": [
       "<div>\n",
       "<style scoped>\n",
       "    .dataframe tbody tr th:only-of-type {\n",
       "        vertical-align: middle;\n",
       "    }\n",
       "\n",
       "    .dataframe tbody tr th {\n",
       "        vertical-align: top;\n",
       "    }\n",
       "\n",
       "    .dataframe thead th {\n",
       "        text-align: right;\n",
       "    }\n",
       "</style>\n",
       "<table border=\"1\" class=\"dataframe\">\n",
       "  <thead>\n",
       "    <tr style=\"text-align: right;\">\n",
       "      <th></th>\n",
       "      <th>modelname</th>\n",
       "      <th>classname</th>\n",
       "      <th>img1_id</th>\n",
       "      <th>img2_id</th>\n",
       "      <th>concepts_1</th>\n",
       "      <th>concepts_2</th>\n",
       "      <th>sum1</th>\n",
       "      <th>sum2</th>\n",
       "      <th>diff</th>\n",
       "      <th>jaccard</th>\n",
       "      <th>gt</th>\n",
       "    </tr>\n",
       "  </thead>\n",
       "  <tbody>\n",
       "    <tr>\n",
       "      <th>1710</th>\n",
       "      <td>inception_imageneta_bias</td>\n",
       "      <td>mantis</td>\n",
       "      <td>1023</td>\n",
       "      <td>1168</td>\n",
       "      <td>primary_concept_grasshopper,color_green</td>\n",
       "      <td>primary_concept_branding_paper,primary_concept...</td>\n",
       "      <td>-0.175533</td>\n",
       "      <td>-7.318812</td>\n",
       "      <td>7.14328</td>\n",
       "      <td>0.0</td>\n",
       "      <td>cds_part_obj_color_shape</td>\n",
       "    </tr>\n",
       "  </tbody>\n",
       "</table>\n",
       "</div>"
      ],
      "text/plain": [
       "                     modelname classname  img1_id  img2_id  \\\n",
       "1710  inception_imageneta_bias    mantis     1023     1168   \n",
       "\n",
       "                                   concepts_1  \\\n",
       "1710  primary_concept_grasshopper,color_green   \n",
       "\n",
       "                                             concepts_2      sum1      sum2  \\\n",
       "1710  primary_concept_branding_paper,primary_concept... -0.175533 -7.318812   \n",
       "\n",
       "         diff  jaccard                        gt  \n",
       "1710  7.14328      0.0  cds_part_obj_color_shape  "
      ]
     },
     "execution_count": 558,
     "metadata": {},
     "output_type": "execute_result"
    }
   ],
   "source": [
    "frame.loc[frame['diff']==frame['diff'].max()]"
   ]
  },
  {
   "cell_type": "code",
   "execution_count": 10,
   "id": "first-raise",
   "metadata": {},
   "outputs": [
    {
     "ename": "NameError",
     "evalue": "name 'sns' is not defined",
     "output_type": "error",
     "traceback": [
      "\u001b[0;31m---------------------------------------------------------------------------\u001b[0m",
      "\u001b[0;31mNameError\u001b[0m                                 Traceback (most recent call last)",
      "\u001b[0;32m<ipython-input-10-ee1b9a38268c>\u001b[0m in \u001b[0;36m<module>\u001b[0;34m\u001b[0m\n\u001b[0;32m----> 1\u001b[0;31m \u001b[0msns\u001b[0m\u001b[0;34m.\u001b[0m\u001b[0mboxplot\u001b[0m\u001b[0;34m(\u001b[0m\u001b[0mx\u001b[0m \u001b[0;34m=\u001b[0m \u001b[0;34m'modelname'\u001b[0m\u001b[0;34m,\u001b[0m \u001b[0my\u001b[0m\u001b[0;34m=\u001b[0m\u001b[0;34m'jaccard'\u001b[0m\u001b[0;34m,\u001b[0m \u001b[0mdata\u001b[0m\u001b[0;34m=\u001b[0m\u001b[0mframe\u001b[0m\u001b[0;34m[\u001b[0m\u001b[0;34m[\u001b[0m\u001b[0;34m'jaccard'\u001b[0m\u001b[0;34m,\u001b[0m\u001b[0;34m'modelname'\u001b[0m\u001b[0;34m]\u001b[0m\u001b[0;34m]\u001b[0m\u001b[0;34m)\u001b[0m\u001b[0;34m\u001b[0m\u001b[0;34m\u001b[0m\u001b[0m\n\u001b[0m",
      "\u001b[0;31mNameError\u001b[0m: name 'sns' is not defined"
     ]
    }
   ],
   "source": [
    "sns.boxplot(x = 'modelname', y='jaccard', data=frame[['jaccard','modelname']])"
   ]
  },
  {
   "cell_type": "code",
   "execution_count": 286,
   "id": "regulation-arrangement",
   "metadata": {},
   "outputs": [
    {
     "data": {
      "text/html": [
       "<svg  width=\"550\" height=\"55\"><rect x=\"0\" y=\"0\" width=\"55\" height=\"55\" style=\"fill:#1f77b4;stroke-width:2;stroke:rgb(255,255,255)\"/><rect x=\"55\" y=\"0\" width=\"55\" height=\"55\" style=\"fill:#ff7f0e;stroke-width:2;stroke:rgb(255,255,255)\"/><rect x=\"110\" y=\"0\" width=\"55\" height=\"55\" style=\"fill:#2ca02c;stroke-width:2;stroke:rgb(255,255,255)\"/><rect x=\"165\" y=\"0\" width=\"55\" height=\"55\" style=\"fill:#d62728;stroke-width:2;stroke:rgb(255,255,255)\"/><rect x=\"220\" y=\"0\" width=\"55\" height=\"55\" style=\"fill:#9467bd;stroke-width:2;stroke:rgb(255,255,255)\"/><rect x=\"275\" y=\"0\" width=\"55\" height=\"55\" style=\"fill:#8c564b;stroke-width:2;stroke:rgb(255,255,255)\"/><rect x=\"330\" y=\"0\" width=\"55\" height=\"55\" style=\"fill:#e377c2;stroke-width:2;stroke:rgb(255,255,255)\"/><rect x=\"385\" y=\"0\" width=\"55\" height=\"55\" style=\"fill:#7f7f7f;stroke-width:2;stroke:rgb(255,255,255)\"/><rect x=\"440\" y=\"0\" width=\"55\" height=\"55\" style=\"fill:#bcbd22;stroke-width:2;stroke:rgb(255,255,255)\"/><rect x=\"495\" y=\"0\" width=\"55\" height=\"55\" style=\"fill:#17becf;stroke-width:2;stroke:rgb(255,255,255)\"/></svg>"
      ],
      "text/plain": [
       "[(0.12156862745098039, 0.4666666666666667, 0.7058823529411765),\n",
       " (1.0, 0.4980392156862745, 0.054901960784313725),\n",
       " (0.17254901960784313, 0.6274509803921569, 0.17254901960784313),\n",
       " (0.8392156862745098, 0.15294117647058825, 0.1568627450980392),\n",
       " (0.5803921568627451, 0.403921568627451, 0.7411764705882353),\n",
       " (0.5490196078431373, 0.33725490196078434, 0.29411764705882354),\n",
       " (0.8901960784313725, 0.4666666666666667, 0.7607843137254902),\n",
       " (0.4980392156862745, 0.4980392156862745, 0.4980392156862745),\n",
       " (0.7372549019607844, 0.7411764705882353, 0.13333333333333333),\n",
       " (0.09019607843137255, 0.7450980392156863, 0.8117647058823529)]"
      ]
     },
     "execution_count": 286,
     "metadata": {},
     "output_type": "execute_result"
    }
   ],
   "source": [
    "sns.color_palette(\"tab10\")\n"
   ]
  },
  {
   "cell_type": "code",
   "execution_count": 12,
   "id": "canadian-acrobat",
   "metadata": {},
   "outputs": [],
   "source": [
    "df = frame.copy()"
   ]
  },
  {
   "cell_type": "code",
   "execution_count": 13,
   "id": "virgin-syria",
   "metadata": {},
   "outputs": [
    {
     "data": {
      "image/png": "[encoded data removed]",
      "text/plain": [
       "<Figure size 1440x720 with 2 Axes>"
      ]
     },
     "metadata": {},
     "output_type": "display_data"
    }
   ],
   "source": [
    "import numpy as np                 # v 1.19.2\n",
    "import pandas as pd                # v 1.1.3\n",
    "import matplotlib.pyplot as plt    # v 3.3.2\n",
    "\n",
    "# Create a random dataset similar to the one in the image you shared\n",
    "# rng = np.random.default_rng(seed=123) # random number generator\n",
    "# data = dict(per = df['modelname',\n",
    "#             cap = rng.choice([70, 90, 220, 240, 320, 330, 340, 360, 410], size=100),\n",
    "#             cost = rng.integers(low=2050, high=2250, size=100))\n",
    "# df = pd.DataFrame(data)\n",
    "\n",
    "# Pivot table according to the 'per' categories so that the cap and\n",
    "# cost variables are grouped by them:\n",
    "df_pivot = df.pivot(columns=['modelname'])\n",
    "\n",
    "# Create a list of the cap and cost grouped variables to be plotted \n",
    "# in each (twinned) boxplot: note that the NaN values must be removed\n",
    "# for the plotting function to work.\n",
    "cap = [df_pivot['jaccard'][var].dropna() for var in df_pivot['jaccard']]\n",
    "cost = [df_pivot['diff'][var].dropna() for var in df_pivot['diff']]\n",
    "\n",
    "# Create figure and dictionary containing boxplot parameters that are\n",
    "# common to both boxplots (according to my style preferences):\n",
    "# note that I define the whis parameter so that values below the 5th\n",
    "# percentile and above the 95th percentile are shown as outliers\n",
    "nb_groups = df['modelname'].nunique()\n",
    "fig, ax1 = plt.subplots(figsize=(20,10))\n",
    "box_param = dict(whis=(5, 95), widths=0.2, patch_artist=True,\n",
    "                 flierprops=dict(marker='.', markeredgecolor='black',\n",
    "                 fillstyle=None), medianprops=dict(color='black'))\n",
    "\n",
    "# Create boxplots for 'cap' variable: note the double asterisk used\n",
    "# to unpack the dictionary of boxplot parameters\n",
    "space = 0.15\n",
    "ax1.boxplot(cap, positions=np.arange(nb_groups)-space,\n",
    "            boxprops=dict(facecolor='tab:blue'), **box_param)\n",
    "\n",
    "# Create boxplots for 'cost' variable on twin Axes\n",
    "ax2 = ax1.twinx()\n",
    "ax2.boxplot(cost, positions=np.arange(nb_groups)+space,\n",
    "            boxprops=dict(facecolor='tab:red'), **box_param)\n",
    "\n",
    "# Format x ticks\n",
    "labelsize = 12\n",
    "ax1.set_xticks(np.arange(nb_groups))\n",
    "ax1.set_xticklabels([f'{label}' for label in df['modelname'].unique()])\n",
    "ax1.tick_params(axis='x', labelsize=labelsize)\n",
    "\n",
    "# Format y ticks\n",
    "yticks_fmt = dict(axis='y', labelsize=labelsize)\n",
    "ax1.tick_params(colors='tab:blue', **yticks_fmt)\n",
    "ax2.tick_params(colors='tab:red', **yticks_fmt)\n",
    "\n",
    "# Format axes labels\n",
    "label_fmt = dict(size=12, labelpad=15)\n",
    "ax1.set_xlabel('Graph type', **label_fmt)\n",
    "ax1.set_ylabel('Average Jaccard Similarity', color='tab:blue', **label_fmt)\n",
    "ax2.set_ylabel('Average Causal Effect Difference', color='tab:red', **label_fmt)\n",
    "\n",
    "plt.show()"
   ]
  },
  {
   "cell_type": "code",
   "execution_count": 163,
   "id": "widespread-forth",
   "metadata": {},
   "outputs": [],
   "source": [
    "import matplotlib.pyplot as plt"
   ]
  },
  {
   "cell_type": "code",
   "execution_count": 164,
   "id": "lonely-legislation",
   "metadata": {},
   "outputs": [],
   "source": [
    "plt.style.use('default')"
   ]
  },
  {
   "cell_type": "code",
   "execution_count": 220,
   "id": "german-system",
   "metadata": {},
   "outputs": [],
   "source": [
    "from matplotlib import rcParams\n",
    "\n",
    "# figure size in inches\n",
    "rcParams['figure.figsize'] = 20,10"
   ]
  },
  {
   "cell_type": "code",
   "execution_count": 571,
   "id": "assured-divide",
   "metadata": {},
   "outputs": [
    {
     "data": {
      "text/html": [
       "<div>\n",
       "<style scoped>\n",
       "    .dataframe tbody tr th:only-of-type {\n",
       "        vertical-align: middle;\n",
       "    }\n",
       "\n",
       "    .dataframe tbody tr th {\n",
       "        vertical-align: top;\n",
       "    }\n",
       "\n",
       "    .dataframe thead th {\n",
       "        text-align: right;\n",
       "    }\n",
       "</style>\n",
       "<table border=\"1\" class=\"dataframe\">\n",
       "  <thead>\n",
       "    <tr style=\"text-align: right;\">\n",
       "      <th></th>\n",
       "      <th>modelname</th>\n",
       "      <th>classname</th>\n",
       "      <th>img1_id</th>\n",
       "      <th>img2_id</th>\n",
       "      <th>concepts_1</th>\n",
       "      <th>concepts_2</th>\n",
       "      <th>sum1</th>\n",
       "      <th>sum2</th>\n",
       "      <th>diff</th>\n",
       "      <th>jaccard</th>\n",
       "      <th>gt</th>\n",
       "    </tr>\n",
       "  </thead>\n",
       "  <tbody>\n",
       "    <tr>\n",
       "      <th>0</th>\n",
       "      <td>inception_utensil_shape_bias</td>\n",
       "      <td>TEA_SPOON</td>\n",
       "      <td>483</td>\n",
       "      <td>539</td>\n",
       "      <td>primary_concept_tablespoon,primary_concept_bac...</td>\n",
       "      <td>primary_concept_knife,primary_concept_backgrou...</td>\n",
       "      <td>0.255175</td>\n",
       "      <td>0.182392</td>\n",
       "      <td>0.072783</td>\n",
       "      <td>0.33</td>\n",
       "      <td>bk_obj_color</td>\n",
       "    </tr>\n",
       "    <tr>\n",
       "      <th>1</th>\n",
       "      <td>inception_utensil_shape_bias</td>\n",
       "      <td>TEA_SPOON</td>\n",
       "      <td>496</td>\n",
       "      <td>614</td>\n",
       "      <td>primary_concept_spatula,primary_concept_backgr...</td>\n",
       "      <td>primary_concept_spatula,color_darkviolet</td>\n",
       "      <td>0.052703</td>\n",
       "      <td>-0.047605</td>\n",
       "      <td>0.100308</td>\n",
       "      <td>0.17</td>\n",
       "      <td>bk_obj_color</td>\n",
       "    </tr>\n",
       "    <tr>\n",
       "      <th>2</th>\n",
       "      <td>inception_utensil_shape_bias</td>\n",
       "      <td>TEA_SPOON</td>\n",
       "      <td>448</td>\n",
       "      <td>501</td>\n",
       "      <td>primary_concept_spoon,color_aquamarine</td>\n",
       "      <td>primary_concept_fork,color_silver</td>\n",
       "      <td>-0.024319</td>\n",
       "      <td>0.116910</td>\n",
       "      <td>0.141229</td>\n",
       "      <td>0.00</td>\n",
       "      <td>bk_obj_color</td>\n",
       "    </tr>\n",
       "    <tr>\n",
       "      <th>3</th>\n",
       "      <td>inception_utensil_shape_bias</td>\n",
       "      <td>TEA_SPOON</td>\n",
       "      <td>409</td>\n",
       "      <td>589</td>\n",
       "      <td>primary_concept_spoon,primary_concept_backgrou...</td>\n",
       "      <td>primary_concept_spoon,primary_concept_backgrou...</td>\n",
       "      <td>0.012460</td>\n",
       "      <td>-0.095295</td>\n",
       "      <td>0.107755</td>\n",
       "      <td>0.60</td>\n",
       "      <td>bk_obj_color</td>\n",
       "    </tr>\n",
       "    <tr>\n",
       "      <th>4</th>\n",
       "      <td>inception_utensil_shape_bias</td>\n",
       "      <td>TEA_SPOON</td>\n",
       "      <td>403</td>\n",
       "      <td>489</td>\n",
       "      <td>primary_concept_spoon,primary_concept_backgrou...</td>\n",
       "      <td>primary_concept_spoon,primary_concept_photo,co...</td>\n",
       "      <td>0.121353</td>\n",
       "      <td>0.061316</td>\n",
       "      <td>0.060037</td>\n",
       "      <td>0.60</td>\n",
       "      <td>bk_obj_color</td>\n",
       "    </tr>\n",
       "  </tbody>\n",
       "</table>\n",
       "</div>"
      ],
      "text/plain": [
       "                      modelname  classname  img1_id  img2_id  \\\n",
       "0  inception_utensil_shape_bias  TEA_SPOON      483      539   \n",
       "1  inception_utensil_shape_bias  TEA_SPOON      496      614   \n",
       "2  inception_utensil_shape_bias  TEA_SPOON      448      501   \n",
       "3  inception_utensil_shape_bias  TEA_SPOON      409      589   \n",
       "4  inception_utensil_shape_bias  TEA_SPOON      403      489   \n",
       "\n",
       "                                          concepts_1  \\\n",
       "0  primary_concept_tablespoon,primary_concept_bac...   \n",
       "1  primary_concept_spatula,primary_concept_backgr...   \n",
       "2             primary_concept_spoon,color_aquamarine   \n",
       "3  primary_concept_spoon,primary_concept_backgrou...   \n",
       "4  primary_concept_spoon,primary_concept_backgrou...   \n",
       "\n",
       "                                          concepts_2      sum1      sum2  \\\n",
       "0  primary_concept_knife,primary_concept_backgrou...  0.255175  0.182392   \n",
       "1           primary_concept_spatula,color_darkviolet  0.052703 -0.047605   \n",
       "2                  primary_concept_fork,color_silver -0.024319  0.116910   \n",
       "3  primary_concept_spoon,primary_concept_backgrou...  0.012460 -0.095295   \n",
       "4  primary_concept_spoon,primary_concept_photo,co...  0.121353  0.061316   \n",
       "\n",
       "       diff  jaccard            gt  \n",
       "0  0.072783     0.33  bk_obj_color  \n",
       "1  0.100308     0.17  bk_obj_color  \n",
       "2  0.141229     0.00  bk_obj_color  \n",
       "3  0.107755     0.60  bk_obj_color  \n",
       "4  0.060037     0.60  bk_obj_color  "
      ]
     },
     "execution_count": 571,
     "metadata": {},
     "output_type": "execute_result"
    }
   ],
   "source": [
    "frame.head()"
   ]
  },
  {
   "cell_type": "code",
   "execution_count": 616,
   "id": "induced-finish",
   "metadata": {},
   "outputs": [],
   "source": [
    "frame.to_csv('frame_coherence.csv',index=False)"
   ]
  },
  {
   "cell_type": "code",
   "execution_count": null,
   "id": "capable-thesis",
   "metadata": {},
   "outputs": [],
   "source": [
    "graph_types = [\n",
    "    'bk_obj_color',\n",
    "    'bk_obj_color_shape',\n",
    "    'bk_part_obj_color',\n",
    "    'bk_part_obj_color_shape',\n",
    "    'cds_obj_color',\n",
    "    'cds_obj_color_shape',\n",
    "    'cds_part_obj_color',\n",
    "    'cds_part_obj_color_shape',\n",
    "]\n",
    "modelnames = [\n",
    "    'inception_imageneta_bias',\n",
    "    'squeezenet_imageneta_bias',\n",
    "    'inception_utensil_color_bias',\n",
    "    'inception_utensil_shape_bias',\n",
    "    'inception_utensil_both_bias',\n",
    "    'squeezenet_utensil_both_bias',\n",
    "    'squeezenet_utensil_color_bias',\n",
    "    'squeezenet_utensil_shape_bias'\n",
    "    \n",
    "]\n",
    "imagenet_classes = [\n",
    "    'ants',\n",
    "    'mantis',\n",
    "    'bees'\n",
    "]\n",
    "utensil_classes = [\n",
    "    'TEA_SPOON',\n",
    "    'FISH_SLICE',\n",
    "    'DINNER_CUTLERY'\n",
    "]"
   ]
  },
  {
   "cell_type": "code",
   "execution_count": 84,
   "id": "downtown-massachusetts",
   "metadata": {},
   "outputs": [],
   "source": [
    "f1 = frame.copy()"
   ]
  },
  {
   "cell_type": "code",
   "execution_count": 82,
   "id": "administrative-scale",
   "metadata": {},
   "outputs": [
    {
     "ename": "NameError",
     "evalue": "name 'f1' is not defined",
     "output_type": "error",
     "traceback": [
      "\u001b[0;31m---------------------------------------------------------------------------\u001b[0m",
      "\u001b[0;31mNameError\u001b[0m                                 Traceback (most recent call last)",
      "\u001b[0;32m<ipython-input-82-49f4b9cdec11>\u001b[0m in \u001b[0;36m<module>\u001b[0;34m\u001b[0m\n\u001b[0;32m----> 1\u001b[0;31m \u001b[0mframe\u001b[0m \u001b[0;34m=\u001b[0m \u001b[0mf1\u001b[0m\u001b[0;34m.\u001b[0m\u001b[0mcopy\u001b[0m\u001b[0;34m(\u001b[0m\u001b[0;34m)\u001b[0m\u001b[0;34m\u001b[0m\u001b[0;34m\u001b[0m\u001b[0m\n\u001b[0m",
      "\u001b[0;31mNameError\u001b[0m: name 'f1' is not defined"
     ]
    }
   ],
   "source": [
    "frame = f1.copy()"
   ]
  },
  {
   "cell_type": "code",
   "execution_count": 91,
   "id": "smoking-terminology",
   "metadata": {},
   "outputs": [
    {
     "data": {
      "text/html": [
       "<div>\n",
       "<style scoped>\n",
       "    .dataframe tbody tr th:only-of-type {\n",
       "        vertical-align: middle;\n",
       "    }\n",
       "\n",
       "    .dataframe tbody tr th {\n",
       "        vertical-align: top;\n",
       "    }\n",
       "\n",
       "    .dataframe thead th {\n",
       "        text-align: right;\n",
       "    }\n",
       "</style>\n",
       "<table border=\"1\" class=\"dataframe\">\n",
       "  <thead>\n",
       "    <tr style=\"text-align: right;\">\n",
       "      <th></th>\n",
       "      <th>modelname</th>\n",
       "      <th>classname</th>\n",
       "      <th>img1_id</th>\n",
       "      <th>img2_id</th>\n",
       "      <th>concepts_1</th>\n",
       "      <th>concepts_2</th>\n",
       "      <th>sum1</th>\n",
       "      <th>sum2</th>\n",
       "      <th>diff</th>\n",
       "      <th>jaccard</th>\n",
       "      <th>gt</th>\n",
       "    </tr>\n",
       "  </thead>\n",
       "  <tbody>\n",
       "    <tr>\n",
       "      <th>1707</th>\n",
       "      <td>A</td>\n",
       "      <td>bees</td>\n",
       "      <td>1066</td>\n",
       "      <td>1087</td>\n",
       "      <td>primary_concept_seal,primary_concept_water_bac...</td>\n",
       "      <td>primary_concept_insect,color_beige</td>\n",
       "      <td>0.000000</td>\n",
       "      <td>0.000000</td>\n",
       "      <td>0.000000</td>\n",
       "      <td>0.00</td>\n",
       "      <td>cds_part_obj_color_shape</td>\n",
       "    </tr>\n",
       "    <tr>\n",
       "      <th>1713</th>\n",
       "      <td>A</td>\n",
       "      <td>mantis</td>\n",
       "      <td>1070</td>\n",
       "      <td>1210</td>\n",
       "      <td>primary_concept_insect,primary_concept_buildin...</td>\n",
       "      <td>primary_concept_pile,primary_concept_backgroun...</td>\n",
       "      <td>-0.095290</td>\n",
       "      <td>-1.640110</td>\n",
       "      <td>1.544820</td>\n",
       "      <td>0.25</td>\n",
       "      <td>cds_part_obj_color_shape</td>\n",
       "    </tr>\n",
       "    <tr>\n",
       "      <th>1714</th>\n",
       "      <td>A</td>\n",
       "      <td>mantis</td>\n",
       "      <td>1066</td>\n",
       "      <td>1156</td>\n",
       "      <td>primary_concept_seal,primary_concept_water_bac...</td>\n",
       "      <td>primary_concept_box,color_silver</td>\n",
       "      <td>-2.116953</td>\n",
       "      <td>-0.302387</td>\n",
       "      <td>1.814566</td>\n",
       "      <td>0.00</td>\n",
       "      <td>cds_part_obj_color_shape</td>\n",
       "    </tr>\n",
       "    <tr>\n",
       "      <th>1715</th>\n",
       "      <td>A</td>\n",
       "      <td>mantis</td>\n",
       "      <td>1156</td>\n",
       "      <td>1209</td>\n",
       "      <td>primary_concept_box,color_silver</td>\n",
       "      <td>primary_concept_door,primary_concept_doormat,c...</td>\n",
       "      <td>-0.302387</td>\n",
       "      <td>0.384085</td>\n",
       "      <td>0.686472</td>\n",
       "      <td>0.00</td>\n",
       "      <td>cds_part_obj_color_shape</td>\n",
       "    </tr>\n",
       "    <tr>\n",
       "      <th>1716</th>\n",
       "      <td>A</td>\n",
       "      <td>mantis</td>\n",
       "      <td>1210</td>\n",
       "      <td>1226</td>\n",
       "      <td>primary_concept_pile,primary_concept_backgroun...</td>\n",
       "      <td>primary_concept_camera,primary_concept_backgro...</td>\n",
       "      <td>-1.640110</td>\n",
       "      <td>-1.872419</td>\n",
       "      <td>0.232309</td>\n",
       "      <td>0.11</td>\n",
       "      <td>cds_part_obj_color_shape</td>\n",
       "    </tr>\n",
       "  </tbody>\n",
       "</table>\n",
       "</div>"
      ],
      "text/plain": [
       "     modelname classname  img1_id  img2_id  \\\n",
       "1707         A      bees     1066     1087   \n",
       "1713         A    mantis     1070     1210   \n",
       "1714         A    mantis     1066     1156   \n",
       "1715         A    mantis     1156     1209   \n",
       "1716         A    mantis     1210     1226   \n",
       "\n",
       "                                             concepts_1  \\\n",
       "1707  primary_concept_seal,primary_concept_water_bac...   \n",
       "1713  primary_concept_insect,primary_concept_buildin...   \n",
       "1714  primary_concept_seal,primary_concept_water_bac...   \n",
       "1715                   primary_concept_box,color_silver   \n",
       "1716  primary_concept_pile,primary_concept_backgroun...   \n",
       "\n",
       "                                             concepts_2      sum1      sum2  \\\n",
       "1707                 primary_concept_insect,color_beige  0.000000  0.000000   \n",
       "1713  primary_concept_pile,primary_concept_backgroun... -0.095290 -1.640110   \n",
       "1714                   primary_concept_box,color_silver -2.116953 -0.302387   \n",
       "1715  primary_concept_door,primary_concept_doormat,c... -0.302387  0.384085   \n",
       "1716  primary_concept_camera,primary_concept_backgro... -1.640110 -1.872419   \n",
       "\n",
       "          diff  jaccard                        gt  \n",
       "1707  0.000000     0.00  cds_part_obj_color_shape  \n",
       "1713  1.544820     0.25  cds_part_obj_color_shape  \n",
       "1714  1.814566     0.00  cds_part_obj_color_shape  \n",
       "1715  0.686472     0.00  cds_part_obj_color_shape  \n",
       "1716  0.232309     0.11  cds_part_obj_color_shape  "
      ]
     },
     "execution_count": 91,
     "metadata": {},
     "output_type": "execute_result"
    }
   ],
   "source": [
    "frame.head()"
   ]
  },
  {
   "cell_type": "code",
   "execution_count": 128,
   "id": "loving-spoke",
   "metadata": {},
   "outputs": [],
   "source": [
    "li = []\n",
    "for gt in graph_types:\n",
    "    all_files = glob.glob('ch_including_shape_new/'+gt+'/*.csv')\n",
    "    for filename in all_files:\n",
    "        df = pd.read_csv(filename)\n",
    "        df['gt'] = gt\n",
    "        df.drop(columns=['Unnamed: 0'],inplace=True)\n",
    "        li.append(df)"
   ]
  },
  {
   "cell_type": "code",
   "execution_count": 129,
   "id": "curious-electronics",
   "metadata": {},
   "outputs": [],
   "source": [
    "frame = pd.concat(li, axis=0, ignore_index=True)\n",
    "frame = frame.dropna()"
   ]
  },
  {
   "cell_type": "code",
   "execution_count": 114,
   "id": "british-america",
   "metadata": {},
   "outputs": [],
   "source": [
    "di = {'inception_imageneta_bias': \"I.1\",\n",
    "      'inception_utensil_color_bias': \"I.2\", \n",
    "      \"inception_utensil_shape_bias\": \"I.3\",\n",
    "      'inception_utensil_both_bias': \"I.4\",\n",
    "      \"squeezenet_imageneta_bias\": \"S.1\",\n",
    "      'squeezenet_utensil_both_bias': 'S.2',\n",
    "      'squeezenet_utensil_color_bias': 'S.3',\n",
    "      'squeezenet_utensil_shape_bias': 'S.4'\n",
    "     }"
   ]
  },
  {
   "cell_type": "code",
   "execution_count": 130,
   "id": "pursuant-pittsburgh",
   "metadata": {},
   "outputs": [],
   "source": [
    "frame['modelname'].replace(di, inplace=True)\n"
   ]
  },
  {
   "cell_type": "code",
   "execution_count": 213,
   "id": "worse-journey",
   "metadata": {},
   "outputs": [],
   "source": [
    "frame['modelname'] = frame['modelname'].replace(r'(^.*imagenet.*$)','imagenet', regex=True)\n",
    "frame['modelname'] = frame['modelname'].replace(r'(^.*utensil.*$)','utensil', regex=True)"
   ]
  },
  {
   "cell_type": "code",
   "execution_count": 131,
   "id": "infrared-pencil",
   "metadata": {},
   "outputs": [
    {
     "data": {
      "text/plain": [
       "I.4    240\n",
       "I.1    240\n",
       "S.4    240\n",
       "S.2    240\n",
       "S.1    240\n",
       "S.3    240\n",
       "I.3    240\n",
       "I.2    240\n",
       "Name: modelname, dtype: int64"
      ]
     },
     "execution_count": 131,
     "metadata": {},
     "output_type": "execute_result"
    }
   ],
   "source": [
    "frame.modelname.value_counts()"
   ]
  },
  {
   "cell_type": "code",
   "execution_count": 132,
   "id": "settled-freeze",
   "metadata": {},
   "outputs": [],
   "source": [
    "frame  = frame.sort_values(by='modelname')"
   ]
  },
  {
   "cell_type": "code",
   "execution_count": 17,
   "id": "frank-prescription",
   "metadata": {},
   "outputs": [
    {
     "data": {
      "image/png": "[encoded data removed]",
      "text/plain": [
       "<Figure size 360x360 with 1 Axes>"
      ]
     },
     "metadata": {},
     "output_type": "display_data"
    }
   ],
   "source": [
    "g = sns.catplot(x='modelname', y='diff', data=frame, kind='box', width = 0.5);"
   ]
  },
  {
   "cell_type": "code",
   "execution_count": 134,
   "id": "productive-camping",
   "metadata": {},
   "outputs": [
    {
     "data": {
      "text/plain": [
       "1707    0.000000\n",
       "495     0.000000\n",
       "496     0.027711\n",
       "497     0.000000\n",
       "498     0.000000\n",
       "          ...   \n",
       "1184    0.074460\n",
       "1183    0.366145\n",
       "1182    0.297232\n",
       "1416   -0.214592\n",
       "1919   -0.171485\n",
       "Name: common_sum, Length: 1920, dtype: float64"
      ]
     },
     "execution_count": 134,
     "metadata": {},
     "output_type": "execute_result"
    }
   ],
   "source": [
    "frame['common_sum']"
   ]
  },
  {
   "cell_type": "code",
   "execution_count": 141,
   "id": "cordless-collection",
   "metadata": {},
   "outputs": [
    {
     "data": {
      "image/png": "[encoded data removed]",
      "text/plain": [
       "<Figure size 1080x504 with 2 Axes>"
      ]
     },
     "metadata": {},
     "output_type": "display_data"
    }
   ],
   "source": [
    "s = sns.set()\n",
    "sns.set_theme(style=\"whitegrid\")\n",
    "fig, ax = plt.subplots(1, 2,figsize = (15,7))\n",
    "# fig, (ax1, ax2) = plt.subplots(nrows=1, ncols=2);\n",
    "# p1 = sns.boxplot(x='modelname', y='diff',  data=frame, ax=ax[0]);\n",
    "p2 = sns.boxplot(x='modelname', y='jaccard', data=frame, ax=ax[0]);\n",
    "p3 = sns.boxplot(x='modelname', y='common_sum', data=frame, ax=ax[1]);\n",
    "\n",
    "for a in ax:\n",
    "#     a.tick_params(labelrotation = 0, axis = 'x')\n",
    "#     a.set(xlabel=\"\",\n",
    "#           ylim=(-1,1))\n",
    "    for label in a.get_xticklabels():\n",
    "        label.set_fontsize(\"20\")\n",
    "    for label in a.get_yticklabels():\n",
    "        label.set_fontsize(\"20\")\n",
    "#     a.legend(fontsize=\"20\")\n",
    "    a.set_xticklabels(a.get_xticklabels(), ha=\"center\")\n",
    "sns.color_palette()\n",
    "\n",
    "p1.set(xlabel=None)\n",
    "p2.set(xlabel=None)\n",
    "p3.set(xlabel=None)\n",
    "# ax1.axes.set_title('Coherence', fontsize=20)\n",
    "# ax1.set_xlabel('Model Name', fontsize=15) \n",
    "ax[0].set_ylabel('Jaccard similarity', fontsize=25)\n",
    "# ax2.set_xlabel('Model Name', fontsize=15) \n",
    "ax[1].set_ylabel('Common Sum', fontsize=25)\n",
    "# ax[2].set_ylabel('Common Sum', fontsize=25)\n",
    "\n",
    "# ax2.set(xlabel='Model Name', ylabel='Jaccard Similarity')\n",
    "# plt.xlabel('asa')\n",
    "# fig.text(0.5, 0.009, 'common X', ha='center', fontsize=15)\n",
    "fig.tight_layout();\n",
    "fig.savefig(\"coherence.pdf\", dpi=200);"
   ]
  },
  {
   "cell_type": "code",
   "execution_count": 136,
   "id": "dominant-texture",
   "metadata": {},
   "outputs": [],
   "source": [
    "frame.to_csv('coherence_common_sum.csv', index=False)"
   ]
  },
  {
   "cell_type": "code",
   "execution_count": 177,
   "id": "labeled-attack",
   "metadata": {},
   "outputs": [
    {
     "data": {
      "text/plain": [
       "<AxesSubplot:title={'center':'diff'}, xlabel='modelname'>"
      ]
     },
     "execution_count": 177,
     "metadata": {},
     "output_type": "execute_result"
    },
    {
     "data": {
      "image/png": "[encoded data removed]",
      "text/plain": [
       "<Figure size 2000x500 with 1 Axes>"
      ]
     },
     "metadata": {},
     "output_type": "display_data"
    }
   ],
   "source": [
    "frame.boxplot(\"diff\", by=\"modelname\", figsize=(20,5))\n"
   ]
  },
  {
   "cell_type": "code",
   "execution_count": 59,
   "id": "invisible-chemical",
   "metadata": {},
   "outputs": [],
   "source": [
    "frame.to_csv('coherence_agg_paper.csv')"
   ]
  },
  {
   "cell_type": "code",
   "execution_count": 99,
   "id": "ordered-yeast",
   "metadata": {},
   "outputs": [],
   "source": [
    "coh = pd.read_csv('coherence_agg_paper.csv')"
   ]
  },
  {
   "cell_type": "code",
   "execution_count": 101,
   "id": "attended-ferry",
   "metadata": {},
   "outputs": [],
   "source": [
    "coh.drop(columns=['Unnamed: 0'],inplace=True)"
   ]
  },
  {
   "cell_type": "code",
   "execution_count": 135,
   "id": "designed-taste",
   "metadata": {},
   "outputs": [
    {
     "data": {
      "text/html": [
       "<div>\n",
       "<style scoped>\n",
       "    .dataframe tbody tr th:only-of-type {\n",
       "        vertical-align: middle;\n",
       "    }\n",
       "\n",
       "    .dataframe tbody tr th {\n",
       "        vertical-align: top;\n",
       "    }\n",
       "\n",
       "    .dataframe thead th {\n",
       "        text-align: right;\n",
       "    }\n",
       "</style>\n",
       "<table border=\"1\" class=\"dataframe\">\n",
       "  <thead>\n",
       "    <tr style=\"text-align: right;\">\n",
       "      <th></th>\n",
       "      <th>modelname</th>\n",
       "      <th>classname</th>\n",
       "      <th>sum1</th>\n",
       "      <th>sum2</th>\n",
       "      <th>diff</th>\n",
       "      <th>gt</th>\n",
       "    </tr>\n",
       "  </thead>\n",
       "  <tbody>\n",
       "    <tr>\n",
       "      <th>0</th>\n",
       "      <td>inception_imageneta_bias</td>\n",
       "      <td>ants</td>\n",
       "      <td>-0.976314</td>\n",
       "      <td>0.230717</td>\n",
       "      <td>1.207031</td>\n",
       "      <td>bk_part_obj_color</td>\n",
       "    </tr>\n",
       "    <tr>\n",
       "      <th>1</th>\n",
       "      <td>inception_imageneta_bias</td>\n",
       "      <td>ants</td>\n",
       "      <td>-0.018558</td>\n",
       "      <td>2.734848</td>\n",
       "      <td>2.753406</td>\n",
       "      <td>bk_part_obj_color</td>\n",
       "    </tr>\n",
       "    <tr>\n",
       "      <th>2</th>\n",
       "      <td>inception_imageneta_bias</td>\n",
       "      <td>ants</td>\n",
       "      <td>-0.366964</td>\n",
       "      <td>1.317151</td>\n",
       "      <td>1.684115</td>\n",
       "      <td>bk_part_obj_color</td>\n",
       "    </tr>\n",
       "    <tr>\n",
       "      <th>3</th>\n",
       "      <td>inception_imageneta_bias</td>\n",
       "      <td>ants</td>\n",
       "      <td>-0.212562</td>\n",
       "      <td>0.230717</td>\n",
       "      <td>0.443279</td>\n",
       "      <td>bk_part_obj_color</td>\n",
       "    </tr>\n",
       "    <tr>\n",
       "      <th>4</th>\n",
       "      <td>inception_imageneta_bias</td>\n",
       "      <td>ants</td>\n",
       "      <td>-0.490673</td>\n",
       "      <td>0.230717</td>\n",
       "      <td>0.721390</td>\n",
       "      <td>bk_part_obj_color</td>\n",
       "    </tr>\n",
       "  </tbody>\n",
       "</table>\n",
       "</div>"
      ],
      "text/plain": [
       "                  modelname classname      sum1      sum2      diff  \\\n",
       "0  inception_imageneta_bias      ants -0.976314  0.230717  1.207031   \n",
       "1  inception_imageneta_bias      ants -0.018558  2.734848  2.753406   \n",
       "2  inception_imageneta_bias      ants -0.366964  1.317151  1.684115   \n",
       "3  inception_imageneta_bias      ants -0.212562  0.230717  0.443279   \n",
       "4  inception_imageneta_bias      ants -0.490673  0.230717  0.721390   \n",
       "\n",
       "                  gt  \n",
       "0  bk_part_obj_color  \n",
       "1  bk_part_obj_color  \n",
       "2  bk_part_obj_color  \n",
       "3  bk_part_obj_color  \n",
       "4  bk_part_obj_color  "
      ]
     },
     "execution_count": 135,
     "metadata": {},
     "output_type": "execute_result"
    }
   ],
   "source": [
    "coh.head()"
   ]
  },
  {
   "cell_type": "code",
   "execution_count": 115,
   "id": "separated-storm",
   "metadata": {},
   "outputs": [],
   "source": [
    "import numpy as np\n",
    "import pandas as pd\n",
    "from sklearn.metrics import r2_score, mean_squared_error,mean_absolute_percentage_error\n",
    "\n",
    "def r2_rmse( g ):\n",
    "#     r2 = r2_score( g['sum1'], g['sum2'] )\n",
    "    mape = mean_absolute_percentage_error(g['sum1'], g['sum2'] )\n",
    "#     rmse = np.sqrt( mean_absolute_percentage_error( g['sum1'], g['sum2'] ) )\n",
    "    return pd.Series( dict( mape = mape ) )"
   ]
  },
  {
   "cell_type": "code",
   "execution_count": 117,
   "id": "czech-conversation",
   "metadata": {},
   "outputs": [],
   "source": [
    "np.set_printoptions(precision=3, suppress=True)"
   ]
  },
  {
   "cell_type": "code",
   "execution_count": 142,
   "id": "divided-plymouth",
   "metadata": {},
   "outputs": [],
   "source": [
    "cond = coh.sum1 < coh.sum2"
   ]
  },
  {
   "cell_type": "code",
   "execution_count": 143,
   "id": "metric-petroleum",
   "metadata": {},
   "outputs": [],
   "source": [
    "coh.loc[cond, ['sum1', 'sum2']] = coh.loc[cond, ['sum2', 'sum1']].values"
   ]
  },
  {
   "cell_type": "code",
   "execution_count": 144,
   "id": "allied-domestic",
   "metadata": {},
   "outputs": [],
   "source": [
    "temp = coh[['gt','modelname','sum1','sum2']].groupby(by = ['gt','modelname']).apply( r2_rmse ).reset_index()\n",
    "temp['mape'] = temp['mape'].round(3)"
   ]
  },
  {
   "cell_type": "code",
   "execution_count": 145,
   "id": "continent-transportation",
   "metadata": {},
   "outputs": [
    {
     "data": {
      "text/plain": [
       "272663942796508.84"
      ]
     },
     "execution_count": 145,
     "metadata": {},
     "output_type": "execute_result"
    }
   ],
   "source": [
    "temp['mape'].max()"
   ]
  },
  {
   "cell_type": "code",
   "execution_count": 129,
   "id": "failing-mitchell",
   "metadata": {},
   "outputs": [],
   "source": [
    "temp.to_csv('coherence_mape.csv', index=False)"
   ]
  },
  {
   "cell_type": "code",
   "execution_count": 147,
   "id": "several-elizabeth",
   "metadata": {},
   "outputs": [],
   "source": [
    "diff = coh[['gt','modelname','sum1','sum2']].groupby(by = ['gt','modelname']).mean().reset_index()"
   ]
  },
  {
   "cell_type": "code",
   "execution_count": 148,
   "id": "constant-maria",
   "metadata": {},
   "outputs": [],
   "source": [
    "diff['diff'] = diff['sum1'] - diff['sum2']"
   ]
  },
  {
   "cell_type": "code",
   "execution_count": 154,
   "id": "grand-phenomenon",
   "metadata": {},
   "outputs": [],
   "source": [
    "final  = diff[['gt','modelname','sum1','sum2','diff']].groupby(by = ['gt','modelname']).mean()"
   ]
  },
  {
   "cell_type": "code",
   "execution_count": 155,
   "id": "secret-healing",
   "metadata": {},
   "outputs": [],
   "source": [
    "final.to_csv('coherence_combine.csv')"
   ]
  }
 ],
 "metadata": {
  "kernelspec": {
   "display_name": "Python 3",
   "language": "python",
   "name": "python3"
  },
  "language_info": {
   "codemirror_mode": {
    "name": "ipython",
    "version": 3
   },
   "file_extension": ".py",
   "mimetype": "text/x-python",
   "name": "python",
   "nbconvert_exporter": "python",
   "pygments_lexer": "ipython3",
   "version": "3.8.10"
  }
 },
 "nbformat": 4,
 "nbformat_minor": 5
}
