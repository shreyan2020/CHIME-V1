{
 "cells": [
  {
   "cell_type": "code",
   "execution_count": 11,
   "id": "foreign-bidding",
   "metadata": {},
   "outputs": [],
   "source": [
    "import pandas as pd\n",
    "import glob\n",
    "import seaborn as sns\n",
    "import matplotlib.pyplot as plt\n",
    "import numpy as np\n",
    "from matplotlib import rcParams\n",
    "from sklearn.metrics import r2_score, mean_squared_error,mean_absolute_percentage_error\n",
    "rcParams['figure.figsize'] = 20,10\n",
    "sns.set_style(\"whitegrid\")"
   ]
  },
  {
   "cell_type": "code",
   "execution_count": 2,
   "id": "continent-bridges",
   "metadata": {},
   "outputs": [],
   "source": [
    "df = pd.read_csv('inception_utensil_color_bias_TEA_SPOON_effect.csv')"
   ]
  },
  {
   "cell_type": "code",
   "execution_count": 2,
   "id": "advanced-space",
   "metadata": {},
   "outputs": [],
   "source": [
    "graph_types = [\n",
    "    'bk_obj_color',\n",
    "    'bk_obj_color_shape',\n",
    "    'bk_part_obj_color',\n",
    "    'bk_part_obj_color_shape',\n",
    "    'cds_obj_color',\n",
    "    'cds_obj_color_shape',\n",
    "    'cds_part_obj_color',\n",
    "    'cds_part_obj_color_shape',\n",
    "]\n",
    "modelnames = [\n",
    "    'inception_imageneta_bias',\n",
    "    'squeezenet_imageneta_bias',\n",
    "    'inception_utensil_color_bias',\n",
    "    'inception_utensil_shape_bias',\n",
    "    'inception_utensil_both_bias',\n",
    "    'squeezenet_utensil_both_bias',\n",
    "    'squeezenet_utensil_color_bias',\n",
    "    'squeezenet_utensil_shape_bias'\n",
    "    \n",
    "]\n",
    "imagenet_classes = [\n",
    "    'ants',\n",
    "    'mantis',\n",
    "    'bees'\n",
    "]\n",
    "utensil_classes = [\n",
    "    'TEA_SPOON',\n",
    "    'FISH_SLICE',\n",
    "    'DINNER_CUTLERY'\n",
    "]"
   ]
  },
  {
   "cell_type": "code",
   "execution_count": 546,
   "id": "operating-angel",
   "metadata": {},
   "outputs": [],
   "source": [
    "final_results = []"
   ]
  },
  {
   "cell_type": "code",
   "execution_count": 547,
   "id": "indie-belfast",
   "metadata": {},
   "outputs": [],
   "source": [
    "for gt in graph_types:\n",
    "#     Path(+gt).mkdir(parents=True, exist_ok=True)\n",
    "    for modelname in modelnames:\n",
    "        if 'imagenet' in modelname:\n",
    "                classnames = imagenet_classes\n",
    "        else:\n",
    "            classnames = utensil_classes\n",
    "        for classname in classnames:\n",
    "            filename = modelname+'_'+classname+'.csv'\n",
    "            df = pd.read_csv(gt+'/effects/'+filename)\n",
    "            top = df.sort_values(by='score', ascending=False)[:5]\n",
    "            top = top.round(2)\n",
    "            top = top.replace('primary_concept_','',regex=True)\n",
    "            top['t'] = top['treatment']+'('+top['score'].astype(str)+')'\n",
    "            t = top['t'][:5].values\n",
    "            outp = ','.join(t)\n",
    "            res = {}\n",
    "            \n",
    "            res['gt'] = gt\n",
    "            res['modelname'] = modelname\n",
    "            res['classname'] = classname\n",
    "            res['outs'] = outp\n",
    "            final_results.append(res)\n",
    "            "
   ]
  },
  {
   "cell_type": "code",
   "execution_count": 549,
   "id": "purple-business",
   "metadata": {},
   "outputs": [],
   "source": [
    "final_results\n",
    "fd = pd.DataFrame(final_results)\n",
    "fd.to_csv('final_results_for_paper.csv',index=False)"
   ]
  },
  {
   "cell_type": "code",
   "execution_count": 550,
   "id": "entitled-columbus",
   "metadata": {},
   "outputs": [
    {
     "data": {
      "text/html": [
       "<div>\n",
       "<style scoped>\n",
       "    .dataframe tbody tr th:only-of-type {\n",
       "        vertical-align: middle;\n",
       "    }\n",
       "\n",
       "    .dataframe tbody tr th {\n",
       "        vertical-align: top;\n",
       "    }\n",
       "\n",
       "    .dataframe thead th {\n",
       "        text-align: right;\n",
       "    }\n",
       "</style>\n",
       "<table border=\"1\" class=\"dataframe\">\n",
       "  <thead>\n",
       "    <tr style=\"text-align: right;\">\n",
       "      <th></th>\n",
       "      <th>gt</th>\n",
       "      <th>modelname</th>\n",
       "      <th>classname</th>\n",
       "      <th>outs</th>\n",
       "    </tr>\n",
       "  </thead>\n",
       "  <tbody>\n",
       "    <tr>\n",
       "      <th>0</th>\n",
       "      <td>bk_obj_color</td>\n",
       "      <td>inception_imageneta_bias</td>\n",
       "      <td>ants</td>\n",
       "      <td>plastic_box(0.68),notebook(0.68),leaf(0.64),wh...</td>\n",
       "    </tr>\n",
       "    <tr>\n",
       "      <th>1</th>\n",
       "      <td>bk_obj_color</td>\n",
       "      <td>inception_imageneta_bias</td>\n",
       "      <td>mantis</td>\n",
       "      <td>dog(1.31),tree(0.65),mantis(0.61),storage_box(...</td>\n",
       "    </tr>\n",
       "    <tr>\n",
       "      <th>2</th>\n",
       "      <td>bk_obj_color</td>\n",
       "      <td>inception_imageneta_bias</td>\n",
       "      <td>bees</td>\n",
       "      <td>color_beige(0.76),camera(0.7),bicycle(0.67),be...</td>\n",
       "    </tr>\n",
       "    <tr>\n",
       "      <th>3</th>\n",
       "      <td>bk_obj_color</td>\n",
       "      <td>squeezenet_imageneta_bias</td>\n",
       "      <td>ants</td>\n",
       "      <td>keyboard(1.0),grass(0.93),petri_dish(0.91),inf...</td>\n",
       "    </tr>\n",
       "    <tr>\n",
       "      <th>4</th>\n",
       "      <td>bk_obj_color</td>\n",
       "      <td>squeezenet_imageneta_bias</td>\n",
       "      <td>mantis</td>\n",
       "      <td>basket(0.97),photo(0.74),color_skin(0.73),hous...</td>\n",
       "    </tr>\n",
       "  </tbody>\n",
       "</table>\n",
       "</div>"
      ],
      "text/plain": [
       "             gt                  modelname classname  \\\n",
       "0  bk_obj_color   inception_imageneta_bias      ants   \n",
       "1  bk_obj_color   inception_imageneta_bias    mantis   \n",
       "2  bk_obj_color   inception_imageneta_bias      bees   \n",
       "3  bk_obj_color  squeezenet_imageneta_bias      ants   \n",
       "4  bk_obj_color  squeezenet_imageneta_bias    mantis   \n",
       "\n",
       "                                                outs  \n",
       "0  plastic_box(0.68),notebook(0.68),leaf(0.64),wh...  \n",
       "1  dog(1.31),tree(0.65),mantis(0.61),storage_box(...  \n",
       "2  color_beige(0.76),camera(0.7),bicycle(0.67),be...  \n",
       "3  keyboard(1.0),grass(0.93),petri_dish(0.91),inf...  \n",
       "4  basket(0.97),photo(0.74),color_skin(0.73),hous...  "
      ]
     },
     "execution_count": 550,
     "metadata": {},
     "output_type": "execute_result"
    }
   ],
   "source": [
    "fd.head()"
   ]
  },
  {
   "cell_type": "markdown",
   "id": "helpful-leave",
   "metadata": {},
   "source": [
    "import pandas as pd\n",
    "import glob\n",
    "import os"
   ]
  },
  {
   "cell_type": "markdown",
   "id": "serious-mauritius",
   "metadata": {},
   "source": [
    "## calculate top 1 accuracy positive"
   ]
  },
  {
   "cell_type": "code",
   "execution_count": 526,
   "id": "sustainable-perry",
   "metadata": {},
   "outputs": [],
   "source": [
    "li = []\n",
    "for gt in graph_types:\n",
    "    all_files = glob.glob('cv_with_shapes/'+gt+'/*.csv')\n",
    "    for filename in all_files:\n",
    "        pos_file = filename\n",
    "        df_pos = pd.read_csv(filename)\n",
    "        df_pos.drop(columns=['Unnamed: 0'],inplace=True)\n",
    "        df_pos = df_pos[['gt','modelname','classname','accuracy','accuracy_2']]\n",
    "        li.append(df_pos)"
   ]
  },
  {
   "cell_type": "code",
   "execution_count": 527,
   "id": "color-wilson",
   "metadata": {},
   "outputs": [],
   "source": [
    "frame = pd.concat(li, axis=0, ignore_index=True)"
   ]
  },
  {
   "cell_type": "code",
   "execution_count": 532,
   "id": "institutional-payday",
   "metadata": {},
   "outputs": [
    {
     "data": {
      "text/html": [
       "<div>\n",
       "<style scoped>\n",
       "    .dataframe tbody tr th:only-of-type {\n",
       "        vertical-align: middle;\n",
       "    }\n",
       "\n",
       "    .dataframe tbody tr th {\n",
       "        vertical-align: top;\n",
       "    }\n",
       "\n",
       "    .dataframe thead th {\n",
       "        text-align: right;\n",
       "    }\n",
       "</style>\n",
       "<table border=\"1\" class=\"dataframe\">\n",
       "  <thead>\n",
       "    <tr style=\"text-align: right;\">\n",
       "      <th></th>\n",
       "      <th>gt</th>\n",
       "      <th>modelname</th>\n",
       "      <th>classname</th>\n",
       "      <th>accuracy</th>\n",
       "      <th>accuracy_2</th>\n",
       "    </tr>\n",
       "  </thead>\n",
       "  <tbody>\n",
       "    <tr>\n",
       "      <th>0</th>\n",
       "      <td>bk_obj_color</td>\n",
       "      <td>inception_utensil_shape_bias</td>\n",
       "      <td>TEA_SPOON</td>\n",
       "      <td>0.0</td>\n",
       "      <td>0.000</td>\n",
       "    </tr>\n",
       "    <tr>\n",
       "      <th>1</th>\n",
       "      <td>bk_obj_color</td>\n",
       "      <td>inception_utensil_shape_bias</td>\n",
       "      <td>TEA_SPOON</td>\n",
       "      <td>0.0</td>\n",
       "      <td>0.500</td>\n",
       "    </tr>\n",
       "    <tr>\n",
       "      <th>2</th>\n",
       "      <td>bk_obj_color</td>\n",
       "      <td>inception_utensil_shape_bias</td>\n",
       "      <td>TEA_SPOON</td>\n",
       "      <td>0.0</td>\n",
       "      <td>0.375</td>\n",
       "    </tr>\n",
       "    <tr>\n",
       "      <th>3</th>\n",
       "      <td>bk_obj_color</td>\n",
       "      <td>inception_utensil_shape_bias</td>\n",
       "      <td>TEA_SPOON</td>\n",
       "      <td>0.0</td>\n",
       "      <td>1.000</td>\n",
       "    </tr>\n",
       "    <tr>\n",
       "      <th>4</th>\n",
       "      <td>bk_obj_color</td>\n",
       "      <td>inception_utensil_shape_bias</td>\n",
       "      <td>TEA_SPOON</td>\n",
       "      <td>0.5</td>\n",
       "      <td>1.000</td>\n",
       "    </tr>\n",
       "  </tbody>\n",
       "</table>\n",
       "</div>"
      ],
      "text/plain": [
       "             gt                     modelname  classname  accuracy  accuracy_2\n",
       "0  bk_obj_color  inception_utensil_shape_bias  TEA_SPOON       0.0       0.000\n",
       "1  bk_obj_color  inception_utensil_shape_bias  TEA_SPOON       0.0       0.500\n",
       "2  bk_obj_color  inception_utensil_shape_bias  TEA_SPOON       0.0       0.375\n",
       "3  bk_obj_color  inception_utensil_shape_bias  TEA_SPOON       0.0       1.000\n",
       "4  bk_obj_color  inception_utensil_shape_bias  TEA_SPOON       0.5       1.000"
      ]
     },
     "execution_count": 532,
     "metadata": {},
     "output_type": "execute_result"
    }
   ],
   "source": [
    "frame.head()"
   ]
  },
  {
   "cell_type": "code",
   "execution_count": 533,
   "id": "quick-affairs",
   "metadata": {},
   "outputs": [],
   "source": [
    "acc = frame[['gt','modelname','accuracy','accuracy_2']].groupby(by = ['gt','modelname']).agg(['mean','std'])\n",
    "acc = acc.round(2)\n",
    "acc.to_csv('accuracy_final_shape.csv')"
   ]
  },
  {
   "cell_type": "markdown",
   "id": "foreign-egypt",
   "metadata": {},
   "source": [
    "## calculate top 1 accuracy negative"
   ]
  },
  {
   "cell_type": "code",
   "execution_count": 494,
   "id": "intense-dealer",
   "metadata": {},
   "outputs": [],
   "source": [
    "df = pd.read_csv('accuracy_final_shape.csv')"
   ]
  },
  {
   "cell_type": "code",
   "execution_count": 495,
   "id": "broke-efficiency",
   "metadata": {},
   "outputs": [
    {
     "data": {
      "text/html": [
       "<div>\n",
       "<style scoped>\n",
       "    .dataframe tbody tr th:only-of-type {\n",
       "        vertical-align: middle;\n",
       "    }\n",
       "\n",
       "    .dataframe tbody tr th {\n",
       "        vertical-align: top;\n",
       "    }\n",
       "\n",
       "    .dataframe thead th {\n",
       "        text-align: right;\n",
       "    }\n",
       "</style>\n",
       "<table border=\"1\" class=\"dataframe\">\n",
       "  <thead>\n",
       "    <tr style=\"text-align: right;\">\n",
       "      <th></th>\n",
       "      <th>gt</th>\n",
       "      <th>modelname</th>\n",
       "      <th>classname</th>\n",
       "      <th>accuracy</th>\n",
       "      <th>accuracy2</th>\n",
       "      <th>accuracy_neg</th>\n",
       "      <th>accuracy2_neg</th>\n",
       "    </tr>\n",
       "  </thead>\n",
       "  <tbody>\n",
       "    <tr>\n",
       "      <th>0</th>\n",
       "      <td>bk_obj_color</td>\n",
       "      <td>inception_utensil_shape_bias</td>\n",
       "      <td>TEA_SPOON</td>\n",
       "      <td>0.0</td>\n",
       "      <td>0.000</td>\n",
       "      <td>0.000000</td>\n",
       "      <td>0.000000</td>\n",
       "    </tr>\n",
       "    <tr>\n",
       "      <th>1</th>\n",
       "      <td>bk_obj_color</td>\n",
       "      <td>inception_utensil_shape_bias</td>\n",
       "      <td>TEA_SPOON</td>\n",
       "      <td>0.0</td>\n",
       "      <td>0.500</td>\n",
       "      <td>0.000000</td>\n",
       "      <td>0.250000</td>\n",
       "    </tr>\n",
       "    <tr>\n",
       "      <th>2</th>\n",
       "      <td>bk_obj_color</td>\n",
       "      <td>inception_utensil_shape_bias</td>\n",
       "      <td>TEA_SPOON</td>\n",
       "      <td>0.0</td>\n",
       "      <td>0.375</td>\n",
       "      <td>0.000000</td>\n",
       "      <td>0.000000</td>\n",
       "    </tr>\n",
       "    <tr>\n",
       "      <th>3</th>\n",
       "      <td>bk_obj_color</td>\n",
       "      <td>inception_utensil_shape_bias</td>\n",
       "      <td>TEA_SPOON</td>\n",
       "      <td>0.0</td>\n",
       "      <td>1.000</td>\n",
       "      <td>0.111111</td>\n",
       "      <td>0.666667</td>\n",
       "    </tr>\n",
       "    <tr>\n",
       "      <th>4</th>\n",
       "      <td>bk_obj_color</td>\n",
       "      <td>inception_utensil_shape_bias</td>\n",
       "      <td>TEA_SPOON</td>\n",
       "      <td>0.5</td>\n",
       "      <td>1.000</td>\n",
       "      <td>0.000000</td>\n",
       "      <td>0.200000</td>\n",
       "    </tr>\n",
       "  </tbody>\n",
       "</table>\n",
       "</div>"
      ],
      "text/plain": [
       "             gt                     modelname  classname  accuracy  accuracy2  \\\n",
       "0  bk_obj_color  inception_utensil_shape_bias  TEA_SPOON       0.0      0.000   \n",
       "1  bk_obj_color  inception_utensil_shape_bias  TEA_SPOON       0.0      0.500   \n",
       "2  bk_obj_color  inception_utensil_shape_bias  TEA_SPOON       0.0      0.375   \n",
       "3  bk_obj_color  inception_utensil_shape_bias  TEA_SPOON       0.0      1.000   \n",
       "4  bk_obj_color  inception_utensil_shape_bias  TEA_SPOON       0.5      1.000   \n",
       "\n",
       "   accuracy_neg  accuracy2_neg  \n",
       "0      0.000000       0.000000  \n",
       "1      0.000000       0.250000  \n",
       "2      0.000000       0.000000  \n",
       "3      0.111111       0.666667  \n",
       "4      0.000000       0.200000  "
      ]
     },
     "execution_count": 495,
     "metadata": {},
     "output_type": "execute_result"
    }
   ],
   "source": [
    "df.head()"
   ]
  },
  {
   "cell_type": "code",
   "execution_count": 485,
   "id": "european-december",
   "metadata": {},
   "outputs": [],
   "source": [
    "li = []\n",
    "for gt in graph_types:\n",
    "    all_files = glob.glob('cv_with_shapes_negative/'+gt+'/*.csv')\n",
    "    for filename in all_files:\n",
    "        pos_file = filename\n",
    "        df_neg = pd.read_csv(filename)\n",
    "        df_neg.drop(columns=['Unnamed: 0'],inplace=True)\n",
    "        df_neg = df_neg[['gt','modelname','classname','accuracy','accuracy_2']]\n",
    "        li.append(df_neg)"
   ]
  },
  {
   "cell_type": "code",
   "execution_count": 486,
   "id": "quarterly-verse",
   "metadata": {},
   "outputs": [],
   "source": [
    "frame_neg = pd.concat(li, axis=0, ignore_index=True)"
   ]
  },
  {
   "cell_type": "code",
   "execution_count": 483,
   "id": "political-crown",
   "metadata": {},
   "outputs": [],
   "source": [
    "acc = frame[['gt','modelname','accuracy','accuracy_2']].groupby(by = ['gt','modelname']).agg(['mean','std'])\n",
    "acc = acc.round(2)\n",
    "acc.to_csv('accuracy_final_shape_negative.csv', index=False)"
   ]
  },
  {
   "cell_type": "markdown",
   "id": "meaning-latitude",
   "metadata": {},
   "source": [
    "## causal verification inequality"
   ]
  },
  {
   "cell_type": "code",
   "execution_count": 521,
   "id": "injured-stockholm",
   "metadata": {},
   "outputs": [],
   "source": [
    "t = df_acc2[df_acc2['accuracy2'] > df_acc2['accuracy2_neg']].groupby(['gt','modelname']).count()/df_acc2.groupby(['gt','modelname']).count()\n",
    "t['classname'] = t['classname'].round(2)*100\n",
    "t = t[['classname']]"
   ]
  },
  {
   "cell_type": "code",
   "execution_count": 522,
   "id": "alleged-weather",
   "metadata": {},
   "outputs": [],
   "source": [
    "t.head()"
   ]
  },
  {
   "cell_type": "code",
   "execution_count": 525,
   "id": "informative-torture",
   "metadata": {},
   "outputs": [],
   "source": [
    "t.to_csv('t2.csv')"
   ]
  },
  {
   "cell_type": "code",
   "execution_count": 364,
   "id": "driving-oriental",
   "metadata": {},
   "outputs": [],
   "source": [
    "tmp = df[['gt','modelname','accuracy_pos','accuracy_neg']].groupby(by = ['gt','modelname']).agg(['mean','std'])"
   ]
  },
  {
   "cell_type": "code",
   "execution_count": 378,
   "id": "beautiful-vehicle",
   "metadata": {},
   "outputs": [],
   "source": [
    "tmp = tmp.reset_index()"
   ]
  },
  {
   "cell_type": "code",
   "execution_count": 379,
   "id": "paperback-publicity",
   "metadata": {},
   "outputs": [
    {
     "data": {
      "text/html": [
       "<div>\n",
       "<style scoped>\n",
       "    .dataframe tbody tr th:only-of-type {\n",
       "        vertical-align: middle;\n",
       "    }\n",
       "\n",
       "    .dataframe tbody tr th {\n",
       "        vertical-align: top;\n",
       "    }\n",
       "\n",
       "    .dataframe thead tr th {\n",
       "        text-align: left;\n",
       "    }\n",
       "</style>\n",
       "<table border=\"1\" class=\"dataframe\">\n",
       "  <thead>\n",
       "    <tr>\n",
       "      <th></th>\n",
       "      <th>gt</th>\n",
       "      <th>modelname</th>\n",
       "      <th colspan=\"2\" halign=\"left\">accuracy_pos</th>\n",
       "      <th colspan=\"2\" halign=\"left\">accuracy_neg</th>\n",
       "    </tr>\n",
       "    <tr>\n",
       "      <th></th>\n",
       "      <th></th>\n",
       "      <th></th>\n",
       "      <th>mean</th>\n",
       "      <th>sem</th>\n",
       "      <th>mean</th>\n",
       "      <th>sem</th>\n",
       "    </tr>\n",
       "  </thead>\n",
       "  <tbody>\n",
       "    <tr>\n",
       "      <th>0</th>\n",
       "      <td>bk_obj_color</td>\n",
       "      <td>inception_imageneta_bias</td>\n",
       "      <td>0.570291</td>\n",
       "      <td>0.039516</td>\n",
       "      <td>0.316481</td>\n",
       "      <td>0.032521</td>\n",
       "    </tr>\n",
       "    <tr>\n",
       "      <th>1</th>\n",
       "      <td>bk_obj_color</td>\n",
       "      <td>inception_utensil_both_bias</td>\n",
       "      <td>0.395952</td>\n",
       "      <td>0.045911</td>\n",
       "      <td>0.304630</td>\n",
       "      <td>0.044261</td>\n",
       "    </tr>\n",
       "    <tr>\n",
       "      <th>2</th>\n",
       "      <td>bk_obj_color</td>\n",
       "      <td>inception_utensil_color_bias</td>\n",
       "      <td>0.333333</td>\n",
       "      <td>0.054800</td>\n",
       "      <td>0.325926</td>\n",
       "      <td>0.051568</td>\n",
       "    </tr>\n",
       "    <tr>\n",
       "      <th>3</th>\n",
       "      <td>bk_obj_color</td>\n",
       "      <td>inception_utensil_shape_bias</td>\n",
       "      <td>0.355926</td>\n",
       "      <td>0.046227</td>\n",
       "      <td>0.313519</td>\n",
       "      <td>0.046986</td>\n",
       "    </tr>\n",
       "    <tr>\n",
       "      <th>4</th>\n",
       "      <td>bk_obj_color</td>\n",
       "      <td>squeezenet_imageneta_bias</td>\n",
       "      <td>0.419550</td>\n",
       "      <td>0.035507</td>\n",
       "      <td>0.308889</td>\n",
       "      <td>0.035352</td>\n",
       "    </tr>\n",
       "  </tbody>\n",
       "</table>\n",
       "</div>"
      ],
      "text/plain": [
       "             gt                     modelname accuracy_pos            \\\n",
       "                                                      mean       sem   \n",
       "0  bk_obj_color      inception_imageneta_bias     0.570291  0.039516   \n",
       "1  bk_obj_color   inception_utensil_both_bias     0.395952  0.045911   \n",
       "2  bk_obj_color  inception_utensil_color_bias     0.333333  0.054800   \n",
       "3  bk_obj_color  inception_utensil_shape_bias     0.355926  0.046227   \n",
       "4  bk_obj_color     squeezenet_imageneta_bias     0.419550  0.035507   \n",
       "\n",
       "  accuracy_neg            \n",
       "          mean       sem  \n",
       "0     0.316481  0.032521  \n",
       "1     0.304630  0.044261  \n",
       "2     0.325926  0.051568  \n",
       "3     0.313519  0.046986  \n",
       "4     0.308889  0.035352  "
      ]
     },
     "execution_count": 379,
     "metadata": {},
     "output_type": "execute_result"
    }
   ],
   "source": [
    "tmp.head()"
   ]
  },
  {
   "cell_type": "markdown",
   "id": "violent-collapse",
   "metadata": {},
   "source": [
    "## coherence"
   ]
  },
  {
   "cell_type": "code",
   "execution_count": 83,
   "id": "sticky-usage",
   "metadata": {},
   "outputs": [],
   "source": [
    "li = []\n",
    "for gt in graph_types:\n",
    "    all_files = glob.glob('ch_including_shape/'+gt+'/*.csv')\n",
    "    for filename in all_files:\n",
    "        df = pd.read_csv(filename)\n",
    "        df['gt'] = gt\n",
    "        df.drop(columns=['Unnamed: 0'],inplace=True)\n",
    "        li.append(df)"
   ]
  },
  {
   "cell_type": "code",
   "execution_count": 6,
   "id": "indie-matrix",
   "metadata": {},
   "outputs": [],
   "source": [
    "frame = pd.concat(li, axis=0, ignore_index=True)\n",
    "frame = frame.dropna()"
   ]
  },
  {
   "cell_type": "code",
   "execution_count": 12,
   "id": "published-insulation",
   "metadata": {},
   "outputs": [],
   "source": [
    "df = frame.copy()"
   ]
  },
  {
   "cell_type": "code",
   "execution_count": 13,
   "id": "alien-correspondence",
   "metadata": {},
   "outputs": [
    {
     "data": {
      "image/png": "[encoded data removed]",
      "text/plain": [
       "<Figure size 1440x720 with 2 Axes>"
      ]
     },
     "metadata": {},
     "output_type": "display_data"
    }
   ],
   "source": [
    "import numpy as np                 # v 1.19.2\n",
    "import pandas as pd                # v 1.1.3\n",
    "import matplotlib.pyplot as plt    # v 3.3.2\n",
    "\n",
    "df_pivot = df.pivot(columns=['modelname'])\n",
    "\n",
    "jaccard = [df_pivot['jaccard'][var].dropna() for var in df_pivot['jaccard']]\n",
    "diff = [df_pivot['diff'][var].dropna() for var in df_pivot['diff']]\n",
    "\n",
    "nb_groups = df['modelname'].nunique()\n",
    "fig, ax1 = plt.subplots(figsize=(20,10))\n",
    "box_param = dict(whis=(5, 95), widths=0.2, patch_artist=True,\n",
    "                 flierprops=dict(marker='.', markeredgecolor='black',\n",
    "                 fillstyle=None), medianprops=dict(color='black'))\n",
    "\n",
    "\n",
    "space = 0.15\n",
    "ax1.boxplot(jaccard, positions=np.arange(nb_groups)-space,\n",
    "            boxprops=dict(facecolor='tab:blue'), **box_param)\n",
    "\n",
    "ax2 = ax1.twinx()\n",
    "ax2.boxplot(diff, positions=np.arange(nb_groups)+space,\n",
    "            boxprops=dict(facecolor='tab:red'), **box_param)\n",
    "\n",
    "labelsize = 12\n",
    "ax1.set_xticks(np.arange(nb_groups))\n",
    "ax1.set_xticklabels([f'{label}' for label in df['modelname'].unique()])\n",
    "ax1.tick_params(axis='x', labelsize=labelsize)\n",
    "\n",
    "yticks_fmt = dict(axis='y', labelsize=labelsize)\n",
    "ax1.tick_params(colors='tab:blue', **yticks_fmt)\n",
    "ax2.tick_params(colors='tab:red', **yticks_fmt)\n",
    "\n",
    "label_fmt = dict(size=12, labelpad=15)\n",
    "ax1.set_xlabel('Graph type', **label_fmt)\n",
    "ax1.set_ylabel('Average Jaccard Similarity', color='tab:blue', **label_fmt)\n",
    "ax2.set_ylabel('Average Causal Effect Difference', color='tab:red', **label_fmt)\n",
    "\n",
    "plt.show()"
   ]
  },
  {
   "cell_type": "code",
   "execution_count": 128,
   "id": "naked-geology",
   "metadata": {},
   "outputs": [],
   "source": [
    "li = []\n",
    "for gt in graph_types:\n",
    "    all_files = glob.glob('ch_including_shape_new/'+gt+'/*.csv')\n",
    "    for filename in all_files:\n",
    "        df = pd.read_csv(filename)\n",
    "        df['gt'] = gt\n",
    "        df.drop(columns=['Unnamed: 0'],inplace=True)\n",
    "        li.append(df)"
   ]
  },
  {
   "cell_type": "code",
   "execution_count": 129,
   "id": "valid-malawi",
   "metadata": {},
   "outputs": [],
   "source": [
    "frame = pd.concat(li, axis=0, ignore_index=True)\n",
    "frame = frame.dropna()"
   ]
  },
  {
   "cell_type": "code",
   "execution_count": 114,
   "id": "worthy-morning",
   "metadata": {},
   "outputs": [],
   "source": [
    "di = {'inception_imageneta_bias': \"I.1\",\n",
    "      'inception_utensil_color_bias': \"I.2\", \n",
    "      \"inception_utensil_shape_bias\": \"I.3\",\n",
    "      'inception_utensil_both_bias': \"I.4\",\n",
    "      \"squeezenet_imageneta_bias\": \"S.1\",\n",
    "      'squeezenet_utensil_both_bias': 'S.2',\n",
    "      'squeezenet_utensil_color_bias': 'S.3',\n",
    "      'squeezenet_utensil_shape_bias': 'S.4'\n",
    "     }"
   ]
  },
  {
   "cell_type": "code",
   "execution_count": 130,
   "id": "important-phrase",
   "metadata": {},
   "outputs": [],
   "source": [
    "frame['modelname'].replace(di, inplace=True)"
   ]
  },
  {
   "cell_type": "code",
   "execution_count": 131,
   "id": "located-graduation",
   "metadata": {},
   "outputs": [
    {
     "data": {
      "text/plain": [
       "I.4    240\n",
       "I.1    240\n",
       "S.4    240\n",
       "S.2    240\n",
       "S.1    240\n",
       "S.3    240\n",
       "I.3    240\n",
       "I.2    240\n",
       "Name: modelname, dtype: int64"
      ]
     },
     "execution_count": 131,
     "metadata": {},
     "output_type": "execute_result"
    }
   ],
   "source": [
    "frame.modelname.value_counts()"
   ]
  },
  {
   "cell_type": "code",
   "execution_count": 132,
   "id": "therapeutic-atlantic",
   "metadata": {},
   "outputs": [],
   "source": [
    "frame  = frame.sort_values(by='modelname')"
   ]
  },
  {
   "cell_type": "code",
   "execution_count": 17,
   "id": "funny-mississippi",
   "metadata": {},
   "outputs": [
    {
     "data": {
      "image/png": "[encoded data removed]",
      "text/plain": [
       "<Figure size 360x360 with 1 Axes>"
      ]
     },
     "metadata": {},
     "output_type": "display_data"
    }
   ],
   "source": [
    "g = sns.catplot(x='modelname', y='diff', data=frame, kind='box', width = 0.5);"
   ]
  },
  {
   "cell_type": "code",
   "execution_count": 141,
   "id": "canadian-lighter",
   "metadata": {},
   "outputs": [
    {
     "data": {
      "image/png": "[encoded data removed]",
      "text/plain": [
       "<Figure size 1080x504 with 2 Axes>"
      ]
     },
     "metadata": {},
     "output_type": "display_data"
    }
   ],
   "source": [
    "s = sns.set()\n",
    "sns.set_theme(style=\"whitegrid\")\n",
    "fig, ax = plt.subplots(1, 2,figsize = (15,7))\n",
    "# fig, (ax1, ax2) = plt.subplots(nrows=1, ncols=2);\n",
    "# p1 = sns.boxplot(x='modelname', y='diff',  data=frame, ax=ax[0]);\n",
    "p2 = sns.boxplot(x='modelname', y='jaccard', data=frame, ax=ax[0]);\n",
    "p3 = sns.boxplot(x='modelname', y='common_sum', data=frame, ax=ax[1]);\n",
    "\n",
    "for a in ax:\n",
    "#     a.tick_params(labelrotation = 0, axis = 'x')\n",
    "#     a.set(xlabel=\"\",\n",
    "#           ylim=(-1,1))\n",
    "    for label in a.get_xticklabels():\n",
    "        label.set_fontsize(\"20\")\n",
    "    for label in a.get_yticklabels():\n",
    "        label.set_fontsize(\"20\")\n",
    "#     a.legend(fontsize=\"20\")\n",
    "    a.set_xticklabels(a.get_xticklabels(), ha=\"center\")\n",
    "sns.color_palette()\n",
    "\n",
    "p1.set(xlabel=None)\n",
    "p2.set(xlabel=None)\n",
    "p3.set(xlabel=None)\n",
    "# ax1.axes.set_title('Coherence', fontsize=20)\n",
    "# ax1.set_xlabel('Model Name', fontsize=15) \n",
    "ax[0].set_ylabel('Jaccard similarity', fontsize=25)\n",
    "# ax2.set_xlabel('Model Name', fontsize=15) \n",
    "ax[1].set_ylabel('Common Sum', fontsize=25)\n",
    "# ax[2].set_ylabel('Common Sum', fontsize=25)\n",
    "\n",
    "# ax2.set(xlabel='Model Name', ylabel='Jaccard Similarity')\n",
    "# plt.xlabel('asa')\n",
    "# fig.text(0.5, 0.009, 'common X', ha='center', fontsize=15)\n",
    "fig.tight_layout();\n",
    "fig.savefig(\"coherence.pdf\", dpi=200);"
   ]
  }
 ],
 "metadata": {
  "kernelspec": {
   "display_name": "Python 3",
   "language": "python",
   "name": "python3"
  },
  "language_info": {
   "codemirror_mode": {
    "name": "ipython",
    "version": 3
   },
   "file_extension": ".py",
   "mimetype": "text/x-python",
   "name": "python",
   "nbconvert_exporter": "python",
   "pygments_lexer": "ipython3",
   "version": "3.8.10"
  }
 },
 "nbformat": 4,
 "nbformat_minor": 5
}
