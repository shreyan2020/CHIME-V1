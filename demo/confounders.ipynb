{
 "cells": [
  {
   "cell_type": "code",
   "execution_count": 1,
   "id": "minus-synthesis",
   "metadata": {},
   "outputs": [],
   "source": [
    "import pandas as pd\n",
    "import matplotlib.pyplot as plt\n",
    "import dowhy\n",
    "from scipy import stats\n",
    "from dowhy import CausalModel\n",
    "from collections import Counter\n",
    "import networkx as nx\n",
    "import fileinput\n",
    "import numpy as np\n",
    "import pandas as pd\n",
    "import random\n",
    "import math\n",
    "import networkx as nx\n",
    "from scipy.special import softmax\n",
    "from sklearn.ensemble import RandomForestRegressor, GradientBoostingRegressor\n",
    "# from sklearn.linear_model import LassoCV\n",
    "# from sklearn.preprocessing import PolynomialFeatures\n",
    "# from sklearn.linear_model import LassoCV\n",
    "from econml.inference import BootstrapInference\n",
    "plt.rcParams['figure.figsize'] = [15, 10]\n",
    "plt.style.use(\"default\")\n",
    "from sklearn.linear_model import LinearRegression"
   ]
  },
  {
   "cell_type": "markdown",
   "id": "outer-place",
   "metadata": {},
   "source": [
    "## We generate the data and create custom relationship between the label and collected annotation\n",
    "# In this case we create the following equations- \n",
    "*** \n",
    "$ bed=p^k(1-p)^k $ <br>\n",
    "\n",
    "$black = bed * \\mathcal{N}(0.5,0.1) +\\xi $<br>\n",
    "\n",
    "$shape = bed * \\mathcal{N}(0.5,0.1) + \\xi$\n",
    "\n",
    "$y = \\beta_1*bed + \\beta_2*shape + \\beta_3*color +\\xi$\n",
    "***"
   ]
  },
  {
   "cell_type": "code",
   "execution_count": null,
   "id": "congressional-savings",
   "metadata": {},
   "outputs": [],
   "source": [
    "plt.style.use(\"default\")\n",
    "plt.rcParams['figure.figsize'] = [15, 10]\n",
    "model.view_model()"
   ]
  },
  {
   "cell_type": "code",
   "execution_count": 2,
   "id": "objective-volunteer",
   "metadata": {},
   "outputs": [],
   "source": [
    "def generate_data(binarize=False):\n",
    "    np.random.seed(1223)\n",
    "    sample_size = 50\n",
    "    beta1=3\n",
    "    beta2=1.5\n",
    "    beta3=5\n",
    "    # beta4 = 1.3\n",
    "    alpha1=0.01\n",
    "    alpha2=0.02\n",
    "    alpha3=0.005\n",
    "    #binary values for bed 0 - absent, 1 - present\n",
    "    bed = np.random.choice([0, 1], size=(sample_size,))\n",
    "    # binary values for shape 0 - absent, 1 - present\n",
    "    rect = bed * np.random.choice([0, 1], size=(sample_size,)) + np.random.normal(0.5,0.1,size=sample_size)\n",
    "    # binary values for shape 0 - absent, 1 - present\n",
    "    black = bed * np.random.uniform(0, 1, sample_size) + np.random.normal(0.5,0.1,size=sample_size)\n",
    "    # mean of all pixel values with a high weightage of  error to account for other parameters\n",
    "    # img_mean = alpha1 * bed + alpha2 * rect + alpha3 * black +  3 * np.random.normal(0.5,0.1,size=sample_size)\n",
    "    y = beta1 * bed + beta2 * rect + beta3 * black + np.random.normal(0.5,0.1,size=sample_size)\n",
    "    # y = np.maximum(y, 0)\n",
    "    # y = [sigmoid(x) for x in y]\n",
    "    df = pd.DataFrame({'obj_bed':bed,'color_black':black, 'shape_rectangle':rect, 'label_bedroom':y})\n",
    "    if binarize:\n",
    "        df['label_bedroom'] = (df['label_bedroom'] < df['label_bedroom'].mean() ).astype(int)\n",
    "    return df"
   ]
  },
  {
   "cell_type": "code",
   "execution_count": 3,
   "id": "fitting-shaft",
   "metadata": {},
   "outputs": [],
   "source": [
    "df = generate_data(binarize=False)"
   ]
  },
  {
   "cell_type": "code",
   "execution_count": 4,
   "id": "removable-deadline",
   "metadata": {},
   "outputs": [
    {
     "data": {
      "text/html": [
       "<div>\n",
       "<style scoped>\n",
       "    .dataframe tbody tr th:only-of-type {\n",
       "        vertical-align: middle;\n",
       "    }\n",
       "\n",
       "    .dataframe tbody tr th {\n",
       "        vertical-align: top;\n",
       "    }\n",
       "\n",
       "    .dataframe thead th {\n",
       "        text-align: right;\n",
       "    }\n",
       "</style>\n",
       "<table border=\"1\" class=\"dataframe\">\n",
       "  <thead>\n",
       "    <tr style=\"text-align: right;\">\n",
       "      <th></th>\n",
       "      <th>obj_bed</th>\n",
       "      <th>color_black</th>\n",
       "      <th>shape_rectangle</th>\n",
       "      <th>label_bedroom</th>\n",
       "    </tr>\n",
       "  </thead>\n",
       "  <tbody>\n",
       "    <tr>\n",
       "      <th>count</th>\n",
       "      <td>50.000000</td>\n",
       "      <td>50.000000</td>\n",
       "      <td>50.000000</td>\n",
       "      <td>50.000000</td>\n",
       "    </tr>\n",
       "    <tr>\n",
       "      <th>mean</th>\n",
       "      <td>0.500000</td>\n",
       "      <td>0.763972</td>\n",
       "      <td>0.792365</td>\n",
       "      <td>7.008801</td>\n",
       "    </tr>\n",
       "    <tr>\n",
       "      <th>std</th>\n",
       "      <td>0.505076</td>\n",
       "      <td>0.341555</td>\n",
       "      <td>0.462353</td>\n",
       "      <td>3.463681</td>\n",
       "    </tr>\n",
       "    <tr>\n",
       "      <th>min</th>\n",
       "      <td>0.000000</td>\n",
       "      <td>0.378658</td>\n",
       "      <td>0.265815</td>\n",
       "      <td>3.116309</td>\n",
       "    </tr>\n",
       "    <tr>\n",
       "      <th>25%</th>\n",
       "      <td>0.000000</td>\n",
       "      <td>0.499547</td>\n",
       "      <td>0.470658</td>\n",
       "      <td>3.819654</td>\n",
       "    </tr>\n",
       "    <tr>\n",
       "      <th>50%</th>\n",
       "      <td>0.500000</td>\n",
       "      <td>0.624463</td>\n",
       "      <td>0.553981</td>\n",
       "      <td>5.540178</td>\n",
       "    </tr>\n",
       "    <tr>\n",
       "      <th>75%</th>\n",
       "      <td>1.000000</td>\n",
       "      <td>0.988758</td>\n",
       "      <td>1.392142</td>\n",
       "      <td>10.252892</td>\n",
       "    </tr>\n",
       "    <tr>\n",
       "      <th>max</th>\n",
       "      <td>1.000000</td>\n",
       "      <td>1.758368</td>\n",
       "      <td>1.603324</td>\n",
       "      <td>14.559708</td>\n",
       "    </tr>\n",
       "  </tbody>\n",
       "</table>\n",
       "</div>"
      ],
      "text/plain": [
       "         obj_bed  color_black  shape_rectangle  label_bedroom\n",
       "count  50.000000    50.000000        50.000000      50.000000\n",
       "mean    0.500000     0.763972         0.792365       7.008801\n",
       "std     0.505076     0.341555         0.462353       3.463681\n",
       "min     0.000000     0.378658         0.265815       3.116309\n",
       "25%     0.000000     0.499547         0.470658       3.819654\n",
       "50%     0.500000     0.624463         0.553981       5.540178\n",
       "75%     1.000000     0.988758         1.392142      10.252892\n",
       "max     1.000000     1.758368         1.603324      14.559708"
      ]
     },
     "execution_count": 4,
     "metadata": {},
     "output_type": "execute_result"
    }
   ],
   "source": [
    "df.describe()"
   ]
  },
  {
   "cell_type": "markdown",
   "id": "therapeutic-finger",
   "metadata": {},
   "source": [
    "## What happens when you try to conclude from annotated data"
   ]
  },
  {
   "cell_type": "code",
   "execution_count": 84,
   "id": "executive-mountain",
   "metadata": {},
   "outputs": [],
   "source": [
    "def estimate_causal_effect(Xt, y, model=LinearRegression(), treatment_idx=0, regression_coef=False):\n",
    "    model.fit(Xt, y)\n",
    "    if regression_coef:\n",
    "        return model.coef_[treatment_idx]\n",
    "    else:\n",
    "        Xt1 = pd.DataFrame.copy(Xt)\n",
    "        Xt1[Xt.columns[treatment_idx]] = 1 #set all values of treatment variable to 1\n",
    "        Xt0 = pd.DataFrame.copy(Xt)\n",
    "        Xt0[Xt.columns[treatment_idx]] = 0 #set all values of treatment variable to 0\n",
    "        return (model.predict(Xt1) - model.predict(Xt0)).mean()\n"
   ]
  },
  {
   "cell_type": "markdown",
   "id": "dramatic-disability",
   "metadata": {},
   "source": [
    "# The above function will be replaced by Anitej's method. The interventions (i.e replacing treatment variable with 1 or 0 will be done by generating images with or without the concept.\n",
    "***\n",
    "For example - \n",
    "\n",
    "1) We capture all annotations. Then we identify a single concept as treatment variable (our point of interest - could be that we want to establish the causal impact of the concept bed then we will treat the bed concept as a treatment variable). \n",
    "\n",
    "2) Then we keep the confounders same/similar (so color, shape etc and then remove the bed! we generate bunch of images without bed (do(bed) = 0) and with bed (do(bed) = 1) and capture the output of the model. Subtract the model predictions Y|do(bed=1) - Y|do(bed=0)\n",
    "\n",
    "\n",
    "3) Now we do repeat it for other concepts, since we work on the assumption that everything is a confounder, given the nature of our study we can safely condition on all the variables (no collider bias)"
   ]
  },
  {
   "cell_type": "markdown",
   "id": "desirable-pollution",
   "metadata": {},
   "source": [
    "## You see the bed as an annotation and conclude that bed causes the label bedroom"
   ]
  },
  {
   "cell_type": "code",
   "execution_count": 127,
   "id": "attached-nepal",
   "metadata": {},
   "outputs": [
    {
     "name": "stdout",
     "output_type": "stream",
     "text": [
      "original estimation=3, predicted estimation=6.3638380600145945\n"
     ]
    }
   ],
   "source": [
    "ate_est_naive = estimate_causal_effect(df[['obj_bed']], df['label_bedroom'], treatment_idx=0,\n",
    "                                           regression_coef=False)\n",
    "print('original estimation=3, predicted estimation='+str(ate_est_naive))"
   ]
  },
  {
   "cell_type": "markdown",
   "id": "julian-attitude",
   "metadata": {},
   "source": [
    "## You see the bed as an annotation and conclude that color causes the label bedroom"
   ]
  },
  {
   "cell_type": "code",
   "execution_count": 131,
   "id": "humanitarian-instruction",
   "metadata": {},
   "outputs": [
    {
     "name": "stdout",
     "output_type": "stream",
     "text": [
      "original estimation=1.5, predicted estimation=9.193332749253038\n"
     ]
    }
   ],
   "source": [
    "ate_est_naive = estimate_causal_effect(df[['color_black']], df['label_bedroom'], treatment_idx=0,\n",
    "                                           regression_coef=True)\n",
    "print('original estimation=1.5, predicted estimation='+str(ate_est_naive))"
   ]
  },
  {
   "cell_type": "markdown",
   "id": "spread-greek",
   "metadata": {},
   "source": [
    "## You see the bed as an annotation and conclude that shape causes the label bedroom"
   ]
  },
  {
   "cell_type": "code",
   "execution_count": 135,
   "id": "furnished-allocation",
   "metadata": {},
   "outputs": [
    {
     "name": "stdout",
     "output_type": "stream",
     "text": [
      "original estimation=5, predicted estimation=5.375885275977536\n"
     ]
    }
   ],
   "source": [
    "ate_est_naive = estimate_causal_effect(df[['shape_rectangle']], df['label_bedroom'], treatment_idx=0,\n",
    "                                           regression_coef=True)\n",
    "print('original estimation=5, predicted estimation='+str(ate_est_naive))"
   ]
  },
  {
   "cell_type": "markdown",
   "id": "charged-preparation",
   "metadata": {},
   "source": [
    "## Actual contribution of shape(1.5) when considering for all the confounders"
   ]
  },
  {
   "cell_type": "code",
   "execution_count": 134,
   "id": "domestic-population",
   "metadata": {},
   "outputs": [
    {
     "name": "stdout",
     "output_type": "stream",
     "text": [
      "original estimation=1.5, predicted estimation=1.524893983779829\n"
     ]
    }
   ],
   "source": [
    "ate_est_naive = estimate_causal_effect(df[['color_black','shape_rectangle','obj_bed']], df['label_bedroom'], treatment_idx=1,\n",
    "                                           regression_coef=True)\n",
    "print('original estimation=1.5, predicted estimation='+str(ate_est_naive))"
   ]
  }
 ],
 "metadata": {
  "kernelspec": {
   "display_name": "Python 3",
   "language": "python",
   "name": "python3"
  },
  "language_info": {
   "codemirror_mode": {
    "name": "ipython",
    "version": 3
   },
   "file_extension": ".py",
   "mimetype": "text/x-python",
   "name": "python",
   "nbconvert_exporter": "python",
   "pygments_lexer": "ipython3",
   "version": "3.8.10"
  }
 },
 "nbformat": 4,
 "nbformat_minor": 5
}
