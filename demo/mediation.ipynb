{
 "cells": [
  {
   "cell_type": "code",
   "execution_count": 4,
   "id": "acoustic-society",
   "metadata": {},
   "outputs": [],
   "source": [
    "import numpy as np\n",
    "import pandas as pd\n",
    "\n",
    "from dowhy import CausalModel\n",
    "import dowhy.datasets\n",
    "from sklearn.linear_model import LinearRegression\n",
    "# Warnings and logging\n",
    "import warnings\n",
    "import statsmodels.api as sm\n",
    "from scipy import stats\n",
    "import networkx as nx\n",
    "import matplotlib.pyplot as plt\n",
    "warnings.filterwarnings('ignore')\n",
    "import dowhy.causal_estimators.linear_regression_estimator\n"
   ]
  },
  {
   "cell_type": "markdown",
   "id": "characteristic-calvin",
   "metadata": {},
   "source": [
    "## Mediation data generation\n",
    "Equations are as following:\n",
    "***\n",
    "$ bed=p^k(1-p)^k $ <br>\n",
    "\n",
    "$black = bed * \\mathcal{N}(0.5,0.1) +\\xi $<br>\n",
    "\n",
    "$shape = bed * \\mathcal{N}(0.5,0.1) + \\xi$\n",
    "\n",
    "$color = bed * \\mathcal{N}(0.5,0.1) + 0.5 * shape * \\mathcal{N}(0.5,0.1) + \\xi$\n",
    "\n",
    "$y = \\beta_1*bed + \\beta_2*shape + \\beta_3*color +\\xi$\n",
    "\n",
    "we set the value of $\\beta_2$ to 0"
   ]
  },
  {
   "cell_type": "code",
   "execution_count": 6,
   "id": "sonic-mother",
   "metadata": {},
   "outputs": [],
   "source": [
    "def generate_data(binarize=False):\n",
    "    np.random.seed(1223)\n",
    "    sample_size = 50\n",
    "    beta1=3\n",
    "    beta2=1.5\n",
    "    beta3=5\n",
    "    # beta4 = 1.3\n",
    "    alpha1=0.01\n",
    "    alpha2=0.02\n",
    "    alpha3=0.005\n",
    "    #binary values for bed 0 - absent, 1 - present\n",
    "    bed = np.random.choice([0, 1], size=(sample_size,))\n",
    "    # binary values for shape 0 - absent, 1 - present\n",
    "    rect = bed * np.random.choice([0, 1], size=(sample_size,)) + np.random.normal(0.5,0.1,size=sample_size)\n",
    "    # binary values for shape 0 - absent, 1 - present\n",
    "    black = bed * np.random.uniform(0, 1, sample_size) + 0.5 * rect * np.random.uniform(0, 1, sample_size) +np.random.normal(0.5,0.1,size=sample_size)\n",
    "    # mean of all pixel values with a high weightage of  error to account for other parameters\n",
    "    # img_mean = alpha1 * bed + alpha2 * rect + alpha3 * black +  3 * np.random.normal(0.5,0.1,size=sample_size)\n",
    "    y = beta1 * bed + beta3 * black + np.random.normal(0.5,0.1,size=sample_size)\n",
    "    # y = np.maximum(y, 0)\n",
    "    # y = [sigmoid(x) for x in y]\n",
    "    df = pd.DataFrame({'obj_bed':bed,'color_black':black, 'shape_rectangle':rect, 'label_bedroom':y})\n",
    "    if binarize:\n",
    "        df['label_bedroom'] = (df['label_bedroom'] < df['label_bedroom'].mean() ).astype(int)\n",
    "    return df"
   ]
  },
  {
   "cell_type": "code",
   "execution_count": 8,
   "id": "forty-bikini",
   "metadata": {},
   "outputs": [],
   "source": [
    "df = generate_data()"
   ]
  },
  {
   "cell_type": "code",
   "execution_count": 9,
   "id": "fuzzy-feature",
   "metadata": {},
   "outputs": [],
   "source": [
    "graph = nx.DiGraph()\n",
    "obj = df.columns[0]\n",
    "color = df.columns[1]\n",
    "shape = df.columns[2]\n",
    "# img_mean = df.columns[3]\n",
    "# img_std = df.columns[4]\n",
    "label = df.columns[3]\n",
    "graph.add_edge(obj,color)\n",
    "graph.add_edge(color,label)\n",
    "graph.add_edge(obj,shape)\n",
    "graph.add_edge(shape,color)\n",
    "graph.add_edge(obj,label)\n",
    "# graph.add_edge(obj,img_mean)\n",
    "# graph.add_edge(obj,img_std)\n",
    "# graph.add_edge(color,img_mean)\n",
    "# graph.add_edge(color,img_std)\n",
    "# graph.add_edge(shape,img_mean)\n",
    "# graph.add_edge(shape,img_std)\n",
    "# graph.add_edge(shape,img_std)\n",
    "# graph.add_edge(img_mean,label)\n",
    "# graph.add_edge(img_std,label)\n",
    "nx.write_gml(graph, \"test.gml\")"
   ]
  },
  {
   "cell_type": "code",
   "execution_count": 10,
   "id": "expensive-saying",
   "metadata": {},
   "outputs": [],
   "source": [
    "model = CausalModel(df,\n",
    "                    'shape_rectangle','label_bedroom',\n",
    "                    'test.gml',\n",
    "                   missing_nodes_as_confounders=True)"
   ]
  },
  {
   "cell_type": "code",
   "execution_count": 11,
   "id": "specific-construction",
   "metadata": {},
   "outputs": [
    {
     "data": {
      "image/png": "[encoded data removed]",
      "text/plain": [
       "<Figure size 640x480 with 1 Axes>"
      ]
     },
     "metadata": {},
     "output_type": "display_data"
    }
   ],
   "source": [
    "plt.style.use('default')\n",
    "model.view_model()"
   ]
  },
  {
   "cell_type": "code",
   "execution_count": 12,
   "id": "streaming-cabinet",
   "metadata": {},
   "outputs": [
    {
     "name": "stdout",
     "output_type": "stream",
     "text": [
      "Estimand type: nonparametric-nde\n",
      "\n",
      "### Estimand : 1\n",
      "Estimand name: mediation\n",
      "Estimand expression:\n",
      "Expectation(Derivative(label_bedroom|color_black, [shape_rectangle]))\n",
      "Estimand assumption 1, Mediation: color_black intercepts (blocks) all directed paths from shape_rectangle to l,a,b,e,l,_,b,e,d,r,o,o,m except the path {shape_rectangle}→{l,a,b,e,l,_,b,e,d,r,o,o,m}.\n",
      "Estimand assumption 2, First-stage-unconfoundedness: If U→{shape_rectangle} and U→{color_black} then P(color_black|shape_rectangle,U) = P(color_black|shape_rectangle)\n",
      "Estimand assumption 3, Second-stage-unconfoundedness: If U→{color_black} and U→label_bedroom then P(label_bedroom|color_black, shape_rectangle, U) = P(label_bedroom|color_black, shape_rectangle)\n",
      "\n"
     ]
    }
   ],
   "source": [
    "identified_estimand_nde = model.identify_effect(estimand_type=\"nonparametric-nde\",\n",
    "                                            proceed_when_unidentifiable=True)\n",
    "print(identified_estimand_nde)"
   ]
  },
  {
   "cell_type": "code",
   "execution_count": 13,
   "id": "congressional-nature",
   "metadata": {},
   "outputs": [
    {
     "name": "stdout",
     "output_type": "stream",
     "text": [
      "Estimand type: nonparametric-nie\n",
      "\n",
      "### Estimand : 1\n",
      "Estimand name: mediation\n",
      "Estimand expression:\n",
      "Expectation(Derivative(label_bedroom, [color_black])*Derivative([color_black],\n",
      " [shape_rectangle]))\n",
      "Estimand assumption 1, Mediation: color_black intercepts (blocks) all directed paths from shape_rectangle to l,a,b,e,l,_,b,e,d,r,o,o,m except the path {shape_rectangle}→{l,a,b,e,l,_,b,e,d,r,o,o,m}.\n",
      "Estimand assumption 2, First-stage-unconfoundedness: If U→{shape_rectangle} and U→{color_black} then P(color_black|shape_rectangle,U) = P(color_black|shape_rectangle)\n",
      "Estimand assumption 3, Second-stage-unconfoundedness: If U→{color_black} and U→label_bedroom then P(label_bedroom|color_black, shape_rectangle, U) = P(label_bedroom|color_black, shape_rectangle)\n",
      "\n"
     ]
    }
   ],
   "source": [
    "identified_estimand_nie = model.identify_effect(estimand_type=\"nonparametric-nie\",\n",
    "                                            proceed_when_unidentifiable=True)\n",
    "print(identified_estimand_nie)"
   ]
  },
  {
   "cell_type": "markdown",
   "id": "opened-cream",
   "metadata": {},
   "source": [
    "## Mediation Analysis\n",
    "Once we have collected the data from running experiments with interventional set ups. We will have a lot of obervational data which is tabular in nature. Remember our design of crowd computing task promotes a mediation. So when you select an object you must select the color, when you select a shape you select color and so on. So it could be that while performing these i\n",
    "\n",
    "We first consider two things, \n",
    "natural direct effect - effect of shape on the output given the color black = 0\n",
    "natural indirect effect - effect of color on the output given shape = 0\n",
    "So generally what it means is:\n",
    "\n",
    "given, \n",
    "$\\mathbb{E}[Y_{t,m}] = \\mathbb{E}[Y | do(shape=t, M=m)]$\n",
    "\n",
    "$\\mathbb{E}[M_t] = \\mathbb{E}[M | do(shape=t)] $\n",
    "\n",
    "NDE = $\\mathbb{E}[Y_{1,M_0} - Y_{0,M_0}]$\n",
    "\n",
    "\n",
    "NIE = $\\mathbb{E}[Y_{0,M_1} - Y_{0,M_0}]$"
   ]
  },
  {
   "cell_type": "markdown",
   "id": "historic-appearance",
   "metadata": {},
   "source": [
    "## calculating the direct effect"
   ]
  },
  {
   "cell_type": "code",
   "execution_count": 26,
   "id": "persistent-updating",
   "metadata": {},
   "outputs": [
    {
     "name": "stdout",
     "output_type": "stream",
     "text": [
      "*** Causal Estimate ***\n",
      "\n",
      "## Identified estimand\n",
      "Estimand type: nonparametric-nde\n",
      "\n",
      "### Estimand : 1\n",
      "Estimand name: mediation\n",
      "Estimand expression:\n",
      "Expectation(Derivative(label_bedroom|color_black, [shape_rectangle]))\n",
      "Estimand assumption 1, Mediation: color_black intercepts (blocks) all directed paths from shape_rectangle to l,a,b,e,l,_,b,e,d,r,o,o,m except the path {shape_rectangle}→{l,a,b,e,l,_,b,e,d,r,o,o,m}.\n",
      "Estimand assumption 2, First-stage-unconfoundedness: If U→{shape_rectangle} and U→{color_black} then P(color_black|shape_rectangle,U) = P(color_black|shape_rectangle)\n",
      "Estimand assumption 3, Second-stage-unconfoundedness: If U→{color_black} and U→label_bedroom then P(label_bedroom|color_black, shape_rectangle, U) = P(label_bedroom|color_black, shape_rectangle)\n",
      "\n",
      "## Realized estimand\n",
      "(b: label_bedroom~shape_rectangle+obj_bed) - ((b: color_black~shape_rectangle+obj_bed)*(b: label_bedroom~color_black+obj_bed+shape_rectangle))\n",
      "Target units: ate\n",
      "\n",
      "## Estimate\n",
      "Mean value: 0.05198459390120047\n",
      "\n"
     ]
    }
   ],
   "source": [
    "causal_estimate_nde = model.estimate_effect(identified_estimand_nde,\n",
    "                                        method_name=\"mediation.two_stage_regression\",\n",
    "                                       confidence_intervals=False,\n",
    "                                       test_significance=False,\n",
    "                                        method_params = {\n",
    "                                            'first_stage_model': dowhy.causal_estimators.linear_regression_estimator.LinearRegressionEstimator,\n",
    "                                            'second_stage_model': dowhy.causal_estimators.linear_regression_estimator.LinearRegressionEstimator\n",
    "                                        }\n",
    "                                       )\n",
    "print(causal_estimate_nde)"
   ]
  },
  {
   "cell_type": "markdown",
   "id": "chicken-paris",
   "metadata": {},
   "source": [
    "## calculating the direct effect "
   ]
  },
  {
   "cell_type": "code",
   "execution_count": 27,
   "id": "radio-album",
   "metadata": {},
   "outputs": [
    {
     "name": "stdout",
     "output_type": "stream",
     "text": [
      "*** Causal Estimate ***\n",
      "\n",
      "## Identified estimand\n",
      "Estimand type: nonparametric-nie\n",
      "\n",
      "### Estimand : 1\n",
      "Estimand name: mediation\n",
      "Estimand expression:\n",
      "Expectation(Derivative(label_bedroom, [color_black])*Derivative([color_black],\n",
      " [shape_rectangle]))\n",
      "Estimand assumption 1, Mediation: color_black intercepts (blocks) all directed paths from shape_rectangle to l,a,b,e,l,_,b,e,d,r,o,o,m except the path {shape_rectangle}→{l,a,b,e,l,_,b,e,d,r,o,o,m}.\n",
      "Estimand assumption 2, First-stage-unconfoundedness: If U→{shape_rectangle} and U→{color_black} then P(color_black|shape_rectangle,U) = P(color_black|shape_rectangle)\n",
      "Estimand assumption 3, Second-stage-unconfoundedness: If U→{color_black} and U→label_bedroom then P(label_bedroom|color_black, shape_rectangle, U) = P(label_bedroom|color_black, shape_rectangle)\n",
      "\n",
      "## Realized estimand\n",
      "(b: color_black~shape_rectangle+obj_bed)*(b: label_bedroom~color_black+obj_bed+shape_rectangle)\n",
      "Target units: ate\n",
      "\n",
      "## Estimate\n",
      "Mean value: 1.3571111054864253\n",
      "\n"
     ]
    }
   ],
   "source": [
    "causal_estimate_nie = model.estimate_effect(identified_estimand_nie,\n",
    "                                        method_name=\"mediation.two_stage_regression\",\n",
    "                                       confidence_intervals=False,\n",
    "                                       test_significance=False,\n",
    "                                        method_params = {\n",
    "                                            'first_stage_model': dowhy.causal_estimators.linear_regression_estimator.LinearRegressionEstimator,\n",
    "                                            'second_stage_model': dowhy.causal_estimators.linear_regression_estimator.LinearRegressionEstimator\n",
    "                                        }\n",
    "                                       )\n",
    "print(causal_estimate_nie)"
   ]
  }
 ],
 "metadata": {
  "kernelspec": {
   "display_name": "Python 3",
   "language": "python",
   "name": "python3"
  },
  "language_info": {
   "codemirror_mode": {
    "name": "ipython",
    "version": 3
   },
   "file_extension": ".py",
   "mimetype": "text/x-python",
   "name": "python",
   "nbconvert_exporter": "python",
   "pygments_lexer": "ipython3",
   "version": "3.8.10"
  }
 },
 "nbformat": 4,
 "nbformat_minor": 5
}
