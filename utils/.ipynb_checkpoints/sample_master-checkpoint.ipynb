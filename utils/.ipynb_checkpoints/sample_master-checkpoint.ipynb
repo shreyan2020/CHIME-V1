{
 "cells": [
  {
   "cell_type": "code",
   "execution_count": 1,
   "id": "3156ea7b-c17f-46c5-8d16-92118d659191",
   "metadata": {},
   "outputs": [],
   "source": [
    "import itertools\n",
    "from itertools import permutations\n",
    "import pandas as pd\n",
    "import sqlite3\n",
    "import numpy as np\n",
    "import itertools"
   ]
  },
  {
   "cell_type": "code",
   "execution_count": 14,
   "id": "c71cd0f7-49e6-4bc0-9a8f-0e23aa80d007",
   "metadata": {},
   "outputs": [],
   "source": [
    "annotation_path = '../code/services/db.sqlite3'\n",
    "conn = sqlite3.connect(annotation_path)"
   ]
  },
  {
   "cell_type": "code",
   "execution_count": 15,
   "id": "6d646e4f-6452-4469-8e2f-777e2a80cce9",
   "metadata": {},
   "outputs": [],
   "source": [
    "df = pd.read_sql('select * from apiservice_Images', conn)"
   ]
  },
  {
   "cell_type": "code",
   "execution_count": 12,
   "id": "417034b5-7a4e-4991-aa1b-362f6a33bad5",
   "metadata": {},
   "outputs": [
    {
     "data": {
      "text/html": [
       "<div>\n",
       "<style scoped>\n",
       "    .dataframe tbody tr th:only-of-type {\n",
       "        vertical-align: middle;\n",
       "    }\n",
       "\n",
       "    .dataframe tbody tr th {\n",
       "        vertical-align: top;\n",
       "    }\n",
       "\n",
       "    .dataframe thead th {\n",
       "        text-align: right;\n",
       "    }\n",
       "</style>\n",
       "<table border=\"1\" class=\"dataframe\">\n",
       "  <thead>\n",
       "    <tr style=\"text-align: right;\">\n",
       "      <th></th>\n",
       "      <th>Id</th>\n",
       "      <th>Pred1Label</th>\n",
       "      <th>Pred1Score</th>\n",
       "      <th>Pred2Label</th>\n",
       "      <th>Pred2Score</th>\n",
       "      <th>Pred3Label</th>\n",
       "      <th>Pred3Score</th>\n",
       "      <th>Status</th>\n",
       "      <th>ImageName</th>\n",
       "      <th>ModelName</th>\n",
       "    </tr>\n",
       "  </thead>\n",
       "  <tbody>\n",
       "    <tr>\n",
       "      <th>0</th>\n",
       "      <td>79</td>\n",
       "      <td>TEA_SPOON</td>\n",
       "      <td>0.788551</td>\n",
       "      <td>FISH_SLICE</td>\n",
       "      <td>0.107578</td>\n",
       "      <td>DINNER_FORK_KNIFE</td>\n",
       "      <td>0.103870</td>\n",
       "      <td>0</td>\n",
       "      <td>dinnerkniferaw25.jpg</td>\n",
       "      <td>inception_utensil_color_bias</td>\n",
       "    </tr>\n",
       "    <tr>\n",
       "      <th>1</th>\n",
       "      <td>80</td>\n",
       "      <td>TEA_SPOON</td>\n",
       "      <td>0.882453</td>\n",
       "      <td>DINNER_FORK_KNIFE</td>\n",
       "      <td>0.090764</td>\n",
       "      <td>FISH_SLICE</td>\n",
       "      <td>0.026784</td>\n",
       "      <td>0</td>\n",
       "      <td>teaspoonraw18.JPG</td>\n",
       "      <td>inception_utensil_color_bias</td>\n",
       "    </tr>\n",
       "    <tr>\n",
       "      <th>2</th>\n",
       "      <td>81</td>\n",
       "      <td>TEA_SPOON</td>\n",
       "      <td>0.867195</td>\n",
       "      <td>DINNER_FORK_KNIFE</td>\n",
       "      <td>0.081930</td>\n",
       "      <td>FISH_SLICE</td>\n",
       "      <td>0.050875</td>\n",
       "      <td>0</td>\n",
       "      <td>dinnerkniferaw30.jpg</td>\n",
       "      <td>inception_utensil_color_bias</td>\n",
       "    </tr>\n",
       "    <tr>\n",
       "      <th>3</th>\n",
       "      <td>82</td>\n",
       "      <td>TEA_SPOON</td>\n",
       "      <td>0.733170</td>\n",
       "      <td>FISH_SLICE</td>\n",
       "      <td>0.244639</td>\n",
       "      <td>DINNER_FORK_KNIFE</td>\n",
       "      <td>0.022190</td>\n",
       "      <td>0</td>\n",
       "      <td>teaspoonraw84.JPG</td>\n",
       "      <td>inception_utensil_color_bias</td>\n",
       "    </tr>\n",
       "    <tr>\n",
       "      <th>4</th>\n",
       "      <td>83</td>\n",
       "      <td>TEA_SPOON</td>\n",
       "      <td>0.982906</td>\n",
       "      <td>FISH_SLICE</td>\n",
       "      <td>0.011912</td>\n",
       "      <td>DINNER_FORK_KNIFE</td>\n",
       "      <td>0.005182</td>\n",
       "      <td>0</td>\n",
       "      <td>teaspoonraw45.JPG</td>\n",
       "      <td>inception_utensil_color_bias</td>\n",
       "    </tr>\n",
       "  </tbody>\n",
       "</table>\n",
       "</div>"
      ],
      "text/plain": [
       "   Id Pred1Label  Pred1Score         Pred2Label  Pred2Score  \\\n",
       "0  79  TEA_SPOON    0.788551         FISH_SLICE    0.107578   \n",
       "1  80  TEA_SPOON    0.882453  DINNER_FORK_KNIFE    0.090764   \n",
       "2  81  TEA_SPOON    0.867195  DINNER_FORK_KNIFE    0.081930   \n",
       "3  82  TEA_SPOON    0.733170         FISH_SLICE    0.244639   \n",
       "4  83  TEA_SPOON    0.982906         FISH_SLICE    0.011912   \n",
       "\n",
       "          Pred3Label  Pred3Score  Status             ImageName  \\\n",
       "0  DINNER_FORK_KNIFE    0.103870       0  dinnerkniferaw25.jpg   \n",
       "1         FISH_SLICE    0.026784       0     teaspoonraw18.JPG   \n",
       "2         FISH_SLICE    0.050875       0  dinnerkniferaw30.jpg   \n",
       "3  DINNER_FORK_KNIFE    0.022190       0     teaspoonraw84.JPG   \n",
       "4  DINNER_FORK_KNIFE    0.005182       0     teaspoonraw45.JPG   \n",
       "\n",
       "                      ModelName  \n",
       "0  inception_utensil_color_bias  \n",
       "1  inception_utensil_color_bias  \n",
       "2  inception_utensil_color_bias  \n",
       "3  inception_utensil_color_bias  \n",
       "4  inception_utensil_color_bias  "
      ]
     },
     "execution_count": 12,
     "metadata": {},
     "output_type": "execute_result"
    }
   ],
   "source": [
    "df.head()"
   ]
  },
  {
   "cell_type": "code",
   "execution_count": 57,
   "id": "81a8f54d-6616-4824-aa8c-57eefaa00168",
   "metadata": {},
   "outputs": [],
   "source": [
    "pilot_batch = pd.read_sql('select id from apiservice_Images where iteration=1', conn)"
   ]
  },
  {
   "cell_type": "code",
   "execution_count": 58,
   "id": "f81e4d68-0a5b-49e1-b54a-4dfa8fd9e115",
   "metadata": {},
   "outputs": [],
   "source": [
    "pilot_batch.to_csv('pilot_batch.csv', index=False)"
   ]
  },
  {
   "cell_type": "code",
   "execution_count": 103,
   "id": "58c8dacf-c7d9-4938-a5f4-da7c6209f0df",
   "metadata": {},
   "outputs": [
    {
     "data": {
      "text/plain": [
       "inception_utensil_color_bias     228\n",
       "inception_utensil_shape_bias     228\n",
       "squeezenet_utensil_both_bias     228\n",
       "squeezenet_utensil_color_bias    227\n",
       "inception_utensil_both_bias      227\n",
       "squeezenet_utensil_shape_bias    227\n",
       "inception_imageneta_bias         204\n",
       "squeezenet_imageneta_bias        203\n",
       "Name: ModelName, dtype: int64"
      ]
     },
     "execution_count": 103,
     "metadata": {},
     "output_type": "execute_result"
    }
   ],
   "source": [
    "df['ModelName'].value_counts()"
   ]
  },
  {
   "cell_type": "code",
   "execution_count": 105,
   "id": "44b9e74f-8932-42d4-aa8f-e24387e0207d",
   "metadata": {},
   "outputs": [],
   "source": [
    "df.to_csv('remaining.csv',index=False)"
   ]
  },
  {
   "cell_type": "code",
   "execution_count": 91,
   "id": "0f7eb9bd-0299-418a-9ed3-d71ce5dfe4d8",
   "metadata": {},
   "outputs": [],
   "source": [
    "samples = df.groupby('ModelName').sample(frac=.05, replace=False, random_state=1).copy()"
   ]
  },
  {
   "cell_type": "code",
   "execution_count": 20,
   "id": "c428c14b-b25d-464d-b0e3-0e2f75cb22a6",
   "metadata": {},
   "outputs": [
    {
     "data": {
      "text/plain": [
       "Id            116\n",
       "Pred1Label    116\n",
       "Pred1Score    116\n",
       "Pred2Label    116\n",
       "Pred2Score    116\n",
       "Pred3Label    116\n",
       "Pred3Score    116\n",
       "Status        116\n",
       "ImageName     116\n",
       "dtype: int64"
      ]
     },
     "execution_count": 20,
     "metadata": {},
     "output_type": "execute_result"
    }
   ],
   "source": [
    "samples.groupby('ModelName').count().sum()"
   ]
  },
  {
   "cell_type": "code",
   "execution_count": 92,
   "id": "7600d9af-94ab-4169-b9ea-5f4e7a948c96",
   "metadata": {},
   "outputs": [
    {
     "data": {
      "text/plain": [
       "94"
      ]
     },
     "execution_count": 92,
     "metadata": {},
     "output_type": "execute_result"
    }
   ],
   "source": [
    "len(samples)"
   ]
  },
  {
   "cell_type": "code",
   "execution_count": 66,
   "id": "975b164c-153e-485b-8671-4493571b9206",
   "metadata": {},
   "outputs": [
    {
     "data": {
      "text/plain": [
       "66.0"
      ]
     },
     "execution_count": 66,
     "metadata": {},
     "output_type": "execute_result"
    }
   ],
   "source": [
    "330/5"
   ]
  },
  {
   "cell_type": "code",
   "execution_count": 102,
   "id": "198ced0f-f061-4930-b7e1-1ba2466a0a54",
   "metadata": {},
   "outputs": [
    {
     "data": {
      "text/plain": [
       "19.0"
      ]
     },
     "execution_count": 102,
     "metadata": {},
     "output_type": "execute_result"
    }
   ],
   "source": [
    "95/5"
   ]
  },
  {
   "cell_type": "code",
   "execution_count": 93,
   "id": "91333986-529d-468f-9e56-ac85d2b38d6b",
   "metadata": {},
   "outputs": [],
   "source": [
    "df.drop(samples.index, inplace=True)"
   ]
  },
  {
   "cell_type": "code",
   "execution_count": 68,
   "id": "af8f8eae-0843-45df-9986-0a600919f305",
   "metadata": {},
   "outputs": [
    {
     "data": {
      "text/html": [
       "<div>\n",
       "<style scoped>\n",
       "    .dataframe tbody tr th:only-of-type {\n",
       "        vertical-align: middle;\n",
       "    }\n",
       "\n",
       "    .dataframe tbody tr th {\n",
       "        vertical-align: top;\n",
       "    }\n",
       "\n",
       "    .dataframe thead th {\n",
       "        text-align: right;\n",
       "    }\n",
       "</style>\n",
       "<table border=\"1\" class=\"dataframe\">\n",
       "  <thead>\n",
       "    <tr style=\"text-align: right;\">\n",
       "      <th></th>\n",
       "      <th>Id</th>\n",
       "      <th>Pred1Label</th>\n",
       "      <th>Pred1Score</th>\n",
       "      <th>Pred2Label</th>\n",
       "      <th>Pred2Score</th>\n",
       "      <th>Pred3Label</th>\n",
       "      <th>Pred3Score</th>\n",
       "      <th>Status</th>\n",
       "      <th>ImageName</th>\n",
       "      <th>ModelName</th>\n",
       "    </tr>\n",
       "  </thead>\n",
       "  <tbody>\n",
       "    <tr>\n",
       "      <th>960</th>\n",
       "      <td>1039</td>\n",
       "      <td>mantis</td>\n",
       "      <td>0.887277</td>\n",
       "      <td>ants</td>\n",
       "      <td>0.062809</td>\n",
       "      <td>bees</td>\n",
       "      <td>0.049914</td>\n",
       "      <td>0</td>\n",
       "      <td>0.000529_shovel _ shovel_0.69947743.jpg</td>\n",
       "      <td>inception_imageneta_bias</td>\n",
       "    </tr>\n",
       "    <tr>\n",
       "      <th>1156</th>\n",
       "      <td>1235</td>\n",
       "      <td>ants</td>\n",
       "      <td>0.674341</td>\n",
       "      <td>mantis</td>\n",
       "      <td>0.224610</td>\n",
       "      <td>bees</td>\n",
       "      <td>0.101050</td>\n",
       "      <td>0</td>\n",
       "      <td>0.000479_garbage truck _ garbage truck_0.87838...</td>\n",
       "      <td>inception_imageneta_bias</td>\n",
       "    </tr>\n",
       "    <tr>\n",
       "      <th>1115</th>\n",
       "      <td>1194</td>\n",
       "      <td>bees</td>\n",
       "      <td>0.951299</td>\n",
       "      <td>mantis</td>\n",
       "      <td>0.029142</td>\n",
       "      <td>ants</td>\n",
       "      <td>0.019559</td>\n",
       "      <td>0</td>\n",
       "      <td>0.000115_beaker _ beaker_0.70955336.jpg</td>\n",
       "      <td>inception_imageneta_bias</td>\n",
       "    </tr>\n",
       "    <tr>\n",
       "      <th>1147</th>\n",
       "      <td>1226</td>\n",
       "      <td>bees</td>\n",
       "      <td>0.925042</td>\n",
       "      <td>mantis</td>\n",
       "      <td>0.048518</td>\n",
       "      <td>ants</td>\n",
       "      <td>0.026439</td>\n",
       "      <td>0</td>\n",
       "      <td>0.000008_lighter _ lighter_0.96101415.jpg</td>\n",
       "      <td>inception_imageneta_bias</td>\n",
       "    </tr>\n",
       "    <tr>\n",
       "      <th>987</th>\n",
       "      <td>1066</td>\n",
       "      <td>bees</td>\n",
       "      <td>0.841898</td>\n",
       "      <td>mantis</td>\n",
       "      <td>0.113494</td>\n",
       "      <td>ants</td>\n",
       "      <td>0.044607</td>\n",
       "      <td>0</td>\n",
       "      <td>0.000071_duck _ duck_0.95757425.jpg</td>\n",
       "      <td>inception_imageneta_bias</td>\n",
       "    </tr>\n",
       "  </tbody>\n",
       "</table>\n",
       "</div>"
      ],
      "text/plain": [
       "        Id Pred1Label  Pred1Score Pred2Label  Pred2Score Pred3Label  \\\n",
       "960   1039     mantis    0.887277       ants    0.062809       bees   \n",
       "1156  1235       ants    0.674341     mantis    0.224610       bees   \n",
       "1115  1194       bees    0.951299     mantis    0.029142       ants   \n",
       "1147  1226       bees    0.925042     mantis    0.048518       ants   \n",
       "987   1066       bees    0.841898     mantis    0.113494       ants   \n",
       "\n",
       "      Pred3Score  Status                                          ImageName  \\\n",
       "960     0.049914       0            0.000529_shovel _ shovel_0.69947743.jpg   \n",
       "1156    0.101050       0  0.000479_garbage truck _ garbage truck_0.87838...   \n",
       "1115    0.019559       0            0.000115_beaker _ beaker_0.70955336.jpg   \n",
       "1147    0.026439       0          0.000008_lighter _ lighter_0.96101415.jpg   \n",
       "987     0.044607       0                0.000071_duck _ duck_0.95757425.jpg   \n",
       "\n",
       "                     ModelName  \n",
       "960   inception_imageneta_bias  \n",
       "1156  inception_imageneta_bias  \n",
       "1115  inception_imageneta_bias  \n",
       "1147  inception_imageneta_bias  \n",
       "987   inception_imageneta_bias  "
      ]
     },
     "execution_count": 68,
     "metadata": {},
     "output_type": "execute_result"
    }
   ],
   "source": [
    "samples.head()"
   ]
  },
  {
   "cell_type": "code",
   "execution_count": 94,
   "id": "be66b51e-bfc4-4e7b-aa02-cc2a4de2633e",
   "metadata": {},
   "outputs": [],
   "source": [
    "temp = df.sample(n=1, replace=False, random_state=1)"
   ]
  },
  {
   "cell_type": "code",
   "execution_count": 95,
   "id": "18c8acd8-b8c6-44d3-a699-2afb3757a393",
   "metadata": {},
   "outputs": [],
   "source": [
    "final = samples.append(temp)"
   ]
  },
  {
   "cell_type": "code",
   "execution_count": 106,
   "id": "8e9acc46-796f-4854-b782-0f012a97d5fd",
   "metadata": {},
   "outputs": [
    {
     "data": {
      "text/plain": [
       "95"
      ]
     },
     "execution_count": 106,
     "metadata": {},
     "output_type": "execute_result"
    }
   ],
   "source": [
    "len(final)"
   ]
  },
  {
   "cell_type": "code",
   "execution_count": 107,
   "id": "4aec783e-08c4-4ccb-965a-9005aaa137f4",
   "metadata": {},
   "outputs": [
    {
     "data": {
      "text/html": [
       "<div>\n",
       "<style scoped>\n",
       "    .dataframe tbody tr th:only-of-type {\n",
       "        vertical-align: middle;\n",
       "    }\n",
       "\n",
       "    .dataframe tbody tr th {\n",
       "        vertical-align: top;\n",
       "    }\n",
       "\n",
       "    .dataframe thead th {\n",
       "        text-align: right;\n",
       "    }\n",
       "</style>\n",
       "<table border=\"1\" class=\"dataframe\">\n",
       "  <thead>\n",
       "    <tr style=\"text-align: right;\">\n",
       "      <th></th>\n",
       "      <th>Id</th>\n",
       "      <th>Pred1Label</th>\n",
       "      <th>Pred1Score</th>\n",
       "      <th>Pred2Label</th>\n",
       "      <th>Pred2Score</th>\n",
       "      <th>Pred3Label</th>\n",
       "      <th>Pred3Score</th>\n",
       "      <th>Status</th>\n",
       "      <th>ImageName</th>\n",
       "      <th>ModelName</th>\n",
       "      <th>iteration</th>\n",
       "    </tr>\n",
       "  </thead>\n",
       "  <tbody>\n",
       "    <tr>\n",
       "      <th>1024</th>\n",
       "      <td>1103</td>\n",
       "      <td>mantis</td>\n",
       "      <td>0.678971</td>\n",
       "      <td>bees</td>\n",
       "      <td>0.277241</td>\n",
       "      <td>ants</td>\n",
       "      <td>0.043787</td>\n",
       "      <td>0</td>\n",
       "      <td>0.001768_reel _ reel_0.9064634.jpg</td>\n",
       "      <td>inception_imageneta_bias</td>\n",
       "      <td>3</td>\n",
       "    </tr>\n",
       "    <tr>\n",
       "      <th>1144</th>\n",
       "      <td>1223</td>\n",
       "      <td>ants</td>\n",
       "      <td>0.918550</td>\n",
       "      <td>bees</td>\n",
       "      <td>0.067052</td>\n",
       "      <td>mantis</td>\n",
       "      <td>0.014398</td>\n",
       "      <td>0</td>\n",
       "      <td>0.000011_manhole cover _ manhole cover_0.99939...</td>\n",
       "      <td>inception_imageneta_bias</td>\n",
       "      <td>3</td>\n",
       "    </tr>\n",
       "    <tr>\n",
       "      <th>1022</th>\n",
       "      <td>1101</td>\n",
       "      <td>mantis</td>\n",
       "      <td>0.902208</td>\n",
       "      <td>bees</td>\n",
       "      <td>0.068072</td>\n",
       "      <td>ants</td>\n",
       "      <td>0.029720</td>\n",
       "      <td>0</td>\n",
       "      <td>0.002029_drumstick _ drumstick_0.95437384.jpg</td>\n",
       "      <td>inception_imageneta_bias</td>\n",
       "      <td>3</td>\n",
       "    </tr>\n",
       "    <tr>\n",
       "      <th>1023</th>\n",
       "      <td>1102</td>\n",
       "      <td>ants</td>\n",
       "      <td>0.577905</td>\n",
       "      <td>mantis</td>\n",
       "      <td>0.386348</td>\n",
       "      <td>bees</td>\n",
       "      <td>0.035747</td>\n",
       "      <td>0</td>\n",
       "      <td>0.000962_pretzel _ pretzel_0.72597605.jpg</td>\n",
       "      <td>inception_imageneta_bias</td>\n",
       "      <td>3</td>\n",
       "    </tr>\n",
       "    <tr>\n",
       "      <th>953</th>\n",
       "      <td>1032</td>\n",
       "      <td>mantis</td>\n",
       "      <td>0.623485</td>\n",
       "      <td>bees</td>\n",
       "      <td>0.342019</td>\n",
       "      <td>ants</td>\n",
       "      <td>0.034496</td>\n",
       "      <td>0</td>\n",
       "      <td>0.000611_dumbbell _ dumbbell_0.6139861.jpg</td>\n",
       "      <td>inception_imageneta_bias</td>\n",
       "      <td>3</td>\n",
       "    </tr>\n",
       "  </tbody>\n",
       "</table>\n",
       "</div>"
      ],
      "text/plain": [
       "        Id Pred1Label  Pred1Score Pred2Label  Pred2Score Pred3Label  \\\n",
       "1024  1103     mantis    0.678971       bees    0.277241       ants   \n",
       "1144  1223       ants    0.918550       bees    0.067052     mantis   \n",
       "1022  1101     mantis    0.902208       bees    0.068072       ants   \n",
       "1023  1102       ants    0.577905     mantis    0.386348       bees   \n",
       "953   1032     mantis    0.623485       bees    0.342019       ants   \n",
       "\n",
       "      Pred3Score  Status                                          ImageName  \\\n",
       "1024    0.043787       0                 0.001768_reel _ reel_0.9064634.jpg   \n",
       "1144    0.014398       0  0.000011_manhole cover _ manhole cover_0.99939...   \n",
       "1022    0.029720       0      0.002029_drumstick _ drumstick_0.95437384.jpg   \n",
       "1023    0.035747       0          0.000962_pretzel _ pretzel_0.72597605.jpg   \n",
       "953     0.034496       0         0.000611_dumbbell _ dumbbell_0.6139861.jpg   \n",
       "\n",
       "                     ModelName  iteration  \n",
       "1024  inception_imageneta_bias          3  \n",
       "1144  inception_imageneta_bias          3  \n",
       "1022  inception_imageneta_bias          3  \n",
       "1023  inception_imageneta_bias          3  \n",
       "953   inception_imageneta_bias          3  "
      ]
     },
     "execution_count": 107,
     "metadata": {},
     "output_type": "execute_result"
    }
   ],
   "source": [
    "final.head()"
   ]
  },
  {
   "cell_type": "code",
   "execution_count": 112,
   "id": "1fa2ee6a-e621-48ea-807f-9b37ea7a029f",
   "metadata": {},
   "outputs": [
    {
     "ename": "TypeError",
     "evalue": "sort_values() got an unexpected keyword argument 'by'",
     "output_type": "error",
     "traceback": [
      "\u001b[0;31m---------------------------------------------------------------------------\u001b[0m",
      "\u001b[0;31mTypeError\u001b[0m                                 Traceback (most recent call last)",
      "\u001b[0;32m<ipython-input-112-4db7b7876750>\u001b[0m in \u001b[0;36m<module>\u001b[0;34m\u001b[0m\n\u001b[0;32m----> 1\u001b[0;31m \u001b[0mfinal\u001b[0m\u001b[0;34m[\u001b[0m\u001b[0;34m'ModelName'\u001b[0m\u001b[0;34m]\u001b[0m\u001b[0;34m.\u001b[0m\u001b[0mvalue_counts\u001b[0m\u001b[0;34m(\u001b[0m\u001b[0;34m)\u001b[0m\u001b[0;34m.\u001b[0m\u001b[0msort_values\u001b[0m\u001b[0;34m(\u001b[0m\u001b[0mby\u001b[0m\u001b[0;34m=\u001b[0m\u001b[0;36m1\u001b[0m\u001b[0;34m)\u001b[0m\u001b[0;34m\u001b[0m\u001b[0;34m\u001b[0m\u001b[0m\n\u001b[0m",
      "\u001b[0;31mTypeError\u001b[0m: sort_values() got an unexpected keyword argument 'by'"
     ]
    }
   ],
   "source": []
  },
  {
   "cell_type": "code",
   "execution_count": 81,
   "id": "4acd27a2-88dd-4a18-a156-ca37844e403a",
   "metadata": {},
   "outputs": [],
   "source": [
    "pilot = pd.read_csv('pilot_batch.csv')"
   ]
  },
  {
   "cell_type": "code",
   "execution_count": 83,
   "id": "60ec8394-08bb-432d-8bf1-456e518cad2c",
   "metadata": {},
   "outputs": [],
   "source": [
    "pilot['iteration'] = 1"
   ]
  },
  {
   "cell_type": "code",
   "execution_count": 99,
   "id": "3da4aee2-d5f4-4d6a-aa61-4bbb77547d6a",
   "metadata": {},
   "outputs": [],
   "source": [
    "final['iteration'] = 3"
   ]
  },
  {
   "cell_type": "code",
   "execution_count": 76,
   "id": "82a6d175-e8ae-42a6-ad2f-d0617587b793",
   "metadata": {},
   "outputs": [
    {
     "data": {
      "text/html": [
       "<div>\n",
       "<style scoped>\n",
       "    .dataframe tbody tr th:only-of-type {\n",
       "        vertical-align: middle;\n",
       "    }\n",
       "\n",
       "    .dataframe tbody tr th {\n",
       "        vertical-align: top;\n",
       "    }\n",
       "\n",
       "    .dataframe thead th {\n",
       "        text-align: right;\n",
       "    }\n",
       "</style>\n",
       "<table border=\"1\" class=\"dataframe\">\n",
       "  <thead>\n",
       "    <tr style=\"text-align: right;\">\n",
       "      <th></th>\n",
       "      <th>Id</th>\n",
       "      <th>Pred1Label</th>\n",
       "      <th>Pred1Score</th>\n",
       "      <th>Pred2Label</th>\n",
       "      <th>Pred2Score</th>\n",
       "      <th>Pred3Label</th>\n",
       "      <th>Pred3Score</th>\n",
       "      <th>Status</th>\n",
       "      <th>ImageName</th>\n",
       "      <th>ModelName</th>\n",
       "      <th>iteration</th>\n",
       "    </tr>\n",
       "  </thead>\n",
       "  <tbody>\n",
       "    <tr>\n",
       "      <th>960</th>\n",
       "      <td>1039</td>\n",
       "      <td>mantis</td>\n",
       "      <td>0.887277</td>\n",
       "      <td>ants</td>\n",
       "      <td>0.062809</td>\n",
       "      <td>bees</td>\n",
       "      <td>0.049914</td>\n",
       "      <td>0</td>\n",
       "      <td>0.000529_shovel _ shovel_0.69947743.jpg</td>\n",
       "      <td>inception_imageneta_bias</td>\n",
       "      <td>1</td>\n",
       "    </tr>\n",
       "    <tr>\n",
       "      <th>1156</th>\n",
       "      <td>1235</td>\n",
       "      <td>ants</td>\n",
       "      <td>0.674341</td>\n",
       "      <td>mantis</td>\n",
       "      <td>0.224610</td>\n",
       "      <td>bees</td>\n",
       "      <td>0.101050</td>\n",
       "      <td>0</td>\n",
       "      <td>0.000479_garbage truck _ garbage truck_0.87838...</td>\n",
       "      <td>inception_imageneta_bias</td>\n",
       "      <td>1</td>\n",
       "    </tr>\n",
       "    <tr>\n",
       "      <th>1115</th>\n",
       "      <td>1194</td>\n",
       "      <td>bees</td>\n",
       "      <td>0.951299</td>\n",
       "      <td>mantis</td>\n",
       "      <td>0.029142</td>\n",
       "      <td>ants</td>\n",
       "      <td>0.019559</td>\n",
       "      <td>0</td>\n",
       "      <td>0.000115_beaker _ beaker_0.70955336.jpg</td>\n",
       "      <td>inception_imageneta_bias</td>\n",
       "      <td>1</td>\n",
       "    </tr>\n",
       "    <tr>\n",
       "      <th>1147</th>\n",
       "      <td>1226</td>\n",
       "      <td>bees</td>\n",
       "      <td>0.925042</td>\n",
       "      <td>mantis</td>\n",
       "      <td>0.048518</td>\n",
       "      <td>ants</td>\n",
       "      <td>0.026439</td>\n",
       "      <td>0</td>\n",
       "      <td>0.000008_lighter _ lighter_0.96101415.jpg</td>\n",
       "      <td>inception_imageneta_bias</td>\n",
       "      <td>1</td>\n",
       "    </tr>\n",
       "    <tr>\n",
       "      <th>987</th>\n",
       "      <td>1066</td>\n",
       "      <td>bees</td>\n",
       "      <td>0.841898</td>\n",
       "      <td>mantis</td>\n",
       "      <td>0.113494</td>\n",
       "      <td>ants</td>\n",
       "      <td>0.044607</td>\n",
       "      <td>0</td>\n",
       "      <td>0.000071_duck _ duck_0.95757425.jpg</td>\n",
       "      <td>inception_imageneta_bias</td>\n",
       "      <td>1</td>\n",
       "    </tr>\n",
       "  </tbody>\n",
       "</table>\n",
       "</div>"
      ],
      "text/plain": [
       "        Id Pred1Label  Pred1Score Pred2Label  Pred2Score Pred3Label  \\\n",
       "960   1039     mantis    0.887277       ants    0.062809       bees   \n",
       "1156  1235       ants    0.674341     mantis    0.224610       bees   \n",
       "1115  1194       bees    0.951299     mantis    0.029142       ants   \n",
       "1147  1226       bees    0.925042     mantis    0.048518       ants   \n",
       "987   1066       bees    0.841898     mantis    0.113494       ants   \n",
       "\n",
       "      Pred3Score  Status                                          ImageName  \\\n",
       "960     0.049914       0            0.000529_shovel _ shovel_0.69947743.jpg   \n",
       "1156    0.101050       0  0.000479_garbage truck _ garbage truck_0.87838...   \n",
       "1115    0.019559       0            0.000115_beaker _ beaker_0.70955336.jpg   \n",
       "1147    0.026439       0          0.000008_lighter _ lighter_0.96101415.jpg   \n",
       "987     0.044607       0                0.000071_duck _ duck_0.95757425.jpg   \n",
       "\n",
       "                     ModelName  iteration  \n",
       "960   inception_imageneta_bias          1  \n",
       "1156  inception_imageneta_bias          1  \n",
       "1115  inception_imageneta_bias          1  \n",
       "1147  inception_imageneta_bias          1  \n",
       "987   inception_imageneta_bias          1  "
      ]
     },
     "execution_count": 76,
     "metadata": {},
     "output_type": "execute_result"
    }
   ],
   "source": [
    "final.head()"
   ]
  },
  {
   "cell_type": "code",
   "execution_count": 34,
   "id": "4efc79c7-c6b5-4730-8968-4df4cf531381",
   "metadata": {},
   "outputs": [],
   "source": [
    "temp = samples[['iteration','Id']].copy()"
   ]
  },
  {
   "cell_type": "code",
   "execution_count": 35,
   "id": "417ddaf6-8c6e-4da9-87e6-b3d26bd91056",
   "metadata": {},
   "outputs": [
    {
     "data": {
      "text/html": [
       "<div>\n",
       "<style scoped>\n",
       "    .dataframe tbody tr th:only-of-type {\n",
       "        vertical-align: middle;\n",
       "    }\n",
       "\n",
       "    .dataframe tbody tr th {\n",
       "        vertical-align: top;\n",
       "    }\n",
       "\n",
       "    .dataframe thead th {\n",
       "        text-align: right;\n",
       "    }\n",
       "</style>\n",
       "<table border=\"1\" class=\"dataframe\">\n",
       "  <thead>\n",
       "    <tr style=\"text-align: right;\">\n",
       "      <th></th>\n",
       "      <th>iteration</th>\n",
       "      <th>Id</th>\n",
       "    </tr>\n",
       "  </thead>\n",
       "  <tbody>\n",
       "    <tr>\n",
       "      <th>986</th>\n",
       "      <td>1</td>\n",
       "      <td>1065</td>\n",
       "    </tr>\n",
       "    <tr>\n",
       "      <th>903</th>\n",
       "      <td>1</td>\n",
       "      <td>982</td>\n",
       "    </tr>\n",
       "    <tr>\n",
       "      <th>1082</th>\n",
       "      <td>1</td>\n",
       "      <td>1161</td>\n",
       "    </tr>\n",
       "    <tr>\n",
       "      <th>1029</th>\n",
       "      <td>1</td>\n",
       "      <td>1108</td>\n",
       "    </tr>\n",
       "    <tr>\n",
       "      <th>942</th>\n",
       "      <td>1</td>\n",
       "      <td>1021</td>\n",
       "    </tr>\n",
       "  </tbody>\n",
       "</table>\n",
       "</div>"
      ],
      "text/plain": [
       "      iteration    Id\n",
       "986           1  1065\n",
       "903           1   982\n",
       "1082          1  1161\n",
       "1029          1  1108\n",
       "942           1  1021"
      ]
     },
     "execution_count": 35,
     "metadata": {},
     "output_type": "execute_result"
    }
   ],
   "source": [
    "temp.head()"
   ]
  },
  {
   "cell_type": "code",
   "execution_count": 97,
   "id": "a17977e2-44e6-476d-a46a-19fd2d5fa4ec",
   "metadata": {},
   "outputs": [],
   "source": [
    "final.to_csv('iteration3_prod.csv', index=False)"
   ]
  },
  {
   "cell_type": "code",
   "execution_count": 100,
   "id": "ae3543aa-558f-499c-825a-42f8c040664e",
   "metadata": {},
   "outputs": [],
   "source": [
    "records_to_update = list(final[['iteration','Id']].itertuples(index=False,name=None))"
   ]
  },
  {
   "cell_type": "code",
   "execution_count": 79,
   "id": "a5da7a11-34e1-4776-935e-de360218c812",
   "metadata": {},
   "outputs": [
    {
     "data": {
      "text/plain": [
       "(1, 1235)"
      ]
     },
     "execution_count": 79,
     "metadata": {},
     "output_type": "execute_result"
    }
   ],
   "source": [
    "records_to_update[1]"
   ]
  },
  {
   "cell_type": "code",
   "execution_count": 38,
   "id": "bf1c42af-6bac-4b94-b514-ccae9926e32e",
   "metadata": {},
   "outputs": [],
   "source": [
    "def updateMultipleRecords(recordList):\n",
    "    try:\n",
    "        sqliteConnection = sqlite3.connect(annotation_path)\n",
    "        cursor = sqliteConnection.cursor()\n",
    "        print(\"Connected to SQLite\")\n",
    "\n",
    "        sqlite_update_query = \"\"\"Update apiservice_Images set iteration = ? where id = ?\"\"\"\n",
    "        cursor.executemany(sqlite_update_query, recordList)\n",
    "        sqliteConnection.commit()\n",
    "        print(\"Total\", cursor.rowcount, \"Records updated successfully\")\n",
    "        sqliteConnection.commit()\n",
    "        cursor.close()\n",
    "\n",
    "    except sqlite3.Error as error:\n",
    "        print(\"Failed to update multiple records of sqlite table\", error)\n",
    "    finally:\n",
    "        if sqliteConnection:\n",
    "            sqliteConnection.close()\n",
    "            print(\"The SQLite connection is closed\")\n",
    "\n"
   ]
  },
  {
   "cell_type": "code",
   "execution_count": 101,
   "id": "40a229de-c5ff-4309-be9a-9a64ac86ba8f",
   "metadata": {},
   "outputs": [
    {
     "name": "stdout",
     "output_type": "stream",
     "text": [
      "Connected to SQLite\n",
      "Total 95 Records updated successfully\n",
      "The SQLite connection is closed\n"
     ]
    }
   ],
   "source": [
    "updateMultipleRecords(records_to_update)"
   ]
  },
  {
   "cell_type": "code",
   "execution_count": 59,
   "id": "2cd3d10b-1c4a-4886-882f-e06a9e4e7983",
   "metadata": {},
   "outputs": [],
   "source": []
  },
  {
   "cell_type": "code",
   "execution_count": 60,
   "id": "f442eebc-5a3b-4dc2-991e-7a7b36d63886",
   "metadata": {},
   "outputs": [
    {
     "data": {
      "text/plain": [
       "2194"
      ]
     },
     "execution_count": 60,
     "metadata": {},
     "output_type": "execute_result"
    }
   ],
   "source": [
    "len(df)"
   ]
  },
  {
   "cell_type": "code",
   "execution_count": 49,
   "id": "0b1f258b-250c-4dd7-969b-c050d07cf03f",
   "metadata": {},
   "outputs": [],
   "source": [
    "temp = df.sample(n=4)"
   ]
  },
  {
   "cell_type": "code",
   "execution_count": 51,
   "id": "461743f6-69a2-4eeb-a886-f4bf62f1b926",
   "metadata": {},
   "outputs": [],
   "source": [
    "temp['Itertaion'] = 1"
   ]
  },
  {
   "cell_type": "code",
   "execution_count": 53,
   "id": "2c3fb0f2-d847-4516-8dfa-9ed10a6e6955",
   "metadata": {},
   "outputs": [],
   "source": [
    "records_to_update = list(temp[['Itertaion','Id']].itertuples(index=False,name=None))"
   ]
  },
  {
   "cell_type": "code",
   "execution_count": 54,
   "id": "0de988c0-78e8-479d-b754-35f8736233f6",
   "metadata": {},
   "outputs": [
    {
     "data": {
      "text/plain": [
       "[(1, 1582), (1, 833), (1, 2220), (1, 2432)]"
      ]
     },
     "execution_count": 54,
     "metadata": {},
     "output_type": "execute_result"
    }
   ],
   "source": [
    "records_to_update"
   ]
  },
  {
   "cell_type": "code",
   "execution_count": 50,
   "id": "c48be6c3-4953-438d-ac69-6b2781ed6519",
   "metadata": {},
   "outputs": [
    {
     "data": {
      "text/html": [
       "<div>\n",
       "<style scoped>\n",
       "    .dataframe tbody tr th:only-of-type {\n",
       "        vertical-align: middle;\n",
       "    }\n",
       "\n",
       "    .dataframe tbody tr th {\n",
       "        vertical-align: top;\n",
       "    }\n",
       "\n",
       "    .dataframe thead th {\n",
       "        text-align: right;\n",
       "    }\n",
       "</style>\n",
       "<table border=\"1\" class=\"dataframe\">\n",
       "  <thead>\n",
       "    <tr style=\"text-align: right;\">\n",
       "      <th></th>\n",
       "      <th>Id</th>\n",
       "      <th>Pred1Label</th>\n",
       "      <th>Pred1Score</th>\n",
       "      <th>Pred2Label</th>\n",
       "      <th>Pred2Score</th>\n",
       "      <th>Pred3Label</th>\n",
       "      <th>Pred3Score</th>\n",
       "      <th>Status</th>\n",
       "      <th>ImageName</th>\n",
       "      <th>ModelName</th>\n",
       "    </tr>\n",
       "  </thead>\n",
       "  <tbody>\n",
       "    <tr>\n",
       "      <th>1237</th>\n",
       "      <td>1582</td>\n",
       "      <td>mantis</td>\n",
       "      <td>0.997111</td>\n",
       "      <td>bees</td>\n",
       "      <td>0.002590</td>\n",
       "      <td>ants</td>\n",
       "      <td>0.000299</td>\n",
       "      <td>0</td>\n",
       "      <td>0.000196_shovel _ umbrella_0.5735567.jpg</td>\n",
       "      <td>squeezenet_imageneta_bias</td>\n",
       "    </tr>\n",
       "    <tr>\n",
       "      <th>754</th>\n",
       "      <td>833</td>\n",
       "      <td>DINNER_CUTLERY</td>\n",
       "      <td>0.927243</td>\n",
       "      <td>TEA_SPOON</td>\n",
       "      <td>0.051431</td>\n",
       "      <td>FISH_SLICE</td>\n",
       "      <td>0.021326</td>\n",
       "      <td>0</td>\n",
       "      <td>dinnerkniferaw17.jpg</td>\n",
       "      <td>inception_utensil_both_bias</td>\n",
       "    </tr>\n",
       "    <tr>\n",
       "      <th>1875</th>\n",
       "      <td>2220</td>\n",
       "      <td>TEA_SPOON</td>\n",
       "      <td>0.973854</td>\n",
       "      <td>FISH_SLICE</td>\n",
       "      <td>0.021870</td>\n",
       "      <td>DINNER_CUTLERY</td>\n",
       "      <td>0.004275</td>\n",
       "      <td>0</td>\n",
       "      <td>dinnerforkraw30.jpg</td>\n",
       "      <td>squeezenet_utensil_color_bias</td>\n",
       "    </tr>\n",
       "    <tr>\n",
       "      <th>2087</th>\n",
       "      <td>2432</td>\n",
       "      <td>FISH_SLICE</td>\n",
       "      <td>0.777233</td>\n",
       "      <td>DINNER_CUTLERY</td>\n",
       "      <td>0.221315</td>\n",
       "      <td>TEA_SPOON</td>\n",
       "      <td>0.001453</td>\n",
       "      <td>0</td>\n",
       "      <td>fishsliceraw78.jpg</td>\n",
       "      <td>squeezenet_utensil_shape_bias</td>\n",
       "    </tr>\n",
       "  </tbody>\n",
       "</table>\n",
       "</div>"
      ],
      "text/plain": [
       "        Id      Pred1Label  Pred1Score      Pred2Label  Pred2Score  \\\n",
       "1237  1582          mantis    0.997111            bees    0.002590   \n",
       "754    833  DINNER_CUTLERY    0.927243       TEA_SPOON    0.051431   \n",
       "1875  2220       TEA_SPOON    0.973854      FISH_SLICE    0.021870   \n",
       "2087  2432      FISH_SLICE    0.777233  DINNER_CUTLERY    0.221315   \n",
       "\n",
       "          Pred3Label  Pred3Score  Status  \\\n",
       "1237            ants    0.000299       0   \n",
       "754       FISH_SLICE    0.021326       0   \n",
       "1875  DINNER_CUTLERY    0.004275       0   \n",
       "2087       TEA_SPOON    0.001453       0   \n",
       "\n",
       "                                     ImageName                      ModelName  \n",
       "1237  0.000196_shovel _ umbrella_0.5735567.jpg      squeezenet_imageneta_bias  \n",
       "754                       dinnerkniferaw17.jpg    inception_utensil_both_bias  \n",
       "1875                       dinnerforkraw30.jpg  squeezenet_utensil_color_bias  \n",
       "2087                        fishsliceraw78.jpg  squeezenet_utensil_shape_bias  "
      ]
     },
     "execution_count": 50,
     "metadata": {},
     "output_type": "execute_result"
    }
   ],
   "source": [
    "temp.head()"
   ]
  },
  {
   "cell_type": "code",
   "execution_count": 61,
   "id": "029be93f-5895-47ae-bbc7-9b4372f993f9",
   "metadata": {},
   "outputs": [],
   "source": [
    "samples = df.groupby('ModelName').sample(frac=.1, replace=False, random_state=1).copy()"
   ]
  },
  {
   "cell_type": "code",
   "execution_count": 62,
   "id": "0557f2e3-4032-4345-bcd0-c9953c5a3384",
   "metadata": {},
   "outputs": [
    {
     "data": {
      "text/plain": [
       "218"
      ]
     },
     "execution_count": 62,
     "metadata": {},
     "output_type": "execute_result"
    }
   ],
   "source": [
    "len(samples)"
   ]
  },
  {
   "cell_type": "code",
   "execution_count": 45,
   "id": "90fb68df-cc97-4fcf-8b52-69d901255ec1",
   "metadata": {},
   "outputs": [
    {
     "data": {
      "text/plain": [
       "65.6"
      ]
     },
     "execution_count": 45,
     "metadata": {},
     "output_type": "execute_result"
    }
   ],
   "source": [
    "328/5"
   ]
  },
  {
   "cell_type": "code",
   "execution_count": 56,
   "id": "c3bc2701-a2ef-45f0-b7ea-4343f5001f90",
   "metadata": {},
   "outputs": [
    {
     "data": {
      "text/plain": [
       "24.0"
      ]
     },
     "execution_count": 56,
     "metadata": {},
     "output_type": "execute_result"
    }
   ],
   "source": [
    "120/5"
   ]
  },
  {
   "cell_type": "code",
   "execution_count": 10,
   "id": "9c8987a3-1a99-4bad-873c-89d8aef3ebf0",
   "metadata": {},
   "outputs": [
    {
     "data": {
      "text/plain": [
       "13"
      ]
     },
     "execution_count": 10,
     "metadata": {},
     "output_type": "execute_result"
    }
   ],
   "source": [
    "len(samples.loc[samples.ModelName=='imageneta'])"
   ]
  },
  {
   "cell_type": "code",
   "execution_count": 13,
   "id": "f7b73a5a-d358-46ac-824d-2414dc6471ae",
   "metadata": {},
   "outputs": [],
   "source": [
    "samples.to_csv('pilot.csv',index=False)"
   ]
  },
  {
   "cell_type": "code",
   "execution_count": null,
   "id": "c2aac15f-f7b7-4196-bcb6-827ba808d0f0",
   "metadata": {},
   "outputs": [],
   "source": [
    "df.to_sql('tmp', conn, if_exists='replace')"
   ]
  },
  {
   "cell_type": "code",
   "execution_count": null,
   "id": "fcef232f-f03d-42ad-8190-5e74a11b0479",
   "metadata": {},
   "outputs": [],
   "source": [
    "sql = \"\"\"\n",
    "UPDATE apiservice_images set iteration = (SELECT t.last_seen\n",
    "                                   FROM tmp t\n",
    "                                   WHERE t.Key = table_name.key)\n",
    "WHERE EXISTS(\n",
    "    SELECT *\n",
    "    FROM tmp\n",
    "    WHERE tmp.key = table_name.key\n",
    ")\n",
    "\"\"\"\n",
    "\n"
   ]
  },
  {
   "cell_type": "code",
   "execution_count": null,
   "id": "e5307a17-1eb3-4180-951b-d1f53bcd451d",
   "metadata": {},
   "outputs": [],
   "source": [
    "c.execute(sql)"
   ]
  },
  {
   "cell_type": "code",
   "execution_count": null,
   "id": "0121f393-88ee-41be-8154-4cbda3518a71",
   "metadata": {},
   "outputs": [],
   "source": [
    "conn.commit()"
   ]
  }
 ],
 "metadata": {
  "kernelspec": {
   "display_name": "Python 3",
   "language": "python",
   "name": "python3"
  },
  "language_info": {
   "codemirror_mode": {
    "name": "ipython",
    "version": 3
   },
   "file_extension": ".py",
   "mimetype": "text/x-python",
   "name": "python",
   "nbconvert_exporter": "python",
   "pygments_lexer": "ipython3",
   "version": "3.6.9"
  }
 },
 "nbformat": 4,
 "nbformat_minor": 5
}
