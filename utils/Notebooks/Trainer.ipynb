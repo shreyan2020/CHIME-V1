{
 "cells": [
  {
   "cell_type": "code",
   "execution_count": 1,
   "id": "bigger-harvard",
   "metadata": {},
   "outputs": [
    {
     "name": "stdout",
     "output_type": "stream",
     "text": [
      "PyTorch Version:  1.10.1+cu102\n",
      "Torchvision Version:  0.11.2+cu102\n"
     ]
    }
   ],
   "source": [
    "from __future__ import print_function\n",
    "from __future__ import division\n",
    "import torch\n",
    "import torch.nn as nn\n",
    "import torch.optim as optim\n",
    "import numpy as np\n",
    "import torchvision\n",
    "from torchvision import datasets, models, transforms\n",
    "import matplotlib.pyplot as plt\n",
    "import wandb\n",
    "import time\n",
    "import os\n",
    "import copy\n",
    "import splitfolders\n",
    "print(\"PyTorch Version: \",torch.__version__)\n",
    "print(\"Torchvision Version: \",torchvision.__version__)\n",
    "from tqdm import tqdm"
   ]
  },
  {
   "cell_type": "code",
   "execution_count": 3,
   "id": "collaborative-richmond",
   "metadata": {},
   "outputs": [],
   "source": [
    "import splitfolders\n",
    "import pathlib\n",
    "from PIL import Image as PImage"
   ]
  },
  {
   "cell_type": "code",
   "execution_count": null,
   "id": "deluxe-freedom",
   "metadata": {},
   "outputs": [],
   "source": [
    "for root, _, fnames in sorted(os.walk('../data/dataset/biased_utensil_shape', followlinks=True)):\n",
    "    print(root)\n",
    "    for idx, fname in enumerate(sorted(fnames)):\n",
    "        print(os.path.join(root, fname))\n",
    "        temp = PImage.open(os.path.join(root, fname))\n",
    "        temp = temp.convert('RGB')\n",
    "        temp.save(os.path.join(root, fname),'jpeg')"
   ]
  },
  {
   "cell_type": "code",
   "execution_count": 2,
   "id": "infectious-tissue",
   "metadata": {},
   "outputs": [
    {
     "name": "stderr",
     "output_type": "stream",
     "text": [
      "Copying files: 297 files [00:00, 386.69 files/s]\n"
     ]
    }
   ],
   "source": [
    "splitfolders.ratio(\"../data/dataset/original_utensil\", output=\"../data/dataset/original_utensil_train\",\n",
    "    seed=1337, ratio=(.9, .1), group_prefix=None, move=False)"
   ]
  },
  {
   "cell_type": "code",
   "execution_count": 16,
   "id": "urban-particle",
   "metadata": {},
   "outputs": [],
   "source": [
    "# Top level data directory. Here we assume the format of the directory conforms\n",
    "#   to the ImageFolder structure\n",
    "data_dir = \"../data/dataset/original_utensil_train\"\n",
    "\n",
    "# Models to choose from [resnet, alexnet, vgg, squeezenet, densenet, inception]\n",
    "model_name = \"inception\"\n",
    "\n",
    "# Number of classes in the dataset\n",
    "num_classes = 16\n",
    "\n",
    "# Batch size for training (change depending on how much memory you have)\n",
    "batch_size = 8\n",
    "\n",
    "# Number of epochs to train for\n",
    "num_epochs = 30\n",
    "\n",
    "# Flag for feature extracting. When False, we finetune the whole model,\n",
    "#   when True we only update the reshaped layer params\n",
    "feature_extract = True"
   ]
  },
  {
   "cell_type": "code",
   "execution_count": 19,
   "id": "least-seven",
   "metadata": {},
   "outputs": [],
   "source": [
    "def train_model(model, dataloaders, criterion, optimizer, num_epochs=25, is_inception=False):\n",
    "    since = time.time()\n",
    "\n",
    "    val_acc_history = []\n",
    "\n",
    "    best_model_wts = copy.deepcopy(model.state_dict())\n",
    "    best_acc = 0.0\n",
    "\n",
    "    # for epoch in range(num_epochs):\n",
    "    while(True):\n",
    "        print('Epoch {}/{}'.format(epoch, num_epochs - 1))\n",
    "        print('-' * 10)\n",
    "\n",
    "        # Each epoch has a training and validation phase\n",
    "        for phase in ['train', 'val']:\n",
    "            if phase == 'train':\n",
    "                model.train()  # Set model to training mode\n",
    "            else:\n",
    "                model.eval()   # Set model to evaluate mode\n",
    "\n",
    "            running_loss = 0.0\n",
    "            running_corrects = 0\n",
    "\n",
    "            # Iterate over data.\n",
    "            for inputs, labels in dataloaders[phase]:\n",
    "                inputs = inputs.to(device)\n",
    "                labels = labels.to(device)\n",
    "\n",
    "                # zero the parameter gradients\n",
    "                optimizer.zero_grad()\n",
    "\n",
    "                # forward\n",
    "                # track history if only in train\n",
    "                with torch.set_grad_enabled(phase == 'train'):\n",
    "                    # Get model outputs and calculate loss\n",
    "                    # Special case for inception because in training it has an auxiliary output. In train\n",
    "                    #   mode we calculate the loss by summing the final output and the auxiliary output\n",
    "                    #   but in testing we only consider the final output.\n",
    "                    if is_inception and phase == 'train':\n",
    "                        # From https://discuss.pytorch.org/t/how-to-optimize-inception-model-with-auxiliary-classifiers/7958\n",
    "                        outputs, aux_outputs = model(inputs)\n",
    "                        loss1 = criterion(outputs, labels)\n",
    "                        loss2 = criterion(aux_outputs, labels)\n",
    "                        loss = loss1 + 0.4*loss2\n",
    "                    else:\n",
    "                        outputs = model(inputs)\n",
    "                        loss = criterion(outputs, labels)\n",
    "\n",
    "                    _, preds = torch.max(outputs, 1)\n",
    "\n",
    "                    # backward + optimize only if in training phase\n",
    "                    if phase == 'train':\n",
    "                        loss.backward()\n",
    "                        optimizer.step()\n",
    "\n",
    "                # statistics\n",
    "                running_loss += loss.item() * inputs.size(0)\n",
    "                running_corrects += torch.sum(preds == labels.data)\n",
    "\n",
    "            epoch_loss = running_loss / len(dataloaders[phase].dataset)\n",
    "            epoch_acc = running_corrects.double() / len(dataloaders[phase].dataset)\n",
    "\n",
    "            print('{} Loss: {:.4f} Acc: {:.4f}'.format(phase, epoch_loss, epoch_acc))\n",
    "            wandb.log({\"loss\": loss,\"Accuracy\":epoch_acc})\n",
    "            if phase == 'train' and epoch_acc>=0.99:\n",
    "                best_acc = epoch_acc\n",
    "                best_model_wts = copy.deepcopy(model.state_dict())\n",
    "                break\n",
    "            # deep copy the model\n",
    "            if phase == 'val' and epoch_acc > best_acc:\n",
    "                best_acc = epoch_acc\n",
    "                best_model_wts = copy.deepcopy(model.state_dict())\n",
    "            if phase == 'val':\n",
    "                val_acc_history.append(epoch_acc)\n",
    "            \n",
    "\n",
    "        print()\n",
    "\n",
    "    time_elapsed = time.time() - since\n",
    "    print('Training complete in {:.0f}m {:.0f}s'.format(time_elapsed // 60, time_elapsed % 60))\n",
    "    print('Best val Acc: {:4f}'.format(best_acc))\n",
    "\n",
    "    # load best model weights\n",
    "    model.load_state_dict(best_model_wts)\n",
    "    return model, val_acc_history"
   ]
  },
  {
   "cell_type": "code",
   "execution_count": 20,
   "id": "preceding-melbourne",
   "metadata": {},
   "outputs": [],
   "source": [
    "def set_parameter_requires_grad(model, feature_extracting):\n",
    "    if feature_extracting:\n",
    "        for param in model.parameters():\n",
    "            param.requires_grad = False"
   ]
  },
  {
   "cell_type": "code",
   "execution_count": null,
   "id": "acute-accent",
   "metadata": {},
   "outputs": [],
   "source": [
    "def initialize_model(model_name, num_classes, feature_extract, use_pretrained=True):\n",
    "    # Initialize these variables which will be set in this if statement. Each of these\n",
    "    #   variables is model specific.\n",
    "    model_ft = None\n",
    "    input_size = 0\n",
    "\n",
    "    if model_name == \"resnet\":\n",
    "        \"\"\" Resnet18\n",
    "        \"\"\"\n",
    "        model_ft = models.resnet18(pretrained=use_pretrained)\n",
    "        set_parameter_requires_grad(model_ft, feature_extract)\n",
    "        num_ftrs = model_ft.fc.in_features\n",
    "        model_ft.fc = nn.Linear(num_ftrs, num_classes)\n",
    "        input_size = 224\n",
    "\n",
    "    elif model_name == \"alexnet\":\n",
    "        \"\"\" Alexnet\n",
    "        \"\"\"\n",
    "        model_ft = models.alexnet(pretrained=use_pretrained)\n",
    "        set_parameter_requires_grad(model_ft, feature_extract)\n",
    "        num_ftrs = model_ft.classifier[6].in_features\n",
    "        model_ft.classifier[6] = nn.Linear(num_ftrs,num_classes)\n",
    "        input_size = 224\n",
    "\n",
    "    elif model_name == \"vgg\":\n",
    "        \"\"\" VGG11_bn\n",
    "        \"\"\"\n",
    "        model_ft = models.vgg11_bn(pretrained=use_pretrained)\n",
    "        set_parameter_requires_grad(model_ft, feature_extract)\n",
    "        num_ftrs = model_ft.classifier[6].in_features\n",
    "        model_ft.classifier[6] = nn.Linear(num_ftrs,num_classes)\n",
    "        input_size = 224\n",
    "\n",
    "    elif model_name == \"squeezenet\":\n",
    "        \"\"\" Squeezenet\n",
    "        \"\"\"\n",
    "        model_ft = models.squeezenet1_0(pretrained=use_pretrained)\n",
    "        set_parameter_requires_grad(model_ft, feature_extract)\n",
    "        model_ft.classifier[1] = nn.Conv2d(512, num_classes, kernel_size=(1,1), stride=(1,1))\n",
    "        model_ft.num_classes = num_classes\n",
    "        input_size = 224\n",
    "\n",
    "    elif model_name == \"densenet\":\n",
    "        \"\"\" Densenet\n",
    "        \"\"\"\n",
    "        model_ft = models.densenet121(pretrained=use_pretrained)\n",
    "        set_parameter_requires_grad(model_ft, feature_extract)\n",
    "        num_ftrs = model_ft.classifier.in_features\n",
    "        model_ft.classifier = nn.Linear(num_ftrs, num_classes)\n",
    "        input_size = 224\n",
    "\n",
    "    elif model_name == \"inception\":\n",
    "        \"\"\" Inception v3\n",
    "        Be careful, expects (299,299) sized images and has auxiliary output\n",
    "        \"\"\"\n",
    "        model_ft = models.inception_v3(pretrained=use_pretrained)\n",
    "        set_parameter_requires_grad(model_ft, feature_extract)\n",
    "        # Handle the auxilary net\n",
    "        num_ftrs = model_ft.AuxLogits.fc.in_features\n",
    "        model_ft.AuxLogits.fc = nn.Linear(num_ftrs, num_classes)\n",
    "        # Handle the primary net\n",
    "        num_ftrs = model_ft.fc.in_features\n",
    "        model_ft.fc = nn.Linear(num_ftrs,num_classes)\n",
    "        input_size = 299\n",
    "\n",
    "    else:\n",
    "        print(\"Invalid model name, exiting...\")\n",
    "        exit()\n",
    "\n",
    "    return model_ft, input_size\n",
    "\n",
    "# Initialize the model for this run\n",
    "model_ft, input_size = initialize_model(model_name, num_classes, feature_extract, use_pretrained=True)\n",
    "\n",
    "# Print the model we just instantiated\n",
    "print(model_ft)"
   ]
  },
  {
   "cell_type": "code",
   "execution_count": 32,
   "id": "devoted-seven",
   "metadata": {},
   "outputs": [
    {
     "name": "stderr",
     "output_type": "stream",
     "text": [
      "\u001b[34m\u001b[1mwandb\u001b[0m: \u001b[33mWARNING\u001b[0m Calling wandb.login() after wandb.init() has no effect.\n"
     ]
    },
    {
     "data": {
      "text/plain": [
       "True"
      ]
     },
     "execution_count": 32,
     "metadata": {},
     "output_type": "execute_result"
    }
   ],
   "source": [
    "wandb.login()"
   ]
  },
  {
   "cell_type": "code",
   "execution_count": 33,
   "id": "lasting-spyware",
   "metadata": {},
   "outputs": [
    {
     "name": "stdout",
     "output_type": "stream",
     "text": [
      "env: WANDB_PROJECT=finetune_inception_no_sample\n"
     ]
    }
   ],
   "source": [
    "%env WANDB_PROJECT=finetune_inception_no_sample"
   ]
  },
  {
   "cell_type": "code",
   "execution_count": 34,
   "id": "indoor-violence",
   "metadata": {},
   "outputs": [
    {
     "data": {
      "text/html": [
       "Changes to your `wandb` environment variables will be ignored because your `wandb` session has already started. For more information on how to modify your settings with `wandb.init()` arguments, please refer to <a href=\"https://wandb.me/wandb-init\" target=\"_blank\">the W&B docs</a>."
      ],
      "text/plain": [
       "<IPython.core.display.HTML object>"
      ]
     },
     "metadata": {},
     "output_type": "display_data"
    },
    {
     "data": {
      "text/html": [
       "Finishing last run (ID:27hg2vg0) before initializing another..."
      ],
      "text/plain": [
       "<IPython.core.display.HTML object>"
      ]
     },
     "metadata": {},
     "output_type": "display_data"
    },
    {
     "data": {
      "text/html": [
       "Waiting for W&B process to finish... <strong style=\"color:green\">(success).</strong>"
      ],
      "text/plain": [
       "<IPython.core.display.HTML object>"
      ]
     },
     "metadata": {},
     "output_type": "display_data"
    },
    {
     "data": {
      "application/vnd.jupyter.widget-view+json": {
       "model_id": "",
       "version_major": 2,
       "version_minor": 0
      },
      "text/plain": [
       "VBox(children=(Label(value='0.001 MB of 0.001 MB uploaded (0.000 MB deduped)\\r'), FloatProgress(value=1.0, max…"
      ]
     },
     "metadata": {},
     "output_type": "display_data"
    },
    {
     "data": {
      "text/html": [
       "Synced <strong style=\"color:#cdcd00\">expert-aardvark-5</strong>: <a href=\"https://wandb.ai/shreyan/causal_xai-utils/runs/27hg2vg0\" target=\"_blank\">https://wandb.ai/shreyan/causal_xai-utils/runs/27hg2vg0</a><br/>Synced 5 W&B file(s), 0 media file(s), 0 artifact file(s) and 0 other file(s)"
      ],
      "text/plain": [
       "<IPython.core.display.HTML object>"
      ]
     },
     "metadata": {},
     "output_type": "display_data"
    },
    {
     "data": {
      "text/html": [
       "Find logs at: <code>./wandb/run-20220614_181040-27hg2vg0/logs</code>"
      ],
      "text/plain": [
       "<IPython.core.display.HTML object>"
      ]
     },
     "metadata": {},
     "output_type": "display_data"
    },
    {
     "data": {
      "text/html": [
       "Successfully finished last run (ID:27hg2vg0). Initializing new run:<br/>"
      ],
      "text/plain": [
       "<IPython.core.display.HTML object>"
      ]
     },
     "metadata": {},
     "output_type": "display_data"
    },
    {
     "data": {
      "text/html": [
       "wandb version 0.12.18 is available!  To upgrade, please run:\n",
       " $ pip install wandb --upgrade"
      ],
      "text/plain": [
       "<IPython.core.display.HTML object>"
      ]
     },
     "metadata": {},
     "output_type": "display_data"
    },
    {
     "data": {
      "text/html": [
       "Tracking run with wandb version 0.12.17"
      ],
      "text/plain": [
       "<IPython.core.display.HTML object>"
      ]
     },
     "metadata": {},
     "output_type": "display_data"
    },
    {
     "data": {
      "text/html": [
       "Run data is saved locally in <code>/home/sbiswas/causal_xai/utils/wandb/run-20220614_181126-oncxj6u6</code>"
      ],
      "text/plain": [
       "<IPython.core.display.HTML object>"
      ]
     },
     "metadata": {},
     "output_type": "display_data"
    },
    {
     "data": {
      "text/html": [
       "Syncing run <strong><a href=\"https://wandb.ai/shreyan/causal_xai-utils/runs/oncxj6u6\" target=\"_blank\">easy-salad-6</a></strong> to <a href=\"https://wandb.ai/shreyan/causal_xai-utils\" target=\"_blank\">Weights & Biases</a> (<a href=\"https://wandb.me/run\" target=\"_blank\">docs</a>)<br/>"
      ],
      "text/plain": [
       "<IPython.core.display.HTML object>"
      ]
     },
     "metadata": {},
     "output_type": "display_data"
    },
    {
     "data": {
      "text/plain": [
       "[]"
      ]
     },
     "execution_count": 34,
     "metadata": {},
     "output_type": "execute_result"
    }
   ],
   "source": [
    "wandb.init()\n",
    "wandb.watch(model_ft, log_freq=100)"
   ]
  },
  {
   "cell_type": "code",
   "execution_count": 22,
   "id": "exposed-reducing",
   "metadata": {},
   "outputs": [
    {
     "name": "stdout",
     "output_type": "stream",
     "text": [
      "Initializing Datasets and Dataloaders...\n"
     ]
    }
   ],
   "source": [
    "# Data augmentation and normalization for training\n",
    "# Just normalization for validation\n",
    "data_transforms = {\n",
    "    'train': transforms.Compose([\n",
    "        transforms.RandomResizedCrop(input_size),\n",
    "        transforms.RandomHorizontalFlip(),\n",
    "        transforms.ToTensor(),\n",
    "        transforms.Normalize([0.485, 0.456, 0.406], [0.229, 0.224, 0.225])\n",
    "    ]),\n",
    "    'val': transforms.Compose([\n",
    "        transforms.Resize(input_size),\n",
    "        transforms.CenterCrop(input_size),\n",
    "        transforms.ToTensor(),\n",
    "        transforms.Normalize([0.485, 0.456, 0.406], [0.229, 0.224, 0.225])\n",
    "    ]),\n",
    "}\n",
    "\n",
    "print(\"Initializing Datasets and Dataloaders...\")\n",
    "\n",
    "# Create training and validation datasets\n",
    "image_datasets = {x: datasets.ImageFolder(os.path.join(data_dir, x), data_transforms[x]) for x in ['train', 'val']}\n",
    "# Create training and validation dataloaders\n",
    "dataloaders_dict = {x: torch.utils.data.DataLoader(image_datasets[x], batch_size=batch_size, shuffle=True, num_workers=4) for x in ['train', 'val']}\n",
    "\n",
    "# Detect if we have a GPU available\n",
    "device = torch.device(\"cuda:0\" if torch.cuda.is_available() else \"cpu\")"
   ]
  },
  {
   "cell_type": "code",
   "execution_count": 36,
   "id": "loaded-wichita",
   "metadata": {},
   "outputs": [
    {
     "name": "stdout",
     "output_type": "stream",
     "text": [
      "Params to learn:\n",
      "\t AuxLogits.fc.weight\n",
      "\t AuxLogits.fc.bias\n",
      "\t fc.weight\n",
      "\t fc.bias\n"
     ]
    }
   ],
   "source": [
    "# Send the model to GPU\n",
    "model_ft = model_ft.to(device)\n",
    "\n",
    "# Gather the parameters to be optimized/updated in this run. If we are\n",
    "#  finetuning we will be updating all parameters. However, if we are\n",
    "#  doing feature extract method, we will only update the parameters\n",
    "#  that we have just initialized, i.e. the parameters with requires_grad\n",
    "#  is True.\n",
    "params_to_update = model_ft.parameters()\n",
    "print(\"Params to learn:\")\n",
    "if feature_extract:\n",
    "    params_to_update = []\n",
    "    for name,param in model_ft.named_parameters():\n",
    "        if param.requires_grad == True:\n",
    "            params_to_update.append(param)\n",
    "            print(\"\\t\",name)\n",
    "else:\n",
    "    for name,param in model_ft.named_parameters():\n",
    "        if param.requires_grad == True:\n",
    "            print(\"\\t\",name)\n",
    "\n",
    "# Observe that all parameters are being optimized\n",
    "optimizer_ft = optim.SGD(params_to_update, lr=0.001, momentum=0.9)"
   ]
  },
  {
   "cell_type": "code",
   "execution_count": 37,
   "id": "australian-wellington",
   "metadata": {},
   "outputs": [
    {
     "name": "stdout",
     "output_type": "stream",
     "text": [
      "Epoch 0/29\n",
      "----------\n",
      "train Loss: 2.1105 Acc: 0.4211\n",
      "val Loss: 0.8695 Acc: 0.6129\n",
      "\n",
      "Epoch 1/29\n",
      "----------\n",
      "train Loss: 1.1977 Acc: 0.6391\n",
      "val Loss: 0.6328 Acc: 0.9032\n",
      "\n",
      "Epoch 2/29\n",
      "----------\n",
      "train Loss: 0.9960 Acc: 0.7293\n",
      "val Loss: 0.5110 Acc: 0.8710\n",
      "\n",
      "Epoch 3/29\n",
      "----------\n",
      "train Loss: 0.9601 Acc: 0.6955\n",
      "val Loss: 0.4209 Acc: 0.9677\n",
      "\n",
      "Epoch 4/29\n",
      "----------\n",
      "train Loss: 0.8568 Acc: 0.7556\n",
      "val Loss: 0.4226 Acc: 0.9032\n",
      "\n",
      "Epoch 5/29\n",
      "----------\n",
      "train Loss: 0.7278 Acc: 0.7669\n",
      "val Loss: 0.3431 Acc: 0.9677\n",
      "\n",
      "Epoch 6/29\n",
      "----------\n",
      "train Loss: 0.7957 Acc: 0.7594\n",
      "val Loss: 0.3350 Acc: 0.9032\n",
      "\n",
      "Epoch 7/29\n",
      "----------\n",
      "train Loss: 0.7040 Acc: 0.8008\n",
      "val Loss: 0.3955 Acc: 0.9032\n",
      "\n",
      "Epoch 8/29\n",
      "----------\n",
      "train Loss: 0.8296 Acc: 0.7406\n",
      "val Loss: 0.3095 Acc: 0.9355\n",
      "\n",
      "Epoch 9/29\n",
      "----------\n",
      "train Loss: 0.7385 Acc: 0.7857\n",
      "val Loss: 0.3296 Acc: 0.9032\n",
      "\n",
      "Epoch 10/29\n",
      "----------\n",
      "train Loss: 0.6876 Acc: 0.8045\n",
      "val Loss: 0.3517 Acc: 0.9032\n",
      "\n",
      "Epoch 11/29\n",
      "----------\n",
      "train Loss: 0.6401 Acc: 0.8195\n",
      "val Loss: 0.3487 Acc: 0.9032\n",
      "\n",
      "Epoch 12/29\n",
      "----------\n",
      "train Loss: 0.7524 Acc: 0.7556\n",
      "val Loss: 0.2875 Acc: 0.9032\n",
      "\n",
      "Epoch 13/29\n",
      "----------\n",
      "train Loss: 0.6711 Acc: 0.8233\n",
      "val Loss: 0.2407 Acc: 0.8710\n",
      "\n",
      "Epoch 14/29\n",
      "----------\n",
      "train Loss: 0.7337 Acc: 0.7669\n",
      "val Loss: 0.3112 Acc: 0.9032\n",
      "\n",
      "Epoch 15/29\n",
      "----------\n",
      "train Loss: 0.6966 Acc: 0.8195\n",
      "val Loss: 0.2326 Acc: 0.9032\n",
      "\n",
      "Epoch 16/29\n",
      "----------\n",
      "train Loss: 0.6246 Acc: 0.8459\n",
      "val Loss: 0.2439 Acc: 0.9355\n",
      "\n",
      "Epoch 17/29\n",
      "----------\n",
      "train Loss: 0.5810 Acc: 0.8045\n",
      "val Loss: 0.2777 Acc: 0.8710\n",
      "\n",
      "Epoch 18/29\n",
      "----------\n",
      "train Loss: 0.6387 Acc: 0.8045\n",
      "val Loss: 0.3068 Acc: 0.9032\n",
      "\n",
      "Epoch 19/29\n",
      "----------\n",
      "train Loss: 0.6362 Acc: 0.8008\n",
      "val Loss: 0.2792 Acc: 0.9032\n",
      "\n",
      "Epoch 20/29\n",
      "----------\n",
      "train Loss: 0.6340 Acc: 0.7970\n",
      "val Loss: 0.2538 Acc: 0.8710\n",
      "\n",
      "Epoch 21/29\n",
      "----------\n",
      "train Loss: 0.5808 Acc: 0.8120\n",
      "val Loss: 0.2982 Acc: 0.9032\n",
      "\n",
      "Epoch 22/29\n",
      "----------\n",
      "train Loss: 0.5983 Acc: 0.8158\n",
      "val Loss: 0.2660 Acc: 0.9032\n",
      "\n",
      "Epoch 23/29\n",
      "----------\n",
      "train Loss: 0.5714 Acc: 0.7970\n",
      "val Loss: 0.2275 Acc: 0.9032\n",
      "\n",
      "Epoch 24/29\n",
      "----------\n",
      "train Loss: 0.5803 Acc: 0.8120\n",
      "val Loss: 0.2171 Acc: 0.9032\n",
      "\n",
      "Epoch 25/29\n",
      "----------\n",
      "train Loss: 0.5464 Acc: 0.8496\n",
      "val Loss: 0.2530 Acc: 0.9032\n",
      "\n",
      "Epoch 26/29\n",
      "----------\n",
      "train Loss: 0.6521 Acc: 0.7707\n",
      "val Loss: 0.2861 Acc: 0.9032\n",
      "\n",
      "Epoch 27/29\n",
      "----------\n",
      "train Loss: 0.5748 Acc: 0.8195\n",
      "val Loss: 0.2421 Acc: 0.9032\n",
      "\n",
      "Epoch 28/29\n",
      "----------\n",
      "train Loss: 0.6210 Acc: 0.8008\n",
      "val Loss: 0.2304 Acc: 0.9032\n",
      "\n",
      "Epoch 29/29\n",
      "----------\n",
      "train Loss: 0.6786 Acc: 0.7970\n",
      "val Loss: 0.1994 Acc: 0.9032\n",
      "\n",
      "Training complete in 4m 10s\n",
      "Best val Acc: 0.967742\n"
     ]
    }
   ],
   "source": [
    "criterion = nn.CrossEntropyLoss()\n",
    "\n",
    "# Train and evaluate\n",
    "model_ft, hist = train_model(model_ft, dataloaders_dict, criterion, optimizer_ft, num_epochs=num_epochs, is_inception=(model_name==\"inception\"))"
   ]
  },
  {
   "cell_type": "code",
   "execution_count": 38,
   "id": "streaming-wheel",
   "metadata": {},
   "outputs": [
    {
     "data": {
      "text/html": [
       "Waiting for W&B process to finish... <strong style=\"color:green\">(success).</strong>"
      ],
      "text/plain": [
       "<IPython.core.display.HTML object>"
      ]
     },
     "metadata": {},
     "output_type": "display_data"
    },
    {
     "data": {
      "application/vnd.jupyter.widget-view+json": {
       "model_id": "",
       "version_major": 2,
       "version_minor": 0
      },
      "text/plain": [
       "VBox(children=(Label(value='0.001 MB of 0.001 MB uploaded (0.000 MB deduped)\\r'), FloatProgress(value=1.0, max…"
      ]
     },
     "metadata": {},
     "output_type": "display_data"
    },
    {
     "data": {
      "text/html": [
       "<style>\n",
       "    table.wandb td:nth-child(1) { padding: 0 10px; text-align: left ; width: auto;} td:nth-child(2) {text-align: left ; width: 100%}\n",
       "    .wandb-row { display: flex; flex-direction: row; flex-wrap: wrap; justify-content: flex-start; width: 100% }\n",
       "    .wandb-col { display: flex; flex-direction: column; flex-basis: 100%; flex: 1; padding: 10px; }\n",
       "    </style>\n",
       "<div class=\"wandb-row\"><div class=\"wandb-col\"><h3>Run history:</h3><br/><table class=\"wandb\"><tr><td>Accuracy</td><td>▁▃▇▅▅█▇▅▅▇▇▅▆▇▇▆▅▇▇▅▆▇█▆▆▇▇▆▆▇▇▆▆▇▇▅▆▇▇▇</td></tr><tr><td>loss</td><td>▅▄▃▄▃▂▂▃▆▂▂▇▃▂▁▂▂▂▁▇▃▁▁▇█▁▂▂▃▂▂▄▁▁▁▂▂▂▂▁</td></tr></table><br/></div><div class=\"wandb-col\"><h3>Run summary:</h3><br/><table class=\"wandb\"><tr><td>Accuracy</td><td>0.90323</td></tr><tr><td>loss</td><td>0.20572</td></tr></table><br/></div></div>"
      ],
      "text/plain": [
       "<IPython.core.display.HTML object>"
      ]
     },
     "metadata": {},
     "output_type": "display_data"
    },
    {
     "data": {
      "text/html": [
       "Synced <strong style=\"color:#cdcd00\">easy-salad-6</strong>: <a href=\"https://wandb.ai/shreyan/causal_xai-utils/runs/oncxj6u6\" target=\"_blank\">https://wandb.ai/shreyan/causal_xai-utils/runs/oncxj6u6</a><br/>Synced 5 W&B file(s), 0 media file(s), 0 artifact file(s) and 0 other file(s)"
      ],
      "text/plain": [
       "<IPython.core.display.HTML object>"
      ]
     },
     "metadata": {},
     "output_type": "display_data"
    },
    {
     "data": {
      "text/html": [
       "Find logs at: <code>./wandb/run-20220614_181126-oncxj6u6/logs</code>"
      ],
      "text/plain": [
       "<IPython.core.display.HTML object>"
      ]
     },
     "metadata": {},
     "output_type": "display_data"
    }
   ],
   "source": [
    "wandb.finish()"
   ]
  },
  {
   "cell_type": "code",
   "execution_count": null,
   "id": "extra-newsletter",
   "metadata": {},
   "outputs": [],
   "source": [
    "model_ft"
   ]
  },
  {
   "cell_type": "code",
   "execution_count": 23,
   "id": "ordered-cricket",
   "metadata": {},
   "outputs": [
    {
     "data": {
      "text/plain": [
       "{'DINNER_FORK_KNIFE': 0, 'FISH_SLICE': 1, 'TEA_SPOON': 2}"
      ]
     },
     "execution_count": 23,
     "metadata": {},
     "output_type": "execute_result"
    }
   ],
   "source": [
    "image_datasets['train'].class_to_idx"
   ]
  },
  {
   "cell_type": "code",
   "execution_count": 17,
   "id": "electrical-hindu",
   "metadata": {},
   "outputs": [],
   "source": [
    "torch.save({\n",
    "    'acc': ,\n",
    "    'model':model_ft,\n",
    "    'classes': image_datasets['train'].class_to_idx,\n",
    "    'model_state_dict': model_ft.state_dict(),\n",
    "    }, \"inception_finetune_original.pkl\")\n"
   ]
  },
  {
   "cell_type": "code",
   "execution_count": null,
   "id": "collectible-network",
   "metadata": {},
   "outputs": [],
   "source": []
  }
 ],
 "metadata": {
  "kernelspec": {
   "display_name": "Python 3",
   "language": "python",
   "name": "python3"
  },
  "language_info": {
   "codemirror_mode": {
    "name": "ipython",
    "version": 3
   },
   "file_extension": ".py",
   "mimetype": "text/x-python",
   "name": "python",
   "nbconvert_exporter": "python",
   "pygments_lexer": "ipython3",
   "version": "3.8.10"
  }
 },
 "nbformat": 4,
 "nbformat_minor": 5
}
