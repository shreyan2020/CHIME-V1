{
 "cells": [
  {
   "cell_type": "code",
   "execution_count": 1,
   "id": "fossil-orchestra",
   "metadata": {},
   "outputs": [],
   "source": [
    "import itertools\n",
    "from itertools import permutations\n",
    "import pandas as pd\n",
    "import sqlite3\n",
    "import numpy as np\n",
    "import itertools"
   ]
  },
  {
   "cell_type": "code",
   "execution_count": 14,
   "id": "northern-management",
   "metadata": {},
   "outputs": [],
   "source": [
    "annotation_path = '../code/services/db.sqlite3'\n",
    "conn = sqlite3.connect(annotation_path)"
   ]
  },
  {
   "cell_type": "code",
   "execution_count": 15,
   "id": "devoted-breath",
   "metadata": {},
   "outputs": [],
   "source": [
    "df = pd.read_sql('select * from apiservice_Images', conn)"
   ]
  },
  {
   "cell_type": "code",
   "execution_count": null,
   "id": "refined-antigua",
   "metadata": {},
   "outputs": [],
   "source": [
    "samples = df.groupby('ModelName').sample(frac=.05, replace=False, random_state=1).copy()"
   ]
  },
  {
   "cell_type": "code",
   "execution_count": 38,
   "id": "passing-hindu",
   "metadata": {},
   "outputs": [],
   "source": [
    "def updateMultipleRecords(recordList):\n",
    "    try:\n",
    "        sqliteConnection = sqlite3.connect(annotation_path)\n",
    "        cursor = sqliteConnection.cursor()\n",
    "        print(\"Connected to SQLite\")\n",
    "\n",
    "        sqlite_update_query = \"\"\"Update apiservice_Images set iteration = ? where id = ?\"\"\"\n",
    "        cursor.executemany(sqlite_update_query, recordList)\n",
    "        sqliteConnection.commit()\n",
    "        print(\"Total\", cursor.rowcount, \"Records updated successfully\")\n",
    "        sqliteConnection.commit()\n",
    "        cursor.close()\n",
    "\n",
    "    except sqlite3.Error as error:\n",
    "        print(\"Failed to update multiple records of sqlite table\", error)\n",
    "    finally:\n",
    "        if sqliteConnection:\n",
    "            sqliteConnection.close()\n",
    "            print(\"The SQLite connection is closed\")\n",
    "\n"
   ]
  },
  {
   "cell_type": "code",
   "execution_count": 100,
   "id": "printable-noise",
   "metadata": {},
   "outputs": [],
   "source": [
    "records_to_update = list(samples[['iteration','Id']].itertuples(index=False,name=None))"
   ]
  },
  {
   "cell_type": "code",
   "execution_count": 101,
   "id": "precious-commons",
   "metadata": {},
   "outputs": [
    {
     "name": "stdout",
     "output_type": "stream",
     "text": [
      "Connected to SQLite\n",
      "Total 95 Records updated successfully\n",
      "The SQLite connection is closed\n"
     ]
    }
   ],
   "source": [
    "updateMultipleRecords(records_to_update)"
   ]
  },
  {
   "cell_type": "code",
   "execution_count": 97,
   "id": "unlike-hobby",
   "metadata": {},
   "outputs": [],
   "source": [
    "samples.to_csv('', index=False)"
   ]
  }
 ],
 "metadata": {
  "kernelspec": {
   "display_name": "Python 3",
   "language": "python",
   "name": "python3"
  },
  "language_info": {
   "codemirror_mode": {
    "name": "ipython",
    "version": 3
   },
   "file_extension": ".py",
   "mimetype": "text/x-python",
   "name": "python",
   "nbconvert_exporter": "python",
   "pygments_lexer": "ipython3",
   "version": "3.8.10"
  }
 },
 "nbformat": 4,
 "nbformat_minor": 5
}
