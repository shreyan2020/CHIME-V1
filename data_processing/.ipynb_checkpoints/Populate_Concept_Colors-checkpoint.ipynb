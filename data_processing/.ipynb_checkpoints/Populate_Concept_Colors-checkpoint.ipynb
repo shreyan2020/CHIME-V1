{
 "cells": [
  {
   "cell_type": "code",
   "execution_count": 10,
   "id": "precise-duplicate",
   "metadata": {},
   "outputs": [],
   "source": [
    "import pandas as pd\n",
    "import sqlite3"
   ]
  },
  {
   "cell_type": "code",
   "execution_count": 13,
   "id": "atmospheric-geography",
   "metadata": {},
   "outputs": [],
   "source": [
    "database_path = '../data/database/concepts.db'\n",
    "conn = sqlite3.connect(database_path)"
   ]
  },
  {
   "cell_type": "code",
   "execution_count": 14,
   "id": "rocky-excess",
   "metadata": {},
   "outputs": [
    {
     "data": {
      "text/html": [
       "<div>\n",
       "<style scoped>\n",
       "    .dataframe tbody tr th:only-of-type {\n",
       "        vertical-align: middle;\n",
       "    }\n",
       "\n",
       "    .dataframe tbody tr th {\n",
       "        vertical-align: top;\n",
       "    }\n",
       "\n",
       "    .dataframe thead th {\n",
       "        text-align: right;\n",
       "    }\n",
       "</style>\n",
       "<table border=\"1\" class=\"dataframe\">\n",
       "  <thead>\n",
       "    <tr style=\"text-align: right;\">\n",
       "      <th></th>\n",
       "      <th>Id</th>\n",
       "      <th>Color</th>\n",
       "    </tr>\n",
       "  </thead>\n",
       "  <tbody>\n",
       "    <tr>\n",
       "      <th>0</th>\n",
       "      <td>0</td>\n",
       "      <td>Light-Brown</td>\n",
       "    </tr>\n",
       "    <tr>\n",
       "      <th>1</th>\n",
       "      <td>1</td>\n",
       "      <td>Dark-Grey</td>\n",
       "    </tr>\n",
       "    <tr>\n",
       "      <th>2</th>\n",
       "      <td>2</td>\n",
       "      <td>White</td>\n",
       "    </tr>\n",
       "    <tr>\n",
       "      <th>3</th>\n",
       "      <td>3</td>\n",
       "      <td>White-Brown</td>\n",
       "    </tr>\n",
       "    <tr>\n",
       "      <th>4</th>\n",
       "      <td>4</td>\n",
       "      <td>Grey</td>\n",
       "    </tr>\n",
       "  </tbody>\n",
       "</table>\n",
       "</div>"
      ],
      "text/plain": [
       "   Id        Color\n",
       "0   0  Light-Brown\n",
       "1   1    Dark-Grey\n",
       "2   2        White\n",
       "3   3  White-Brown\n",
       "4   4         Grey"
      ]
     },
     "execution_count": 14,
     "metadata": {},
     "output_type": "execute_result"
    }
   ],
   "source": [
    "colors = pd.read_sql('select * from colors',conn)\n",
    "colors.head()"
   ]
  },
  {
   "cell_type": "code",
   "execution_count": 15,
   "id": "departmental-postcard",
   "metadata": {},
   "outputs": [],
   "source": [
    "colors.rename(columns={\"Id\": \"color_id\"},inplace=True)"
   ]
  },
  {
   "cell_type": "code",
   "execution_count": null,
   "id": "aggregate-consent",
   "metadata": {},
   "outputs": [],
   "source": [
    "temp = construct_sql(c, 4)"
   ]
  },
  {
   "cell_type": "code",
   "execution_count": 22,
   "id": "specified-circular",
   "metadata": {},
   "outputs": [],
   "source": [
    "mapping = {1:['Light-Brown', 'Dark-Brown', 'Brown', 'White',\n",
    "     'Black-Brown', 'Light-Brown-White', 'Brown-Grey', 'Yellow', 'Grey'],\n",
    "           2:['Black', 'Dark-brown', 'Brown', 'Light-Brown', 'Blue'],\n",
    "           3: ['Light-Brown', 'Dark-Brown', 'Grey','White', 'Brown', 'Light-Grey', 'Dark-Grey', 'White-Brown','Brown', 'White'],\n",
    "           4: ['Black', 'Reddish-Brown', 'Yellow-Green', 'Grey', 'Red', 'Olive', 'Blue', 'Light-Brown', 'Brown,-Yellow', 'Blue-Grey', 'Grey-Black', 'Black-Brown'],\n",
    "           5: ['Yellow','White'],\n",
    "           18: ['Grey', 'Purple', 'Black-White'],\n",
    "           19: ['Grey', 'White'],\n",
    "           6: ['Dark-Brown','Brown', 'White', 'Design', 'Yellow','Green'],\n",
    "           7: ['Grey', 'Brown', 'Red','Dark-Brown','Light-Brown'],\n",
    "           8: ['White','Brown'],\n",
    "           9: ['Black', 'White', 'Green','White'],\n",
    "           10: ['Brown'],\n",
    "           11: ['Brown','Grey','Black'],\n",
    "           12: ['Dark-Brown'],\n",
    "           13: ['Black'],\n",
    "           14: ['Brown'],\n",
    "           15: ['Brown', 'Olive', 'Black', 'Grey', 'Red', 'White', 'Light-Grey', 'Light-Brown'],\n",
    "           16: ['Blue', 'Brown', 'Black', 'White'],\n",
    "           17: ['Grey', 'Blue', 'Brown', 'Black']\n",
    "          }"
   ]
  },
  {
   "cell_type": "code",
   "execution_count": 23,
   "id": "cardiovascular-civilization",
   "metadata": {},
   "outputs": [],
   "source": [
    "for k in mapping.keys():\n",
    "    c = [x.lower() for x in mapping[k]]\n",
    "    c = set(c)\n",
    "    colors['Color'] = colors['Color'].str.lower()\n",
    "    temp = pd.DataFrame()\n",
    "    temp['color_id'] = colors[colors.Color.isin(c)]['color_id']\n",
    "    temp['concept_id'] = k\n",
    "    cnt = temp.to_sql('concept_color',con=conn,if_exists='append',index=False)\n",
    "    "
   ]
  },
  {
   "cell_type": "code",
   "execution_count": 24,
   "id": "elect-philippines",
   "metadata": {},
   "outputs": [],
   "source": [
    "df = pd.read_sql('select obj.name, obj.function, obj.shape, colors.Color from primary_concepts obj inner join concept_Color mid on obj.id = mid.concept_id inner join colors on mid.color_id=colors.id', conn)"
   ]
  },
  {
   "cell_type": "code",
   "execution_count": 25,
   "id": "downtown-bones",
   "metadata": {},
   "outputs": [
    {
     "data": {
      "text/html": [
       "<div>\n",
       "<style scoped>\n",
       "    .dataframe tbody tr th:only-of-type {\n",
       "        vertical-align: middle;\n",
       "    }\n",
       "\n",
       "    .dataframe tbody tr th {\n",
       "        vertical-align: top;\n",
       "    }\n",
       "\n",
       "    .dataframe thead th {\n",
       "        text-align: right;\n",
       "    }\n",
       "</style>\n",
       "<table border=\"1\" class=\"dataframe\">\n",
       "  <thead>\n",
       "    <tr style=\"text-align: right;\">\n",
       "      <th></th>\n",
       "      <th>Name</th>\n",
       "      <th>Function</th>\n",
       "      <th>Shape</th>\n",
       "      <th>Color</th>\n",
       "    </tr>\n",
       "  </thead>\n",
       "  <tbody>\n",
       "    <tr>\n",
       "      <th>0</th>\n",
       "      <td>Desk</td>\n",
       "      <td>Study</td>\n",
       "      <td>Rectangular</td>\n",
       "      <td>Light-Brown</td>\n",
       "    </tr>\n",
       "    <tr>\n",
       "      <th>1</th>\n",
       "      <td>Desk</td>\n",
       "      <td>Study</td>\n",
       "      <td>Rectangular</td>\n",
       "      <td>White</td>\n",
       "    </tr>\n",
       "    <tr>\n",
       "      <th>2</th>\n",
       "      <td>Desk</td>\n",
       "      <td>Study</td>\n",
       "      <td>Rectangular</td>\n",
       "      <td>Grey</td>\n",
       "    </tr>\n",
       "    <tr>\n",
       "      <th>3</th>\n",
       "      <td>Desk</td>\n",
       "      <td>Study</td>\n",
       "      <td>Rectangular</td>\n",
       "      <td>Dark-Brown</td>\n",
       "    </tr>\n",
       "    <tr>\n",
       "      <th>4</th>\n",
       "      <td>Desk</td>\n",
       "      <td>Study</td>\n",
       "      <td>Rectangular</td>\n",
       "      <td>Brown-Grey</td>\n",
       "    </tr>\n",
       "  </tbody>\n",
       "</table>\n",
       "</div>"
      ],
      "text/plain": [
       "   Name Function        Shape        Color\n",
       "0  Desk    Study  Rectangular  Light-Brown\n",
       "1  Desk    Study  Rectangular        White\n",
       "2  Desk    Study  Rectangular         Grey\n",
       "3  Desk    Study  Rectangular   Dark-Brown\n",
       "4  Desk    Study  Rectangular   Brown-Grey"
      ]
     },
     "execution_count": 25,
     "metadata": {},
     "output_type": "execute_result"
    }
   ],
   "source": [
    "df.head()"
   ]
  },
  {
   "cell_type": "code",
   "execution_count": 26,
   "id": "institutional-ability",
   "metadata": {},
   "outputs": [
    {
     "data": {
      "text/plain": [
       "79"
      ]
     },
     "execution_count": 26,
     "metadata": {},
     "output_type": "execute_result"
    }
   ],
   "source": [
    "list(itertools.product(*lists)), columns=['aa', 'bb', 'cc'"
   ]
  }
 ],
 "metadata": {
  "kernelspec": {
   "display_name": "Python 3",
   "language": "python",
   "name": "python3"
  },
  "language_info": {
   "codemirror_mode": {
    "name": "ipython",
    "version": 3
   },
   "file_extension": ".py",
   "mimetype": "text/x-python",
   "name": "python",
   "nbconvert_exporter": "python",
   "pygments_lexer": "ipython3",
   "version": "3.8.10"
  }
 },
 "nbformat": 4,
 "nbformat_minor": 5
}
